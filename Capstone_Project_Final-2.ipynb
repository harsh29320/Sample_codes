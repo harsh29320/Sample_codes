{
 "cells": [
  {
   "cell_type": "code",
   "execution_count": 1,
   "metadata": {},
   "outputs": [],
   "source": [
    "%matplotlib inline\n",
    "\n",
    "import pandas as pd\n",
    "import numpy as np\n",
    "\n",
    "#packages for EDA\n",
    "import seaborn as sns\n",
    "import matplotlib.pyplot as plt\n",
    "from scipy import stats\n",
    "sns.set()\n",
    "\n",
    "#packages for model development\n",
    "from sklearn.feature_selection import SelectFromModel\n",
    "from sklearn.ensemble import RandomForestRegressor\n",
    "from sklearn.linear_model import ElasticNet\n",
    "from sklearn.metrics import mean_squared_error\n",
    "from sklearn.model_selection import GridSearchCV, train_test_split\n",
    "from sklearn.preprocessing import StandardScaler\n",
    "from sklearn.pipeline import Pipeline"
   ]
  },
  {
   "cell_type": "code",
   "execution_count": 2,
   "metadata": {},
   "outputs": [],
   "source": [
    "from sklearn import linear_model"
   ]
  },
  {
   "cell_type": "code",
   "execution_count": 3,
   "metadata": {},
   "outputs": [],
   "source": [
    "import plotly\n",
    "import plotly.plotly as py"
   ]
  },
  {
   "cell_type": "code",
   "execution_count": 4,
   "metadata": {},
   "outputs": [],
   "source": [
    "plotly.tools.set_credentials_file(username='hsingh29320', api_key='g5LPqUCukdjHa2GqC2rh')\n"
   ]
  },
  {
   "cell_type": "code",
   "execution_count": 4,
   "metadata": {
    "scrolled": true
   },
   "outputs": [],
   "source": [
    "#get excel file using url\n",
    "#xl = pd.ExcelFile (\"C:/Users/harshvardhan/Dropbox/Springboard/Story/August2015.xls\")\n",
    "xl= pd.ExcelFile(\"C:/Users/270168/Downloads/personal/Sample_codes-master/Sample_codes-master/August2015.xls\")"
   ]
  },
  {
   "cell_type": "code",
   "execution_count": null,
   "metadata": {},
   "outputs": [],
   "source": []
  },
  {
   "cell_type": "code",
   "execution_count": 76,
   "metadata": {},
   "outputs": [],
   "source": [
    "\n",
    "#df_code = pd.read_csv(\"C:/Users/harshvardhan/Dropbox/Springboard/Story/code.csv\")\n",
    "df_code= pd.read_csv(\"C:/Users/270168/Downloads/personal/Sample_codes-master/2011_us_ag_exports.csv\")"
   ]
  },
  {
   "cell_type": "code",
   "execution_count": 77,
   "metadata": {},
   "outputs": [
    {
     "data": {
      "text/html": [
       "<div>\n",
       "<style scoped>\n",
       "    .dataframe tbody tr th:only-of-type {\n",
       "        vertical-align: middle;\n",
       "    }\n",
       "\n",
       "    .dataframe tbody tr th {\n",
       "        vertical-align: top;\n",
       "    }\n",
       "\n",
       "    .dataframe thead th {\n",
       "        text-align: right;\n",
       "    }\n",
       "</style>\n",
       "<table border=\"1\" class=\"dataframe\">\n",
       "  <thead>\n",
       "    <tr style=\"text-align: right;\">\n",
       "      <th></th>\n",
       "      <th>code</th>\n",
       "      <th>state</th>\n",
       "      <th>category</th>\n",
       "      <th>total exports</th>\n",
       "      <th>beef</th>\n",
       "      <th>pork</th>\n",
       "      <th>poultry</th>\n",
       "      <th>dairy</th>\n",
       "      <th>fruits fresh</th>\n",
       "      <th>fruits proc</th>\n",
       "      <th>total fruits</th>\n",
       "      <th>veggies fresh</th>\n",
       "      <th>veggies proc</th>\n",
       "      <th>total veggies</th>\n",
       "      <th>corn</th>\n",
       "      <th>wheat</th>\n",
       "      <th>cotton</th>\n",
       "    </tr>\n",
       "  </thead>\n",
       "  <tbody>\n",
       "    <tr>\n",
       "      <th>0</th>\n",
       "      <td>AL</td>\n",
       "      <td>Alabama</td>\n",
       "      <td>state</td>\n",
       "      <td>1390.63</td>\n",
       "      <td>34.4</td>\n",
       "      <td>10.6</td>\n",
       "      <td>481.0</td>\n",
       "      <td>4.06</td>\n",
       "      <td>8.0</td>\n",
       "      <td>17.1</td>\n",
       "      <td>25.11</td>\n",
       "      <td>5.5</td>\n",
       "      <td>8.9</td>\n",
       "      <td>14.33</td>\n",
       "      <td>34.9</td>\n",
       "      <td>70.0</td>\n",
       "      <td>317.61</td>\n",
       "    </tr>\n",
       "    <tr>\n",
       "      <th>1</th>\n",
       "      <td>AK</td>\n",
       "      <td>Alaska</td>\n",
       "      <td>state</td>\n",
       "      <td>13.31</td>\n",
       "      <td>0.2</td>\n",
       "      <td>0.1</td>\n",
       "      <td>0.0</td>\n",
       "      <td>0.19</td>\n",
       "      <td>0.0</td>\n",
       "      <td>0.0</td>\n",
       "      <td>0.00</td>\n",
       "      <td>0.6</td>\n",
       "      <td>1.0</td>\n",
       "      <td>1.56</td>\n",
       "      <td>0.0</td>\n",
       "      <td>0.0</td>\n",
       "      <td>0.00</td>\n",
       "    </tr>\n",
       "    <tr>\n",
       "      <th>2</th>\n",
       "      <td>AZ</td>\n",
       "      <td>Arizona</td>\n",
       "      <td>state</td>\n",
       "      <td>1463.17</td>\n",
       "      <td>71.3</td>\n",
       "      <td>17.9</td>\n",
       "      <td>0.0</td>\n",
       "      <td>105.48</td>\n",
       "      <td>19.3</td>\n",
       "      <td>41.0</td>\n",
       "      <td>60.27</td>\n",
       "      <td>147.5</td>\n",
       "      <td>239.4</td>\n",
       "      <td>386.91</td>\n",
       "      <td>7.3</td>\n",
       "      <td>48.7</td>\n",
       "      <td>423.95</td>\n",
       "    </tr>\n",
       "    <tr>\n",
       "      <th>3</th>\n",
       "      <td>AR</td>\n",
       "      <td>Arkansas</td>\n",
       "      <td>state</td>\n",
       "      <td>3586.02</td>\n",
       "      <td>53.2</td>\n",
       "      <td>29.4</td>\n",
       "      <td>562.9</td>\n",
       "      <td>3.53</td>\n",
       "      <td>2.2</td>\n",
       "      <td>4.7</td>\n",
       "      <td>6.88</td>\n",
       "      <td>4.4</td>\n",
       "      <td>7.1</td>\n",
       "      <td>11.45</td>\n",
       "      <td>69.5</td>\n",
       "      <td>114.5</td>\n",
       "      <td>665.44</td>\n",
       "    </tr>\n",
       "    <tr>\n",
       "      <th>4</th>\n",
       "      <td>CA</td>\n",
       "      <td>California</td>\n",
       "      <td>state</td>\n",
       "      <td>16472.88</td>\n",
       "      <td>228.7</td>\n",
       "      <td>11.1</td>\n",
       "      <td>225.4</td>\n",
       "      <td>929.95</td>\n",
       "      <td>2791.8</td>\n",
       "      <td>5944.6</td>\n",
       "      <td>8736.40</td>\n",
       "      <td>803.2</td>\n",
       "      <td>1303.5</td>\n",
       "      <td>2106.79</td>\n",
       "      <td>34.6</td>\n",
       "      <td>249.3</td>\n",
       "      <td>1064.95</td>\n",
       "    </tr>\n",
       "  </tbody>\n",
       "</table>\n",
       "</div>"
      ],
      "text/plain": [
       "  code       state category  total exports   beef  pork  poultry   dairy  \\\n",
       "0   AL     Alabama    state        1390.63   34.4  10.6    481.0    4.06   \n",
       "1   AK      Alaska    state          13.31    0.2   0.1      0.0    0.19   \n",
       "2   AZ     Arizona    state        1463.17   71.3  17.9      0.0  105.48   \n",
       "3   AR    Arkansas    state        3586.02   53.2  29.4    562.9    3.53   \n",
       "4   CA  California    state       16472.88  228.7  11.1    225.4  929.95   \n",
       "\n",
       "   fruits fresh  fruits proc  total fruits  veggies fresh  veggies proc  \\\n",
       "0           8.0         17.1         25.11            5.5           8.9   \n",
       "1           0.0          0.0          0.00            0.6           1.0   \n",
       "2          19.3         41.0         60.27          147.5         239.4   \n",
       "3           2.2          4.7          6.88            4.4           7.1   \n",
       "4        2791.8       5944.6       8736.40          803.2        1303.5   \n",
       "\n",
       "   total veggies  corn  wheat   cotton  \n",
       "0          14.33  34.9   70.0   317.61  \n",
       "1           1.56   0.0    0.0     0.00  \n",
       "2         386.91   7.3   48.7   423.95  \n",
       "3          11.45  69.5  114.5   665.44  \n",
       "4        2106.79  34.6  249.3  1064.95  "
      ]
     },
     "execution_count": 77,
     "metadata": {},
     "output_type": "execute_result"
    }
   ],
   "source": [
    "df_code.head()"
   ]
  },
  {
   "cell_type": "code",
   "execution_count": 72,
   "metadata": {},
   "outputs": [
    {
     "ename": "NameError",
     "evalue": "name 'df_code' is not defined",
     "output_type": "error",
     "traceback": [
      "\u001b[1;31m---------------------------------------------------------------------------\u001b[0m",
      "\u001b[1;31mNameError\u001b[0m                                 Traceback (most recent call last)",
      "\u001b[1;32m<ipython-input-72-5726a076c81e>\u001b[0m in \u001b[0;36m<module>\u001b[1;34m()\u001b[0m\n\u001b[1;32m----> 1\u001b[1;33m \u001b[0mdf_code\u001b[0m\u001b[1;33m.\u001b[0m\u001b[0mto_csv\u001b[0m\u001b[1;33m(\u001b[0m\u001b[1;34m\"C:/Users/270168/Downloads/personal/Sample_codes-master/Sample_codes-master/code.csv\"\u001b[0m\u001b[1;33m)\u001b[0m\u001b[1;33m\u001b[0m\u001b[0m\n\u001b[0m",
      "\u001b[1;31mNameError\u001b[0m: name 'df_code' is not defined"
     ]
    }
   ],
   "source": [
    "df_code.to_csv(\"C:/Users/270168/Downloads/personal/Sample_codes-master/Sample_codes-master/code.csv\")"
   ]
  },
  {
   "cell_type": "code",
   "execution_count": 7,
   "metadata": {},
   "outputs": [],
   "source": [
    "#parse sheet of data dictionary\n",
    "data_dict = xl.parse('Supplemental Data - State')"
   ]
  },
  {
   "cell_type": "code",
   "execution_count": 8,
   "metadata": {},
   "outputs": [],
   "source": [
    "data_rest = xl.parse('RESTAURANTS')"
   ]
  },
  {
   "cell_type": "code",
   "execution_count": 9,
   "metadata": {},
   "outputs": [],
   "source": [
    "data_health = xl.parse('HEALTH')"
   ]
  },
  {
   "cell_type": "code",
   "execution_count": 10,
   "metadata": {},
   "outputs": [
    {
     "data": {
      "text/html": [
       "<div>\n",
       "<style scoped>\n",
       "    .dataframe tbody tr th:only-of-type {\n",
       "        vertical-align: middle;\n",
       "    }\n",
       "\n",
       "    .dataframe tbody tr th {\n",
       "        vertical-align: top;\n",
       "    }\n",
       "\n",
       "    .dataframe thead th {\n",
       "        text-align: right;\n",
       "    }\n",
       "</style>\n",
       "<table border=\"1\" class=\"dataframe\">\n",
       "  <thead>\n",
       "    <tr style=\"text-align: right;\">\n",
       "      <th></th>\n",
       "      <th>State</th>\n",
       "      <th>WIC participants FY 2009</th>\n",
       "      <th>WIC participants FY 2011</th>\n",
       "      <th>WIC participants, FY 2012</th>\n",
       "      <th>WIC participants, FY 2013</th>\n",
       "      <th>WIC participants, FY 2014</th>\n",
       "      <th>National School Lunch Program participants FY 2009</th>\n",
       "      <th>National School Lunch Program participants FY 2011</th>\n",
       "      <th>National School Lunch Program participants, FY 2012</th>\n",
       "      <th>National School Lunch Program participants, FY 2013</th>\n",
       "      <th>...</th>\n",
       "      <th>Summer Food participants, FY 2012</th>\n",
       "      <th>Summer Food participants, FY 2013</th>\n",
       "      <th>Summer Food participants, FY 2014</th>\n",
       "      <th>State Population, 2008</th>\n",
       "      <th>State Population, 2009</th>\n",
       "      <th>State Population, 2010</th>\n",
       "      <th>State Population,  2011</th>\n",
       "      <th>State Population, 2012</th>\n",
       "      <th>State Population,  2013</th>\n",
       "      <th>State Population,  2014</th>\n",
       "    </tr>\n",
       "  </thead>\n",
       "  <tbody>\n",
       "    <tr>\n",
       "      <th>0</th>\n",
       "      <td>Alabama</td>\n",
       "      <td>140810.0</td>\n",
       "      <td>143768.0</td>\n",
       "      <td>141900.0</td>\n",
       "      <td>1.390005e+05</td>\n",
       "      <td>1.310462e+05</td>\n",
       "      <td>579880.0</td>\n",
       "      <td>571291.0</td>\n",
       "      <td>562959.0</td>\n",
       "      <td>539664</td>\n",
       "      <td>...</td>\n",
       "      <td>26423.0</td>\n",
       "      <td>30308.0</td>\n",
       "      <td>42369.0</td>\n",
       "      <td>4677464.0</td>\n",
       "      <td>4708708.0</td>\n",
       "      <td>4785401.0</td>\n",
       "      <td>4802740.0</td>\n",
       "      <td>4817528.0</td>\n",
       "      <td>4833722.0</td>\n",
       "      <td>4849377.0</td>\n",
       "    </tr>\n",
       "    <tr>\n",
       "      <th>1</th>\n",
       "      <td>Alaska</td>\n",
       "      <td>25816.0</td>\n",
       "      <td>26295.0</td>\n",
       "      <td>24969.0</td>\n",
       "      <td>2.305467e+04</td>\n",
       "      <td>2.010658e+04</td>\n",
       "      <td>53554.0</td>\n",
       "      <td>54410.0</td>\n",
       "      <td>53920.0</td>\n",
       "      <td>52495</td>\n",
       "      <td>...</td>\n",
       "      <td>4661.0</td>\n",
       "      <td>5078.0</td>\n",
       "      <td>6670.0</td>\n",
       "      <td>688125.0</td>\n",
       "      <td>698473.0</td>\n",
       "      <td>714146.0</td>\n",
       "      <td>722718.0</td>\n",
       "      <td>730307.0</td>\n",
       "      <td>735132.0</td>\n",
       "      <td>736732.0</td>\n",
       "    </tr>\n",
       "    <tr>\n",
       "      <th>2</th>\n",
       "      <td>Arizona</td>\n",
       "      <td>208873.0</td>\n",
       "      <td>199343.0</td>\n",
       "      <td>193214.0</td>\n",
       "      <td>1.825008e+05</td>\n",
       "      <td>1.729551e+05</td>\n",
       "      <td>655498.0</td>\n",
       "      <td>661437.0</td>\n",
       "      <td>662564.0</td>\n",
       "      <td>646946</td>\n",
       "      <td>...</td>\n",
       "      <td>27554.0</td>\n",
       "      <td>23688.0</td>\n",
       "      <td>23231.0</td>\n",
       "      <td>6499377.0</td>\n",
       "      <td>6595778.0</td>\n",
       "      <td>6413158.0</td>\n",
       "      <td>6482505.0</td>\n",
       "      <td>6551149.0</td>\n",
       "      <td>6626624.0</td>\n",
       "      <td>6731484.0</td>\n",
       "    </tr>\n",
       "    <tr>\n",
       "      <th>3</th>\n",
       "      <td>Arkansas</td>\n",
       "      <td>94107.0</td>\n",
       "      <td>93461.0</td>\n",
       "      <td>94293.0</td>\n",
       "      <td>8.977683e+04</td>\n",
       "      <td>8.326325e+04</td>\n",
       "      <td>351950.0</td>\n",
       "      <td>352818.0</td>\n",
       "      <td>348909.0</td>\n",
       "      <td>332497</td>\n",
       "      <td>...</td>\n",
       "      <td>26217.0</td>\n",
       "      <td>41946.0</td>\n",
       "      <td>45837.0</td>\n",
       "      <td>2867764.0</td>\n",
       "      <td>2889450.0</td>\n",
       "      <td>2921588.0</td>\n",
       "      <td>2937979.0</td>\n",
       "      <td>2949828.0</td>\n",
       "      <td>2959373.0</td>\n",
       "      <td>2966369.0</td>\n",
       "    </tr>\n",
       "    <tr>\n",
       "      <th>4</th>\n",
       "      <td>California</td>\n",
       "      <td>1439006.0</td>\n",
       "      <td>1466564.0</td>\n",
       "      <td>1472468.0</td>\n",
       "      <td>1.431881e+06</td>\n",
       "      <td>1.349419e+06</td>\n",
       "      <td>3175063.0</td>\n",
       "      <td>3281699.0</td>\n",
       "      <td>3333410.0</td>\n",
       "      <td>3.29118e+06</td>\n",
       "      <td>...</td>\n",
       "      <td>104428.0</td>\n",
       "      <td>114691.0</td>\n",
       "      <td>115841.0</td>\n",
       "      <td>36580371.0</td>\n",
       "      <td>36961664.0</td>\n",
       "      <td>37338198.0</td>\n",
       "      <td>37691912.0</td>\n",
       "      <td>37999878.0</td>\n",
       "      <td>38332521.0</td>\n",
       "      <td>38802500.0</td>\n",
       "    </tr>\n",
       "    <tr>\n",
       "      <th>5</th>\n",
       "      <td>Colorado</td>\n",
       "      <td>107930.0</td>\n",
       "      <td>104129.0</td>\n",
       "      <td>103769.0</td>\n",
       "      <td>9.687358e+04</td>\n",
       "      <td>9.199092e+04</td>\n",
       "      <td>390868.0</td>\n",
       "      <td>399393.0</td>\n",
       "      <td>389955.0</td>\n",
       "      <td>375023</td>\n",
       "      <td>...</td>\n",
       "      <td>16646.0</td>\n",
       "      <td>17933.0</td>\n",
       "      <td>19076.0</td>\n",
       "      <td>4935213.0</td>\n",
       "      <td>5024748.0</td>\n",
       "      <td>5047692.0</td>\n",
       "      <td>5116796.0</td>\n",
       "      <td>5189458.0</td>\n",
       "      <td>5268367.0</td>\n",
       "      <td>5355866.0</td>\n",
       "    </tr>\n",
       "    <tr>\n",
       "      <th>6</th>\n",
       "      <td>Connecticut</td>\n",
       "      <td>60148.0</td>\n",
       "      <td>56083.0</td>\n",
       "      <td>56584.0</td>\n",
       "      <td>5.424817e+04</td>\n",
       "      <td>5.256075e+04</td>\n",
       "      <td>302997.0</td>\n",
       "      <td>301545.0</td>\n",
       "      <td>296699.0</td>\n",
       "      <td>280253</td>\n",
       "      <td>...</td>\n",
       "      <td>10185.0</td>\n",
       "      <td>12171.0</td>\n",
       "      <td>17274.0</td>\n",
       "      <td>3502932.0</td>\n",
       "      <td>3518288.0</td>\n",
       "      <td>3575498.0</td>\n",
       "      <td>3580709.0</td>\n",
       "      <td>3591765.0</td>\n",
       "      <td>3596080.0</td>\n",
       "      <td>3596677.0</td>\n",
       "    </tr>\n",
       "    <tr>\n",
       "      <th>7</th>\n",
       "      <td>Delaware</td>\n",
       "      <td>24028.0</td>\n",
       "      <td>22553.0</td>\n",
       "      <td>22214.0</td>\n",
       "      <td>2.079692e+04</td>\n",
       "      <td>1.981308e+04</td>\n",
       "      <td>90073.0</td>\n",
       "      <td>94722.0</td>\n",
       "      <td>96040.0</td>\n",
       "      <td>94570.8</td>\n",
       "      <td>...</td>\n",
       "      <td>14366.0</td>\n",
       "      <td>8190.0</td>\n",
       "      <td>7018.0</td>\n",
       "      <td>876211.0</td>\n",
       "      <td>885122.0</td>\n",
       "      <td>899792.0</td>\n",
       "      <td>907135.0</td>\n",
       "      <td>917053.0</td>\n",
       "      <td>925749.0</td>\n",
       "      <td>935614.0</td>\n",
       "    </tr>\n",
       "    <tr>\n",
       "      <th>8</th>\n",
       "      <td>District of Columbia</td>\n",
       "      <td>17473.0</td>\n",
       "      <td>16537.0</td>\n",
       "      <td>16474.0</td>\n",
       "      <td>1.567425e+04</td>\n",
       "      <td>1.450050e+04</td>\n",
       "      <td>44579.0</td>\n",
       "      <td>46699.0</td>\n",
       "      <td>47735.0</td>\n",
       "      <td>50501.6</td>\n",
       "      <td>...</td>\n",
       "      <td>36158.0</td>\n",
       "      <td>34778.0</td>\n",
       "      <td>39449.0</td>\n",
       "      <td>590074.0</td>\n",
       "      <td>599657.0</td>\n",
       "      <td>604912.0</td>\n",
       "      <td>617996.0</td>\n",
       "      <td>633427.0</td>\n",
       "      <td>646449.0</td>\n",
       "      <td>658893.0</td>\n",
       "    </tr>\n",
       "    <tr>\n",
       "      <th>9</th>\n",
       "      <td>Florida</td>\n",
       "      <td>505671.0</td>\n",
       "      <td>492071.0</td>\n",
       "      <td>495405.0</td>\n",
       "      <td>4.835647e+05</td>\n",
       "      <td>4.704076e+05</td>\n",
       "      <td>1560392.0</td>\n",
       "      <td>1648792.0</td>\n",
       "      <td>1653935.0</td>\n",
       "      <td>1.63878e+06</td>\n",
       "      <td>...</td>\n",
       "      <td>137796.0</td>\n",
       "      <td>145389.0</td>\n",
       "      <td>155455.0</td>\n",
       "      <td>18423878.0</td>\n",
       "      <td>18537969.0</td>\n",
       "      <td>18838613.0</td>\n",
       "      <td>19057542.0</td>\n",
       "      <td>19320749.0</td>\n",
       "      <td>19552860.0</td>\n",
       "      <td>19893297.0</td>\n",
       "    </tr>\n",
       "  </tbody>\n",
       "</table>\n",
       "<p>10 rows × 33 columns</p>\n",
       "</div>"
      ],
      "text/plain": [
       "               State     WIC participants FY 2009  WIC participants FY 2011  \\\n",
       "0               Alabama                  140810.0                  143768.0   \n",
       "1                Alaska                   25816.0                   26295.0   \n",
       "2               Arizona                  208873.0                  199343.0   \n",
       "3              Arkansas                   94107.0                   93461.0   \n",
       "4            California                 1439006.0                 1466564.0   \n",
       "5              Colorado                  107930.0                  104129.0   \n",
       "6           Connecticut                   60148.0                   56083.0   \n",
       "7              Delaware                   24028.0                   22553.0   \n",
       "8  District of Columbia                   17473.0                   16537.0   \n",
       "9               Florida                  505671.0                  492071.0   \n",
       "\n",
       "   WIC participants, FY 2012  WIC participants, FY 2013  \\\n",
       "0                   141900.0               1.390005e+05   \n",
       "1                    24969.0               2.305467e+04   \n",
       "2                   193214.0               1.825008e+05   \n",
       "3                    94293.0               8.977683e+04   \n",
       "4                  1472468.0               1.431881e+06   \n",
       "5                   103769.0               9.687358e+04   \n",
       "6                    56584.0               5.424817e+04   \n",
       "7                    22214.0               2.079692e+04   \n",
       "8                    16474.0               1.567425e+04   \n",
       "9                   495405.0               4.835647e+05   \n",
       "\n",
       "   WIC participants, FY 2014  \\\n",
       "0               1.310462e+05   \n",
       "1               2.010658e+04   \n",
       "2               1.729551e+05   \n",
       "3               8.326325e+04   \n",
       "4               1.349419e+06   \n",
       "5               9.199092e+04   \n",
       "6               5.256075e+04   \n",
       "7               1.981308e+04   \n",
       "8               1.450050e+04   \n",
       "9               4.704076e+05   \n",
       "\n",
       "   National School Lunch Program participants FY 2009  \\\n",
       "0                                           579880.0    \n",
       "1                                            53554.0    \n",
       "2                                           655498.0    \n",
       "3                                           351950.0    \n",
       "4                                          3175063.0    \n",
       "5                                           390868.0    \n",
       "6                                           302997.0    \n",
       "7                                            90073.0    \n",
       "8                                            44579.0    \n",
       "9                                          1560392.0    \n",
       "\n",
       "   National School Lunch Program participants FY 2011  \\\n",
       "0                                           571291.0    \n",
       "1                                            54410.0    \n",
       "2                                           661437.0    \n",
       "3                                           352818.0    \n",
       "4                                          3281699.0    \n",
       "5                                           399393.0    \n",
       "6                                           301545.0    \n",
       "7                                            94722.0    \n",
       "8                                            46699.0    \n",
       "9                                          1648792.0    \n",
       "\n",
       "   National School Lunch Program participants, FY 2012  \\\n",
       "0                                           562959.0     \n",
       "1                                            53920.0     \n",
       "2                                           662564.0     \n",
       "3                                           348909.0     \n",
       "4                                          3333410.0     \n",
       "5                                           389955.0     \n",
       "6                                           296699.0     \n",
       "7                                            96040.0     \n",
       "8                                            47735.0     \n",
       "9                                          1653935.0     \n",
       "\n",
       "  National School Lunch Program participants, FY 2013  \\\n",
       "0                                             539664    \n",
       "1                                              52495    \n",
       "2                                             646946    \n",
       "3                                             332497    \n",
       "4                                        3.29118e+06    \n",
       "5                                             375023    \n",
       "6                                             280253    \n",
       "7                                            94570.8    \n",
       "8                                            50501.6    \n",
       "9                                        1.63878e+06    \n",
       "\n",
       "            ...            Summer Food participants, FY 2012  \\\n",
       "0           ...                                      26423.0   \n",
       "1           ...                                       4661.0   \n",
       "2           ...                                      27554.0   \n",
       "3           ...                                      26217.0   \n",
       "4           ...                                     104428.0   \n",
       "5           ...                                      16646.0   \n",
       "6           ...                                      10185.0   \n",
       "7           ...                                      14366.0   \n",
       "8           ...                                      36158.0   \n",
       "9           ...                                     137796.0   \n",
       "\n",
       "   Summer Food participants, FY 2013  Summer Food participants, FY 2014  \\\n",
       "0                            30308.0                            42369.0   \n",
       "1                             5078.0                             6670.0   \n",
       "2                            23688.0                            23231.0   \n",
       "3                            41946.0                            45837.0   \n",
       "4                           114691.0                           115841.0   \n",
       "5                            17933.0                            19076.0   \n",
       "6                            12171.0                            17274.0   \n",
       "7                             8190.0                             7018.0   \n",
       "8                            34778.0                            39449.0   \n",
       "9                           145389.0                           155455.0   \n",
       "\n",
       "   State Population, 2008  State Population, 2009  State Population, 2010  \\\n",
       "0               4677464.0               4708708.0               4785401.0   \n",
       "1                688125.0                698473.0                714146.0   \n",
       "2               6499377.0               6595778.0               6413158.0   \n",
       "3               2867764.0               2889450.0               2921588.0   \n",
       "4              36580371.0              36961664.0              37338198.0   \n",
       "5               4935213.0               5024748.0               5047692.0   \n",
       "6               3502932.0               3518288.0               3575498.0   \n",
       "7                876211.0                885122.0                899792.0   \n",
       "8                590074.0                599657.0                604912.0   \n",
       "9              18423878.0              18537969.0              18838613.0   \n",
       "\n",
       "   State Population,  2011  State Population, 2012  State Population,  2013  \\\n",
       "0                4802740.0               4817528.0                4833722.0   \n",
       "1                 722718.0                730307.0                 735132.0   \n",
       "2                6482505.0               6551149.0                6626624.0   \n",
       "3                2937979.0               2949828.0                2959373.0   \n",
       "4               37691912.0              37999878.0               38332521.0   \n",
       "5                5116796.0               5189458.0                5268367.0   \n",
       "6                3580709.0               3591765.0                3596080.0   \n",
       "7                 907135.0                917053.0                 925749.0   \n",
       "8                 617996.0                633427.0                 646449.0   \n",
       "9               19057542.0              19320749.0               19552860.0   \n",
       "\n",
       "   State Population,  2014  \n",
       "0                4849377.0  \n",
       "1                 736732.0  \n",
       "2                6731484.0  \n",
       "3                2966369.0  \n",
       "4               38802500.0  \n",
       "5                5355866.0  \n",
       "6                3596677.0  \n",
       "7                 935614.0  \n",
       "8                 658893.0  \n",
       "9               19893297.0  \n",
       "\n",
       "[10 rows x 33 columns]"
      ]
     },
     "execution_count": 10,
     "metadata": {},
     "output_type": "execute_result"
    }
   ],
   "source": [
    "#check head of the data dictionary\n",
    "data_dict.head(10)"
   ]
  },
  {
   "cell_type": "code",
   "execution_count": 12,
   "metadata": {},
   "outputs": [],
   "source": [
    "df = data_dict"
   ]
  },
  {
   "cell_type": "code",
   "execution_count": 10,
   "metadata": {},
   "outputs": [],
   "source": [
    "for col in df:\n",
    "    df[col] = df[col].astype(str)"
   ]
  },
  {
   "cell_type": "code",
   "execution_count": 11,
   "metadata": {},
   "outputs": [
    {
     "data": {
      "text/plain": [
       "Index(['State   ', 'WIC participants FY 2009', 'WIC participants FY 2011',\n",
       "       'WIC participants, FY 2012', 'WIC participants, FY 2013',\n",
       "       'WIC participants, FY 2014',\n",
       "       'National School Lunch Program participants FY 2009',\n",
       "       'National School Lunch Program participants FY 2011',\n",
       "       'National School Lunch Program participants, FY 2012',\n",
       "       'National School Lunch Program participants, FY 2013',\n",
       "       'National School Lunch Program participants, FY 2014',\n",
       "       'School Breakfast Program participants FY 2009',\n",
       "       'School Breakfast Program participants FY 2011',\n",
       "       'School Breakfast Program participants, FY 2012',\n",
       "       'School Breakfast Program participants, FY 2013',\n",
       "       'School Breakfast Program participants, FY 2014',\n",
       "       'Child and Adult Care particpants FY 2009',\n",
       "       'Child and Adult Care particpants FY 2011',\n",
       "       'Child and Adult Care participants, FY 2012',\n",
       "       'Child and Adult Care participants, FY 2013',\n",
       "       'Child and Adult Care participants, FY 2014',\n",
       "       'Summer Food particpants FY 2009', 'Summer Food participants FY 2011',\n",
       "       'Summer Food participants, FY 2012',\n",
       "       'Summer Food participants, FY 2013',\n",
       "       'Summer Food participants, FY 2014', 'State Population, 2008',\n",
       "       'State Population, 2009', 'State Population, 2010',\n",
       "       'State Population,  2011', 'State Population, 2012',\n",
       "       'State Population,  2013', 'State Population,  2014'],\n",
       "      dtype='object')"
      ]
     },
     "execution_count": 11,
     "metadata": {},
     "output_type": "execute_result"
    }
   ],
   "source": [
    "df.columns"
   ]
  },
  {
   "cell_type": "code",
   "execution_count": 13,
   "metadata": {},
   "outputs": [],
   "source": [
    "df = df.drop(df.index[51])"
   ]
  },
  {
   "cell_type": "code",
   "execution_count": 14,
   "metadata": {},
   "outputs": [
    {
     "ename": "NameError",
     "evalue": "name 'df_code' is not defined",
     "output_type": "error",
     "traceback": [
      "\u001b[1;31m---------------------------------------------------------------------------\u001b[0m",
      "\u001b[1;31mNameError\u001b[0m                                 Traceback (most recent call last)",
      "\u001b[1;32m<ipython-input-14-9a6eb97052ea>\u001b[0m in \u001b[0;36m<module>\u001b[1;34m()\u001b[0m\n\u001b[1;32m----> 1\u001b[1;33m \u001b[0mdf2\u001b[0m \u001b[1;33m=\u001b[0m \u001b[0mpd\u001b[0m\u001b[1;33m.\u001b[0m\u001b[0mmerge\u001b[0m\u001b[1;33m(\u001b[0m\u001b[0mdf\u001b[0m\u001b[1;33m,\u001b[0m \u001b[0mdf_code\u001b[0m\u001b[1;33m,\u001b[0m \u001b[0mhow\u001b[0m\u001b[1;33m=\u001b[0m\u001b[1;34m'inner'\u001b[0m\u001b[1;33m,\u001b[0m \u001b[0mleft_on\u001b[0m\u001b[1;33m=\u001b[0m\u001b[1;34m'State'\u001b[0m\u001b[1;33m,\u001b[0m \u001b[0mright_on\u001b[0m\u001b[1;33m=\u001b[0m\u001b[1;34m'state'\u001b[0m\u001b[1;33m)\u001b[0m\u001b[1;33m\u001b[0m\u001b[0m\n\u001b[0m",
      "\u001b[1;31mNameError\u001b[0m: name 'df_code' is not defined"
     ]
    }
   ],
   "source": [
    "df2 = pd.merge(df, df_code, how='inner', left_on='State', right_on='state')"
   ]
  },
  {
   "cell_type": "code",
   "execution_count": 35,
   "metadata": {},
   "outputs": [],
   "source": [
    "color_scl = [[0.1, 'rgb(242,240,247)'],[0.2, 'rgb(218,218,235)'],[0.4, 'rgb(188,189,220)'],\\\n",
    "            [0.6, 'rgb(158,154,200)'],[0.8, 'rgb(117,107,177)'],[1.0, 'rgb(84,39,143)']]"
   ]
  },
  {
   "cell_type": "code",
   "execution_count": 36,
   "metadata": {},
   "outputs": [
    {
     "ename": "NameError",
     "evalue": "name 'df1_1' is not defined",
     "output_type": "error",
     "traceback": [
      "\u001b[1;31m---------------------------------------------------------------------------\u001b[0m",
      "\u001b[1;31mNameError\u001b[0m                                 Traceback (most recent call last)",
      "\u001b[1;32m<ipython-input-36-49d772021805>\u001b[0m in \u001b[0;36m<module>\u001b[1;34m()\u001b[0m\n\u001b[1;32m----> 1\u001b[1;33m \u001b[0mdf1_1\u001b[0m\u001b[1;33m[\u001b[0m\u001b[1;34m'info'\u001b[0m\u001b[1;33m]\u001b[0m \u001b[1;33m=\u001b[0m \u001b[0mdf1_1\u001b[0m\u001b[1;33m[\u001b[0m\u001b[1;34m'STABBR'\u001b[0m\u001b[1;33m]\u001b[0m \u001b[1;33m+\u001b[0m \u001b[1;34m'<br>'\u001b[0m\u001b[1;33m+\u001b[0m \u001b[0mdf1_1\u001b[0m\u001b[1;33m[\u001b[0m\u001b[1;34m\"Number of Colleges\"\u001b[0m\u001b[1;33m]\u001b[0m\u001b[1;33m\u001b[0m\u001b[0m\n\u001b[0m",
      "\u001b[1;31mNameError\u001b[0m: name 'df1_1' is not defined"
     ]
    }
   ],
   "source": [
    "df1_1['info'] = df1_1['STABBR'] + '<br>'+ df1_1[\"Number of Colleges\"]"
   ]
  },
  {
   "cell_type": "code",
   "execution_count": 77,
   "metadata": {},
   "outputs": [],
   "source": [
    "data = [ dict(\n",
    "        type='choropleth',\n",
    "        colorscale = color_scl,\n",
    "        autocolorscale = False,\n",
    "        locations = df2['code'],\n",
    "        z = df[\"State Population, 2009\"].astype(float),\n",
    "        locationmode = 'USA-states',\n",
    "        text = '',\n",
    "        marker = dict(\n",
    "            line = dict (\n",
    "                color = 'rgb(255,255,255)',\n",
    "                width = 2\n",
    "            ) ),\n",
    "        colorbar = dict(\n",
    "            title = \"Population 2009\")\n",
    "        ) ]"
   ]
  },
  {
   "cell_type": "code",
   "execution_count": 78,
   "metadata": {},
   "outputs": [],
   "source": [
    "\n",
    "layout = dict(\n",
    "        title = 'US population 2009 by State<br>(Hover for breakdown)',\n",
    "        geo = dict(\n",
    "            scope='usa',\n",
    "            projection=dict( type='albers usa' ),\n",
    "            showlakes = True,\n",
    "            lakecolor = 'rgb(255, 255, 255)'),\n",
    "             )"
   ]
  },
  {
   "cell_type": "code",
   "execution_count": 79,
   "metadata": {},
   "outputs": [
    {
     "name": "stdout",
     "output_type": "stream",
     "text": [
      "High five! You successfully sent some data to your account on plotly. View your plot in your browser at https://plot.ly/~hsingh29320/0 or inside your plot.ly account where it is named 'd3-cloropleth-map'\n"
     ]
    },
    {
     "data": {
      "text/html": [
       "<iframe id=\"igraph\" scrolling=\"no\" style=\"border:none;\" seamless=\"seamless\" src=\"https://plot.ly/~hsingh29320/0.embed\" height=\"525px\" width=\"100%\"></iframe>"
      ],
      "text/plain": [
       "<plotly.tools.PlotlyDisplay object>"
      ]
     },
     "execution_count": 79,
     "metadata": {},
     "output_type": "execute_result"
    }
   ],
   "source": [
    "fig = dict( data=data, layout=layout )\n",
    "py.iplot( fig, filename='d3-cloropleth-map' )"
   ]
  },
  {
   "cell_type": "code",
   "execution_count": 69,
   "metadata": {},
   "outputs": [],
   "source": [
    "data1 = [ dict(\n",
    "        type='choropleth',\n",
    "        colorscale = color_scl,\n",
    "        autocolorscale = False,\n",
    "        locations = df2['code'],\n",
    "        z = df[\"State Population,  2014\"].astype(float),\n",
    "        locationmode = 'USA-states',\n",
    "        text = '',\n",
    "        marker = dict(\n",
    "            line = dict (\n",
    "                color = 'rgb(255,255,255)',\n",
    "                width = 2\n",
    "            ) ),\n",
    "        colorbar = dict(\n",
    "            title = \"Population 2014\")\n",
    "        ) ]"
   ]
  },
  {
   "cell_type": "code",
   "execution_count": 71,
   "metadata": {},
   "outputs": [],
   "source": [
    "layout1 = dict(\n",
    "        title = 'US population 2014 by State<br>(Hover for breakdown)',\n",
    "        geo = dict(\n",
    "            scope='usa',\n",
    "            projection=dict( type='albers usa' ),\n",
    "            showlakes = True,\n",
    "            lakecolor = 'rgb(255, 255, 255)'),\n",
    "             )"
   ]
  },
  {
   "cell_type": "code",
   "execution_count": 72,
   "metadata": {
    "scrolled": true
   },
   "outputs": [
    {
     "name": "stdout",
     "output_type": "stream",
     "text": [
      "High five! You successfully sent some data to your account on plotly. View your plot in your browser at https://plot.ly/~hsingh29320/0 or inside your plot.ly account where it is named 'd3-cloropleth-map'\n"
     ]
    },
    {
     "data": {
      "text/html": [
       "<iframe id=\"igraph\" scrolling=\"no\" style=\"border:none;\" seamless=\"seamless\" src=\"https://plot.ly/~hsingh29320/0.embed\" height=\"525px\" width=\"100%\"></iframe>"
      ],
      "text/plain": [
       "<plotly.tools.PlotlyDisplay object>"
      ]
     },
     "execution_count": 72,
     "metadata": {},
     "output_type": "execute_result"
    }
   ],
   "source": [
    "fig = dict( data=data1, layout=layout1 )\n",
    "py.iplot( fig, filename='d3-cloropleth-map' )"
   ]
  },
  {
   "cell_type": "code",
   "execution_count": 85,
   "metadata": {},
   "outputs": [],
   "source": [
    "df[\"population change\"] = ((df[\"State Population,  2014\"] - df[\"State Population, 2009\"]))\n",
    "df[\"WIC participants change\"] = ((df[\"WIC participants, FY 2014\"] - df[\"WIC participants FY 2009\"]))\n",
    "df[\"% population rate change\"] = ((df[\"State Population,  2014\"] - df[\"State Population, 2009\"])/df[\"State Population, 2009\"]) *  100\n",
    "df[\"% WIC participants rate change\"] = ((df[\"WIC participants, FY 2014\"] - df[\"WIC participants FY 2009\"])/df[\"WIC participants FY 2009\"]) *  100"
   ]
  },
  {
   "cell_type": "code",
   "execution_count": 14,
   "metadata": {},
   "outputs": [
    {
     "name": "stdout",
     "output_type": "stream",
     "text": [
      "Average change in population from 2009 to 2014 was 4.021478526679708\n",
      "Max change in population from 2009 to 2014 was 14.321536568322502\n"
     ]
    }
   ],
   "source": [
    "print(\"Average change in population from 2009 to 2014 was {}\".format(df[\"% population rate change\"].mean()))\n",
    "print(\"Max change in population from 2009 to 2014 was {}\".format(df[\"% population rate change\"].max()))\n",
    "#df[\"% population rate change\"].max()\n",
    "#df[\"% population rate change\"].min()"
   ]
  },
  {
   "cell_type": "code",
   "execution_count": 23,
   "metadata": {},
   "outputs": [
    {
     "data": {
      "text/plain": [
       "'North Dakota'"
      ]
     },
     "execution_count": 23,
     "metadata": {},
     "output_type": "execute_result"
    }
   ],
   "source": [
    "df.iloc[:,0][df[\"% population rate change\"].idxmax()]"
   ]
  },
  {
   "cell_type": "markdown",
   "metadata": {},
   "source": [
    "According to the data the population of most states have gone up with overall average of about 4%. North Dakota is the state with highest increase of around 14.3%. So we can say that the overall the population of United States has increased slightly. "
   ]
  },
  {
   "cell_type": "markdown",
   "metadata": {},
   "source": [
    "Now we gathered data for different states on the health and resturants. We merged both datasets and following is the results."
   ]
  },
  {
   "cell_type": "code",
   "execution_count": 24,
   "metadata": {},
   "outputs": [
    {
     "data": {
      "text/html": [
       "<div>\n",
       "<style scoped>\n",
       "    .dataframe tbody tr th:only-of-type {\n",
       "        vertical-align: middle;\n",
       "    }\n",
       "\n",
       "    .dataframe tbody tr th {\n",
       "        vertical-align: top;\n",
       "    }\n",
       "\n",
       "    .dataframe thead th {\n",
       "        text-align: right;\n",
       "    }\n",
       "</style>\n",
       "<table border=\"1\" class=\"dataframe\">\n",
       "  <thead>\n",
       "    <tr style=\"text-align: right;\">\n",
       "      <th></th>\n",
       "      <th>FIPS</th>\n",
       "      <th>State</th>\n",
       "      <th>County</th>\n",
       "      <th>FFR07</th>\n",
       "      <th>FFR12</th>\n",
       "      <th>PCH_FFR_07_12</th>\n",
       "      <th>FFRPTH07</th>\n",
       "      <th>FFRPTH12</th>\n",
       "      <th>PCH_FFRPTH_07_12</th>\n",
       "      <th>FSR07</th>\n",
       "      <th>FSR12</th>\n",
       "      <th>PCH_FSR_07_12</th>\n",
       "      <th>FSRPTH07</th>\n",
       "      <th>FSRPTH12</th>\n",
       "      <th>PCH_FSRPTH_07_12</th>\n",
       "      <th>PC_FFRSALES02</th>\n",
       "      <th>PC_FFRSALES07</th>\n",
       "      <th>PC_FSRSALES02</th>\n",
       "      <th>PC_FSRSALES07</th>\n",
       "    </tr>\n",
       "  </thead>\n",
       "  <tbody>\n",
       "    <tr>\n",
       "      <th>0</th>\n",
       "      <td>1001</td>\n",
       "      <td>AL</td>\n",
       "      <td>Autauga</td>\n",
       "      <td>32.0</td>\n",
       "      <td>34</td>\n",
       "      <td>6.250000</td>\n",
       "      <td>0.642132</td>\n",
       "      <td>0.612458</td>\n",
       "      <td>-4.621132</td>\n",
       "      <td>34.0</td>\n",
       "      <td>29</td>\n",
       "      <td>-14.705882</td>\n",
       "      <td>0.682265</td>\n",
       "      <td>0.522391</td>\n",
       "      <td>-23.432881</td>\n",
       "      <td>470.0</td>\n",
       "      <td>649.511367</td>\n",
       "      <td>349.0</td>\n",
       "      <td>484.381507</td>\n",
       "    </tr>\n",
       "    <tr>\n",
       "      <th>1</th>\n",
       "      <td>1003</td>\n",
       "      <td>AL</td>\n",
       "      <td>Baldwin</td>\n",
       "      <td>129.0</td>\n",
       "      <td>130</td>\n",
       "      <td>0.775194</td>\n",
       "      <td>0.746463</td>\n",
       "      <td>0.681377</td>\n",
       "      <td>-8.719193</td>\n",
       "      <td>184.0</td>\n",
       "      <td>211</td>\n",
       "      <td>14.673913</td>\n",
       "      <td>1.064722</td>\n",
       "      <td>1.105928</td>\n",
       "      <td>3.870079</td>\n",
       "      <td>470.0</td>\n",
       "      <td>649.511367</td>\n",
       "      <td>349.0</td>\n",
       "      <td>484.381507</td>\n",
       "    </tr>\n",
       "    <tr>\n",
       "      <th>2</th>\n",
       "      <td>1005</td>\n",
       "      <td>AL</td>\n",
       "      <td>Barbour</td>\n",
       "      <td>20.0</td>\n",
       "      <td>21</td>\n",
       "      <td>5.000000</td>\n",
       "      <td>0.672585</td>\n",
       "      <td>0.772030</td>\n",
       "      <td>14.785486</td>\n",
       "      <td>11.0</td>\n",
       "      <td>14</td>\n",
       "      <td>27.272727</td>\n",
       "      <td>0.369922</td>\n",
       "      <td>0.514687</td>\n",
       "      <td>39.133922</td>\n",
       "      <td>470.0</td>\n",
       "      <td>649.511367</td>\n",
       "      <td>349.0</td>\n",
       "      <td>484.381507</td>\n",
       "    </tr>\n",
       "    <tr>\n",
       "      <th>3</th>\n",
       "      <td>1007</td>\n",
       "      <td>AL</td>\n",
       "      <td>Bibb</td>\n",
       "      <td>8.0</td>\n",
       "      <td>6</td>\n",
       "      <td>-25.000000</td>\n",
       "      <td>0.372353</td>\n",
       "      <td>0.265522</td>\n",
       "      <td>-28.690755</td>\n",
       "      <td>8.0</td>\n",
       "      <td>4</td>\n",
       "      <td>-50.000000</td>\n",
       "      <td>0.372353</td>\n",
       "      <td>0.177015</td>\n",
       "      <td>-52.460504</td>\n",
       "      <td>470.0</td>\n",
       "      <td>649.511367</td>\n",
       "      <td>349.0</td>\n",
       "      <td>484.381507</td>\n",
       "    </tr>\n",
       "    <tr>\n",
       "      <th>4</th>\n",
       "      <td>1009</td>\n",
       "      <td>AL</td>\n",
       "      <td>Blount</td>\n",
       "      <td>27.0</td>\n",
       "      <td>22</td>\n",
       "      <td>-18.518519</td>\n",
       "      <td>0.474800</td>\n",
       "      <td>0.380452</td>\n",
       "      <td>-19.871236</td>\n",
       "      <td>14.0</td>\n",
       "      <td>13</td>\n",
       "      <td>-7.142857</td>\n",
       "      <td>0.246193</td>\n",
       "      <td>0.224812</td>\n",
       "      <td>-8.684428</td>\n",
       "      <td>470.0</td>\n",
       "      <td>649.511367</td>\n",
       "      <td>349.0</td>\n",
       "      <td>484.381507</td>\n",
       "    </tr>\n",
       "  </tbody>\n",
       "</table>\n",
       "</div>"
      ],
      "text/plain": [
       "   FIPS State   County  FFR07  FFR12  PCH_FFR_07_12  FFRPTH07  FFRPTH12  \\\n",
       "0  1001    AL  Autauga   32.0     34       6.250000  0.642132  0.612458   \n",
       "1  1003    AL  Baldwin  129.0    130       0.775194  0.746463  0.681377   \n",
       "2  1005    AL  Barbour   20.0     21       5.000000  0.672585  0.772030   \n",
       "3  1007    AL     Bibb    8.0      6     -25.000000  0.372353  0.265522   \n",
       "4  1009    AL   Blount   27.0     22     -18.518519  0.474800  0.380452   \n",
       "\n",
       "   PCH_FFRPTH_07_12  FSR07  FSR12  PCH_FSR_07_12  FSRPTH07  FSRPTH12  \\\n",
       "0         -4.621132   34.0     29     -14.705882  0.682265  0.522391   \n",
       "1         -8.719193  184.0    211      14.673913  1.064722  1.105928   \n",
       "2         14.785486   11.0     14      27.272727  0.369922  0.514687   \n",
       "3        -28.690755    8.0      4     -50.000000  0.372353  0.177015   \n",
       "4        -19.871236   14.0     13      -7.142857  0.246193  0.224812   \n",
       "\n",
       "   PCH_FSRPTH_07_12  PC_FFRSALES02  PC_FFRSALES07  PC_FSRSALES02  \\\n",
       "0        -23.432881          470.0     649.511367          349.0   \n",
       "1          3.870079          470.0     649.511367          349.0   \n",
       "2         39.133922          470.0     649.511367          349.0   \n",
       "3        -52.460504          470.0     649.511367          349.0   \n",
       "4         -8.684428          470.0     649.511367          349.0   \n",
       "\n",
       "   PC_FSRSALES07  \n",
       "0     484.381507  \n",
       "1     484.381507  \n",
       "2     484.381507  \n",
       "3     484.381507  \n",
       "4     484.381507  "
      ]
     },
     "execution_count": 24,
     "metadata": {},
     "output_type": "execute_result"
    }
   ],
   "source": [
    "data_rest.head()"
   ]
  },
  {
   "cell_type": "code",
   "execution_count": 25,
   "metadata": {},
   "outputs": [],
   "source": [
    "data_rest_2 = data_rest.groupby(['State']).agg({'FFR07':['sum'], 'FFR12':['sum'], 'PCH_FFR_07_12':['mean']})"
   ]
  },
  {
   "cell_type": "code",
   "execution_count": 26,
   "metadata": {},
   "outputs": [],
   "source": [
    "data_rest_2.columns = [' '.join(col).strip() for col in data_rest_2.columns.values]"
   ]
  },
  {
   "cell_type": "code",
   "execution_count": 27,
   "metadata": {},
   "outputs": [],
   "source": [
    "data_rest_2 = data_rest_2.reset_index()"
   ]
  },
  {
   "cell_type": "code",
   "execution_count": 28,
   "metadata": {},
   "outputs": [
    {
     "data": {
      "text/html": [
       "<div>\n",
       "<style scoped>\n",
       "    .dataframe tbody tr th:only-of-type {\n",
       "        vertical-align: middle;\n",
       "    }\n",
       "\n",
       "    .dataframe tbody tr th {\n",
       "        vertical-align: top;\n",
       "    }\n",
       "\n",
       "    .dataframe thead th {\n",
       "        text-align: right;\n",
       "    }\n",
       "</style>\n",
       "<table border=\"1\" class=\"dataframe\">\n",
       "  <thead>\n",
       "    <tr style=\"text-align: right;\">\n",
       "      <th></th>\n",
       "      <th>State</th>\n",
       "      <th>FFR07 sum</th>\n",
       "      <th>FFR12 sum</th>\n",
       "      <th>PCH_FFR_07_12 mean</th>\n",
       "    </tr>\n",
       "  </thead>\n",
       "  <tbody>\n",
       "    <tr>\n",
       "      <th>0</th>\n",
       "      <td>AK</td>\n",
       "      <td>401.0</td>\n",
       "      <td>409</td>\n",
       "      <td>-9.139795</td>\n",
       "    </tr>\n",
       "    <tr>\n",
       "      <th>1</th>\n",
       "      <td>AL</td>\n",
       "      <td>3483.0</td>\n",
       "      <td>3482</td>\n",
       "      <td>-2.317248</td>\n",
       "    </tr>\n",
       "    <tr>\n",
       "      <th>2</th>\n",
       "      <td>AR</td>\n",
       "      <td>1850.0</td>\n",
       "      <td>1978</td>\n",
       "      <td>7.349946</td>\n",
       "    </tr>\n",
       "    <tr>\n",
       "      <th>3</th>\n",
       "      <td>AZ</td>\n",
       "      <td>4046.0</td>\n",
       "      <td>4238</td>\n",
       "      <td>0.450318</td>\n",
       "    </tr>\n",
       "    <tr>\n",
       "      <th>4</th>\n",
       "      <td>CA</td>\n",
       "      <td>26138.0</td>\n",
       "      <td>27758</td>\n",
       "      <td>-0.513431</td>\n",
       "    </tr>\n",
       "  </tbody>\n",
       "</table>\n",
       "</div>"
      ],
      "text/plain": [
       "  State  FFR07 sum  FFR12 sum  PCH_FFR_07_12 mean\n",
       "0    AK      401.0        409           -9.139795\n",
       "1    AL     3483.0       3482           -2.317248\n",
       "2    AR     1850.0       1978            7.349946\n",
       "3    AZ     4046.0       4238            0.450318\n",
       "4    CA    26138.0      27758           -0.513431"
      ]
     },
     "execution_count": 28,
     "metadata": {},
     "output_type": "execute_result"
    }
   ],
   "source": [
    "data_rest_2.head()"
   ]
  },
  {
   "cell_type": "code",
   "execution_count": 29,
   "metadata": {},
   "outputs": [
    {
     "data": {
      "text/plain": [
       "12.891439124126107"
      ]
     },
     "execution_count": 29,
     "metadata": {},
     "output_type": "execute_result"
    }
   ],
   "source": [
    "data_rest_2[\"PCH_FFR_07_12 mean\"].max()"
   ]
  },
  {
   "cell_type": "code",
   "execution_count": 30,
   "metadata": {},
   "outputs": [
    {
     "data": {
      "text/plain": [
       "'DE'"
      ]
     },
     "execution_count": 30,
     "metadata": {},
     "output_type": "execute_result"
    }
   ],
   "source": [
    "data_rest_2['State'][data_rest_2[\"PCH_FFR_07_12 mean\"].idxmax()]"
   ]
  },
  {
   "cell_type": "code",
   "execution_count": 31,
   "metadata": {},
   "outputs": [
    {
     "data": {
      "text/html": [
       "<div>\n",
       "<style scoped>\n",
       "    .dataframe tbody tr th:only-of-type {\n",
       "        vertical-align: middle;\n",
       "    }\n",
       "\n",
       "    .dataframe tbody tr th {\n",
       "        vertical-align: top;\n",
       "    }\n",
       "\n",
       "    .dataframe thead th {\n",
       "        text-align: right;\n",
       "    }\n",
       "</style>\n",
       "<table border=\"1\" class=\"dataframe\">\n",
       "  <thead>\n",
       "    <tr style=\"text-align: right;\">\n",
       "      <th></th>\n",
       "      <th>State</th>\n",
       "      <th>FFR07 sum</th>\n",
       "      <th>FFR12 sum</th>\n",
       "      <th>PCH_FFR_07_12 mean</th>\n",
       "    </tr>\n",
       "  </thead>\n",
       "  <tbody>\n",
       "    <tr>\n",
       "      <th>8</th>\n",
       "      <td>DE</td>\n",
       "      <td>585.0</td>\n",
       "      <td>642</td>\n",
       "      <td>12.891439</td>\n",
       "    </tr>\n",
       "  </tbody>\n",
       "</table>\n",
       "</div>"
      ],
      "text/plain": [
       "  State  FFR07 sum  FFR12 sum  PCH_FFR_07_12 mean\n",
       "8    DE      585.0        642           12.891439"
      ]
     },
     "execution_count": 31,
     "metadata": {},
     "output_type": "execute_result"
    }
   ],
   "source": [
    "data_rest_2[data_rest_2['State']=='DE']"
   ]
  },
  {
   "cell_type": "code",
   "execution_count": 32,
   "metadata": {},
   "outputs": [],
   "source": [
    "data_health_2 = data_health.groupby(['State']).agg({'PCT_DIABETES_ADULTS09':['mean'], 'PCT_DIABETES_ADULTS10':['mean'], \n",
    "                                                    'PCT_OBESE_ADULTS09':['mean'], 'PCT_OBESE_ADULTS10':['mean'], \n",
    "                                                    'PCT_OBESE_ADULTS13':['mean']})"
   ]
  },
  {
   "cell_type": "code",
   "execution_count": 33,
   "metadata": {},
   "outputs": [],
   "source": [
    "data_health_2.columns = [' '.join(col).strip() for col in data_health_2.columns.values]"
   ]
  },
  {
   "cell_type": "code",
   "execution_count": 34,
   "metadata": {},
   "outputs": [],
   "source": [
    "data_health_2 = data_health_2.reset_index()"
   ]
  },
  {
   "cell_type": "code",
   "execution_count": 35,
   "metadata": {},
   "outputs": [],
   "source": [
    "data_health_2['PCT_CHNG_OBESE_ADULT_09_13'] = (data_health_2['PCT_OBESE_ADULTS13 mean'] - data_health_2['PCT_OBESE_ADULTS09 mean'])/data_health_2['PCT_OBESE_ADULTS09 mean']*100"
   ]
  },
  {
   "cell_type": "code",
   "execution_count": 36,
   "metadata": {},
   "outputs": [
    {
     "data": {
      "text/html": [
       "<div>\n",
       "<style scoped>\n",
       "    .dataframe tbody tr th:only-of-type {\n",
       "        vertical-align: middle;\n",
       "    }\n",
       "\n",
       "    .dataframe tbody tr th {\n",
       "        vertical-align: top;\n",
       "    }\n",
       "\n",
       "    .dataframe thead th {\n",
       "        text-align: right;\n",
       "    }\n",
       "</style>\n",
       "<table border=\"1\" class=\"dataframe\">\n",
       "  <thead>\n",
       "    <tr style=\"text-align: right;\">\n",
       "      <th></th>\n",
       "      <th>State</th>\n",
       "      <th>PCT_DIABETES_ADULTS09 mean</th>\n",
       "      <th>PCT_DIABETES_ADULTS10 mean</th>\n",
       "      <th>PCT_OBESE_ADULTS09 mean</th>\n",
       "      <th>PCT_OBESE_ADULTS10 mean</th>\n",
       "      <th>PCT_OBESE_ADULTS13 mean</th>\n",
       "      <th>PCT_CHNG_OBESE_ADULT_09_13</th>\n",
       "    </tr>\n",
       "  </thead>\n",
       "  <tbody>\n",
       "    <tr>\n",
       "      <th>0</th>\n",
       "      <td>AK</td>\n",
       "      <td>6.629167</td>\n",
       "      <td>7.262500</td>\n",
       "      <td>30.833333</td>\n",
       "      <td>29.883333</td>\n",
       "      <td>28.4</td>\n",
       "      <td>-7.891892</td>\n",
       "    </tr>\n",
       "    <tr>\n",
       "      <th>1</th>\n",
       "      <td>AL</td>\n",
       "      <td>13.897015</td>\n",
       "      <td>14.082090</td>\n",
       "      <td>35.126866</td>\n",
       "      <td>35.082090</td>\n",
       "      <td>32.4</td>\n",
       "      <td>-7.762906</td>\n",
       "    </tr>\n",
       "    <tr>\n",
       "      <th>2</th>\n",
       "      <td>AR</td>\n",
       "      <td>11.913333</td>\n",
       "      <td>12.454667</td>\n",
       "      <td>33.177333</td>\n",
       "      <td>33.616000</td>\n",
       "      <td>34.6</td>\n",
       "      <td>4.288068</td>\n",
       "    </tr>\n",
       "    <tr>\n",
       "      <th>3</th>\n",
       "      <td>AZ</td>\n",
       "      <td>9.960000</td>\n",
       "      <td>10.080000</td>\n",
       "      <td>27.780000</td>\n",
       "      <td>27.806667</td>\n",
       "      <td>26.8</td>\n",
       "      <td>-3.527718</td>\n",
       "    </tr>\n",
       "    <tr>\n",
       "      <th>4</th>\n",
       "      <td>CA</td>\n",
       "      <td>7.929310</td>\n",
       "      <td>8.077586</td>\n",
       "      <td>24.660345</td>\n",
       "      <td>24.218966</td>\n",
       "      <td>24.1</td>\n",
       "      <td>-2.272251</td>\n",
       "    </tr>\n",
       "  </tbody>\n",
       "</table>\n",
       "</div>"
      ],
      "text/plain": [
       "  State  PCT_DIABETES_ADULTS09 mean  PCT_DIABETES_ADULTS10 mean  \\\n",
       "0    AK                    6.629167                    7.262500   \n",
       "1    AL                   13.897015                   14.082090   \n",
       "2    AR                   11.913333                   12.454667   \n",
       "3    AZ                    9.960000                   10.080000   \n",
       "4    CA                    7.929310                    8.077586   \n",
       "\n",
       "   PCT_OBESE_ADULTS09 mean  PCT_OBESE_ADULTS10 mean  PCT_OBESE_ADULTS13 mean  \\\n",
       "0                30.833333                29.883333                     28.4   \n",
       "1                35.126866                35.082090                     32.4   \n",
       "2                33.177333                33.616000                     34.6   \n",
       "3                27.780000                27.806667                     26.8   \n",
       "4                24.660345                24.218966                     24.1   \n",
       "\n",
       "   PCT_CHNG_OBESE_ADULT_09_13  \n",
       "0                   -7.891892  \n",
       "1                   -7.762906  \n",
       "2                    4.288068  \n",
       "3                   -3.527718  \n",
       "4                   -2.272251  "
      ]
     },
     "execution_count": 36,
     "metadata": {},
     "output_type": "execute_result"
    }
   ],
   "source": [
    "data_health_2.head()"
   ]
  },
  {
   "cell_type": "code",
   "execution_count": 37,
   "metadata": {},
   "outputs": [],
   "source": [
    "df_rest_health = pd.merge(data_rest_2, data_health_2, how='inner', left_on='State', right_on='State')"
   ]
  },
  {
   "cell_type": "code",
   "execution_count": 38,
   "metadata": {},
   "outputs": [
    {
     "data": {
      "text/html": [
       "<div>\n",
       "<style scoped>\n",
       "    .dataframe tbody tr th:only-of-type {\n",
       "        vertical-align: middle;\n",
       "    }\n",
       "\n",
       "    .dataframe tbody tr th {\n",
       "        vertical-align: top;\n",
       "    }\n",
       "\n",
       "    .dataframe thead th {\n",
       "        text-align: right;\n",
       "    }\n",
       "</style>\n",
       "<table border=\"1\" class=\"dataframe\">\n",
       "  <thead>\n",
       "    <tr style=\"text-align: right;\">\n",
       "      <th></th>\n",
       "      <th>State</th>\n",
       "      <th>FFR07 sum</th>\n",
       "      <th>FFR12 sum</th>\n",
       "      <th>PCH_FFR_07_12 mean</th>\n",
       "      <th>PCT_DIABETES_ADULTS09 mean</th>\n",
       "      <th>PCT_DIABETES_ADULTS10 mean</th>\n",
       "      <th>PCT_OBESE_ADULTS09 mean</th>\n",
       "      <th>PCT_OBESE_ADULTS10 mean</th>\n",
       "      <th>PCT_OBESE_ADULTS13 mean</th>\n",
       "      <th>PCT_CHNG_OBESE_ADULT_09_13</th>\n",
       "    </tr>\n",
       "  </thead>\n",
       "  <tbody>\n",
       "    <tr>\n",
       "      <th>0</th>\n",
       "      <td>AK</td>\n",
       "      <td>401.0</td>\n",
       "      <td>409</td>\n",
       "      <td>-9.139795</td>\n",
       "      <td>6.629167</td>\n",
       "      <td>7.262500</td>\n",
       "      <td>30.833333</td>\n",
       "      <td>29.883333</td>\n",
       "      <td>28.4</td>\n",
       "      <td>-7.891892</td>\n",
       "    </tr>\n",
       "    <tr>\n",
       "      <th>1</th>\n",
       "      <td>AL</td>\n",
       "      <td>3483.0</td>\n",
       "      <td>3482</td>\n",
       "      <td>-2.317248</td>\n",
       "      <td>13.897015</td>\n",
       "      <td>14.082090</td>\n",
       "      <td>35.126866</td>\n",
       "      <td>35.082090</td>\n",
       "      <td>32.4</td>\n",
       "      <td>-7.762906</td>\n",
       "    </tr>\n",
       "    <tr>\n",
       "      <th>2</th>\n",
       "      <td>AR</td>\n",
       "      <td>1850.0</td>\n",
       "      <td>1978</td>\n",
       "      <td>7.349946</td>\n",
       "      <td>11.913333</td>\n",
       "      <td>12.454667</td>\n",
       "      <td>33.177333</td>\n",
       "      <td>33.616000</td>\n",
       "      <td>34.6</td>\n",
       "      <td>4.288068</td>\n",
       "    </tr>\n",
       "    <tr>\n",
       "      <th>3</th>\n",
       "      <td>AZ</td>\n",
       "      <td>4046.0</td>\n",
       "      <td>4238</td>\n",
       "      <td>0.450318</td>\n",
       "      <td>9.960000</td>\n",
       "      <td>10.080000</td>\n",
       "      <td>27.780000</td>\n",
       "      <td>27.806667</td>\n",
       "      <td>26.8</td>\n",
       "      <td>-3.527718</td>\n",
       "    </tr>\n",
       "    <tr>\n",
       "      <th>4</th>\n",
       "      <td>CA</td>\n",
       "      <td>26138.0</td>\n",
       "      <td>27758</td>\n",
       "      <td>-0.513431</td>\n",
       "      <td>7.929310</td>\n",
       "      <td>8.077586</td>\n",
       "      <td>24.660345</td>\n",
       "      <td>24.218966</td>\n",
       "      <td>24.1</td>\n",
       "      <td>-2.272251</td>\n",
       "    </tr>\n",
       "  </tbody>\n",
       "</table>\n",
       "</div>"
      ],
      "text/plain": [
       "  State  FFR07 sum  FFR12 sum  PCH_FFR_07_12 mean  PCT_DIABETES_ADULTS09 mean  \\\n",
       "0    AK      401.0        409           -9.139795                    6.629167   \n",
       "1    AL     3483.0       3482           -2.317248                   13.897015   \n",
       "2    AR     1850.0       1978            7.349946                   11.913333   \n",
       "3    AZ     4046.0       4238            0.450318                    9.960000   \n",
       "4    CA    26138.0      27758           -0.513431                    7.929310   \n",
       "\n",
       "   PCT_DIABETES_ADULTS10 mean  PCT_OBESE_ADULTS09 mean  \\\n",
       "0                    7.262500                30.833333   \n",
       "1                   14.082090                35.126866   \n",
       "2                   12.454667                33.177333   \n",
       "3                   10.080000                27.780000   \n",
       "4                    8.077586                24.660345   \n",
       "\n",
       "   PCT_OBESE_ADULTS10 mean  PCT_OBESE_ADULTS13 mean  \\\n",
       "0                29.883333                     28.4   \n",
       "1                35.082090                     32.4   \n",
       "2                33.616000                     34.6   \n",
       "3                27.806667                     26.8   \n",
       "4                24.218966                     24.1   \n",
       "\n",
       "   PCT_CHNG_OBESE_ADULT_09_13  \n",
       "0                   -7.891892  \n",
       "1                   -7.762906  \n",
       "2                    4.288068  \n",
       "3                   -3.527718  \n",
       "4                   -2.272251  "
      ]
     },
     "execution_count": 38,
     "metadata": {},
     "output_type": "execute_result"
    }
   ],
   "source": [
    "df_rest_health.head()"
   ]
  },
  {
   "cell_type": "code",
   "execution_count": 39,
   "metadata": {},
   "outputs": [],
   "source": [
    "df2_rest_health = df_rest_health.drop(df_rest_health['PCT_CHNG_OBESE_ADULT_09_13'].idxmax())"
   ]
  },
  {
   "cell_type": "code",
   "execution_count": 40,
   "metadata": {},
   "outputs": [
    {
     "data": {
      "text/plain": [
       "<seaborn.axisgrid.FacetGrid at 0x253176ee3c8>"
      ]
     },
     "execution_count": 40,
     "metadata": {},
     "output_type": "execute_result"
    },
    {
     "data": {
      "image/png": "[encoded data removed]",
      "text/plain": [
       "<matplotlib.figure.Figure at 0x253176ee0b8>"
      ]
     },
     "metadata": {},
     "output_type": "display_data"
    },
    {
     "data": {
      "image/png": "[encoded data removed]",
      "text/plain": [
       "<matplotlib.figure.Figure at 0x253177ab9e8>"
      ]
     },
     "metadata": {},
     "output_type": "display_data"
    }
   ],
   "source": [
    "sns.lmplot(x='PCT_CHNG_OBESE_ADULT_09_13', y='PCH_FFR_07_12 mean', data=df_rest_health)\n",
    "sns.lmplot(x='PCT_CHNG_OBESE_ADULT_09_13', y='PCH_FFR_07_12 mean', data=df2_rest_health)"
   ]
  },
  {
   "cell_type": "code",
   "execution_count": 31,
   "metadata": {},
   "outputs": [
    {
     "data": {
      "text/plain": [
       "14"
      ]
     },
     "execution_count": 31,
     "metadata": {},
     "output_type": "execute_result"
    }
   ],
   "source": [
    "df_rest_health['PCH_FFR_07_12 mean'][df_rest_health['PCH_FFR_07_12 mean'] < 0.0].count()"
   ]
  },
  {
   "cell_type": "markdown",
   "metadata": {},
   "source": [
    "While most of the states had increase in number of fast food resturants, only 14 states observed a decrease in number of fast food resturants."
   ]
  },
  {
   "cell_type": "code",
   "execution_count": 32,
   "metadata": {},
   "outputs": [],
   "source": [
    "lm = linear_model.LinearRegression()\n",
    "x1 = df_rest_health['PCT_CHNG_OBESE_ADULT_09_13'].values.reshape(-1, 1)\n",
    "y1 = df_rest_health['PCH_FFR_07_12 mean'].values.reshape(-1, 1)\n",
    "model = lm.fit(x1, y1)"
   ]
  },
  {
   "cell_type": "code",
   "execution_count": 33,
   "metadata": {},
   "outputs": [
    {
     "name": "stdout",
     "output_type": "stream",
     "text": [
      "0.03723154234173154\n",
      "[[0.20034005]]\n",
      "[3.29656343]\n"
     ]
    }
   ],
   "source": [
    "print(model.score(x1, y1))\n",
    "print(model.coef_)\n",
    "print(model.intercept_)"
   ]
  },
  {
   "cell_type": "code",
   "execution_count": 46,
   "metadata": {},
   "outputs": [
    {
     "name": "stdout",
     "output_type": "stream",
     "text": [
      "RI\n",
      "15.972812234494485\n"
     ]
    }
   ],
   "source": [
    "print(df_rest_health['State'][df_rest_health['PCT_CHNG_OBESE_ADULT_09_13'].idxmax()])\n",
    "print(df_rest_health['PCT_CHNG_OBESE_ADULT_09_13'].max())"
   ]
  },
  {
   "cell_type": "markdown",
   "metadata": {},
   "source": [
    "As we observed from the graph, there was no significant correlation between percentage of growth in fast food resturant and the percentage of adult obesity. Interestingly, Rhode Island has the largest increase in the percentage of obesity since 2009. Rhode Island is a small state with the population of 1,053,209 in 2009 which has been declining and it had reduced to 1,051,511"
   ]
  },
  {
   "cell_type": "code",
   "execution_count": 41,
   "metadata": {},
   "outputs": [],
   "source": [
    "lm = linear_model.LinearRegression()\n",
    "x2 = df2_rest_health['PCT_CHNG_OBESE_ADULT_09_13'].values.reshape(-1, 1)\n",
    "y2 = df2_rest_health['PCH_FFR_07_12 mean'].values.reshape(-1, 1)\n",
    "model2 = lm.fit(x2, y2)"
   ]
  },
  {
   "cell_type": "code",
   "execution_count": 42,
   "metadata": {},
   "outputs": [
    {
     "name": "stdout",
     "output_type": "stream",
     "text": [
      "0.05983900676689969\n",
      "[[0.28233332]]\n",
      "[3.53214509]\n"
     ]
    }
   ],
   "source": [
    "print(model2.score(x2, y2))\n",
    "print(model2.coef_)\n",
    "print(model2.intercept_)"
   ]
  },
  {
   "cell_type": "code",
   "execution_count": 45,
   "metadata": {},
   "outputs": [
    {
     "data": {
      "text/html": [
       "<div>\n",
       "<style scoped>\n",
       "    .dataframe tbody tr th:only-of-type {\n",
       "        vertical-align: middle;\n",
       "    }\n",
       "\n",
       "    .dataframe tbody tr th {\n",
       "        vertical-align: top;\n",
       "    }\n",
       "\n",
       "    .dataframe thead th {\n",
       "        text-align: right;\n",
       "    }\n",
       "</style>\n",
       "<table border=\"1\" class=\"dataframe\">\n",
       "  <thead>\n",
       "    <tr style=\"text-align: right;\">\n",
       "      <th></th>\n",
       "      <th>State</th>\n",
       "      <th>WIC participants FY 2009</th>\n",
       "      <th>WIC participants FY 2011</th>\n",
       "      <th>WIC participants, FY 2012</th>\n",
       "      <th>WIC participants, FY 2013</th>\n",
       "      <th>WIC participants, FY 2014</th>\n",
       "      <th>National School Lunch Program participants FY 2009</th>\n",
       "      <th>National School Lunch Program participants FY 2011</th>\n",
       "      <th>National School Lunch Program participants, FY 2012</th>\n",
       "      <th>National School Lunch Program participants, FY 2013</th>\n",
       "      <th>...</th>\n",
       "      <th>Summer Food participants, FY 2014</th>\n",
       "      <th>State Population, 2008</th>\n",
       "      <th>State Population, 2009</th>\n",
       "      <th>State Population, 2010</th>\n",
       "      <th>State Population,  2011</th>\n",
       "      <th>State Population, 2012</th>\n",
       "      <th>State Population,  2013</th>\n",
       "      <th>State Population,  2014</th>\n",
       "      <th>% population rate change</th>\n",
       "      <th>% WIC participants rate change</th>\n",
       "    </tr>\n",
       "  </thead>\n",
       "  <tbody>\n",
       "    <tr>\n",
       "      <th>0</th>\n",
       "      <td>Alabama</td>\n",
       "      <td>140810.0</td>\n",
       "      <td>143768.0</td>\n",
       "      <td>141900.0</td>\n",
       "      <td>1.390005e+05</td>\n",
       "      <td>1.310462e+05</td>\n",
       "      <td>579880.0</td>\n",
       "      <td>571291.0</td>\n",
       "      <td>562959.0</td>\n",
       "      <td>539664</td>\n",
       "      <td>...</td>\n",
       "      <td>42369.0</td>\n",
       "      <td>4677464.0</td>\n",
       "      <td>4708708.0</td>\n",
       "      <td>4785401.0</td>\n",
       "      <td>4802740.0</td>\n",
       "      <td>4817528.0</td>\n",
       "      <td>4833722.0</td>\n",
       "      <td>4849377.0</td>\n",
       "      <td>2.987422</td>\n",
       "      <td>-6.933989</td>\n",
       "    </tr>\n",
       "    <tr>\n",
       "      <th>1</th>\n",
       "      <td>Alaska</td>\n",
       "      <td>25816.0</td>\n",
       "      <td>26295.0</td>\n",
       "      <td>24969.0</td>\n",
       "      <td>2.305467e+04</td>\n",
       "      <td>2.010658e+04</td>\n",
       "      <td>53554.0</td>\n",
       "      <td>54410.0</td>\n",
       "      <td>53920.0</td>\n",
       "      <td>52495</td>\n",
       "      <td>...</td>\n",
       "      <td>6670.0</td>\n",
       "      <td>688125.0</td>\n",
       "      <td>698473.0</td>\n",
       "      <td>714146.0</td>\n",
       "      <td>722718.0</td>\n",
       "      <td>730307.0</td>\n",
       "      <td>735132.0</td>\n",
       "      <td>736732.0</td>\n",
       "      <td>5.477520</td>\n",
       "      <td>-22.115807</td>\n",
       "    </tr>\n",
       "    <tr>\n",
       "      <th>2</th>\n",
       "      <td>Arizona</td>\n",
       "      <td>208873.0</td>\n",
       "      <td>199343.0</td>\n",
       "      <td>193214.0</td>\n",
       "      <td>1.825008e+05</td>\n",
       "      <td>1.729551e+05</td>\n",
       "      <td>655498.0</td>\n",
       "      <td>661437.0</td>\n",
       "      <td>662564.0</td>\n",
       "      <td>646946</td>\n",
       "      <td>...</td>\n",
       "      <td>23231.0</td>\n",
       "      <td>6499377.0</td>\n",
       "      <td>6595778.0</td>\n",
       "      <td>6413158.0</td>\n",
       "      <td>6482505.0</td>\n",
       "      <td>6551149.0</td>\n",
       "      <td>6626624.0</td>\n",
       "      <td>6731484.0</td>\n",
       "      <td>2.057468</td>\n",
       "      <td>-17.196055</td>\n",
       "    </tr>\n",
       "    <tr>\n",
       "      <th>3</th>\n",
       "      <td>Arkansas</td>\n",
       "      <td>94107.0</td>\n",
       "      <td>93461.0</td>\n",
       "      <td>94293.0</td>\n",
       "      <td>8.977683e+04</td>\n",
       "      <td>8.326325e+04</td>\n",
       "      <td>351950.0</td>\n",
       "      <td>352818.0</td>\n",
       "      <td>348909.0</td>\n",
       "      <td>332497</td>\n",
       "      <td>...</td>\n",
       "      <td>45837.0</td>\n",
       "      <td>2867764.0</td>\n",
       "      <td>2889450.0</td>\n",
       "      <td>2921588.0</td>\n",
       "      <td>2937979.0</td>\n",
       "      <td>2949828.0</td>\n",
       "      <td>2959373.0</td>\n",
       "      <td>2966369.0</td>\n",
       "      <td>2.662064</td>\n",
       "      <td>-11.522788</td>\n",
       "    </tr>\n",
       "    <tr>\n",
       "      <th>4</th>\n",
       "      <td>California</td>\n",
       "      <td>1439006.0</td>\n",
       "      <td>1466564.0</td>\n",
       "      <td>1472468.0</td>\n",
       "      <td>1.431881e+06</td>\n",
       "      <td>1.349419e+06</td>\n",
       "      <td>3175063.0</td>\n",
       "      <td>3281699.0</td>\n",
       "      <td>3333410.0</td>\n",
       "      <td>3.29118e+06</td>\n",
       "      <td>...</td>\n",
       "      <td>115841.0</td>\n",
       "      <td>36580371.0</td>\n",
       "      <td>36961664.0</td>\n",
       "      <td>37338198.0</td>\n",
       "      <td>37691912.0</td>\n",
       "      <td>37999878.0</td>\n",
       "      <td>38332521.0</td>\n",
       "      <td>38802500.0</td>\n",
       "      <td>4.980393</td>\n",
       "      <td>-6.225611</td>\n",
       "    </tr>\n",
       "  </tbody>\n",
       "</table>\n",
       "<p>5 rows × 35 columns</p>\n",
       "</div>"
      ],
      "text/plain": [
       "     State     WIC participants FY 2009  WIC participants FY 2011  \\\n",
       "0     Alabama                  140810.0                  143768.0   \n",
       "1      Alaska                   25816.0                   26295.0   \n",
       "2     Arizona                  208873.0                  199343.0   \n",
       "3    Arkansas                   94107.0                   93461.0   \n",
       "4  California                 1439006.0                 1466564.0   \n",
       "\n",
       "   WIC participants, FY 2012  WIC participants, FY 2013  \\\n",
       "0                   141900.0               1.390005e+05   \n",
       "1                    24969.0               2.305467e+04   \n",
       "2                   193214.0               1.825008e+05   \n",
       "3                    94293.0               8.977683e+04   \n",
       "4                  1472468.0               1.431881e+06   \n",
       "\n",
       "   WIC participants, FY 2014  \\\n",
       "0               1.310462e+05   \n",
       "1               2.010658e+04   \n",
       "2               1.729551e+05   \n",
       "3               8.326325e+04   \n",
       "4               1.349419e+06   \n",
       "\n",
       "   National School Lunch Program participants FY 2009  \\\n",
       "0                                           579880.0    \n",
       "1                                            53554.0    \n",
       "2                                           655498.0    \n",
       "3                                           351950.0    \n",
       "4                                          3175063.0    \n",
       "\n",
       "   National School Lunch Program participants FY 2011  \\\n",
       "0                                           571291.0    \n",
       "1                                            54410.0    \n",
       "2                                           661437.0    \n",
       "3                                           352818.0    \n",
       "4                                          3281699.0    \n",
       "\n",
       "   National School Lunch Program participants, FY 2012  \\\n",
       "0                                           562959.0     \n",
       "1                                            53920.0     \n",
       "2                                           662564.0     \n",
       "3                                           348909.0     \n",
       "4                                          3333410.0     \n",
       "\n",
       "  National School Lunch Program participants, FY 2013  \\\n",
       "0                                             539664    \n",
       "1                                              52495    \n",
       "2                                             646946    \n",
       "3                                             332497    \n",
       "4                                        3.29118e+06    \n",
       "\n",
       "                ...               Summer Food participants, FY 2014  \\\n",
       "0               ...                                         42369.0   \n",
       "1               ...                                          6670.0   \n",
       "2               ...                                         23231.0   \n",
       "3               ...                                         45837.0   \n",
       "4               ...                                        115841.0   \n",
       "\n",
       "   State Population, 2008  State Population, 2009  State Population, 2010  \\\n",
       "0               4677464.0               4708708.0               4785401.0   \n",
       "1                688125.0                698473.0                714146.0   \n",
       "2               6499377.0               6595778.0               6413158.0   \n",
       "3               2867764.0               2889450.0               2921588.0   \n",
       "4              36580371.0              36961664.0              37338198.0   \n",
       "\n",
       "   State Population,  2011  State Population, 2012  State Population,  2013  \\\n",
       "0                4802740.0               4817528.0                4833722.0   \n",
       "1                 722718.0                730307.0                 735132.0   \n",
       "2                6482505.0               6551149.0                6626624.0   \n",
       "3                2937979.0               2949828.0                2959373.0   \n",
       "4               37691912.0              37999878.0               38332521.0   \n",
       "\n",
       "   State Population,  2014  % population rate change  \\\n",
       "0                4849377.0                  2.987422   \n",
       "1                 736732.0                  5.477520   \n",
       "2                6731484.0                  2.057468   \n",
       "3                2966369.0                  2.662064   \n",
       "4               38802500.0                  4.980393   \n",
       "\n",
       "   % WIC participants rate change  \n",
       "0                       -6.933989  \n",
       "1                      -22.115807  \n",
       "2                      -17.196055  \n",
       "3                      -11.522788  \n",
       "4                       -6.225611  \n",
       "\n",
       "[5 rows x 35 columns]"
      ]
     },
     "execution_count": 45,
     "metadata": {},
     "output_type": "execute_result"
    }
   ],
   "source": [
    "df.head()"
   ]
  },
  {
   "cell_type": "code",
   "execution_count": 87,
   "metadata": {},
   "outputs": [
    {
     "data": {
      "text/plain": [
       "<seaborn.axisgrid.FacetGrid at 0x2531971d470>"
      ]
     },
     "execution_count": 87,
     "metadata": {},
     "output_type": "execute_result"
    },
    {
     "data": {
      "image/png": "[encoded data removed]",
      "text/plain": [
       "<matplotlib.figure.Figure at 0x2531971d438>"
      ]
     },
     "metadata": {},
     "output_type": "display_data"
    },
    {
     "data": {
      "image/png": "[encoded data removed]",
      "text/plain": [
       "<matplotlib.figure.Figure at 0x2531971d2b0>"
      ]
     },
     "metadata": {},
     "output_type": "display_data"
    }
   ],
   "source": [
    "sns.lmplot(x='% population rate change', y='% WIC participants rate change', data=df)\n",
    "sns.lmplot(x='population change', y='WIC participants change', data=df)"
   ]
  },
  {
   "cell_type": "code",
   "execution_count": 90,
   "metadata": {},
   "outputs": [
    {
     "data": {
      "image/png": "[encoded data removed]",
      "text/plain": [
       "<matplotlib.figure.Figure at 0x253195abda0>"
      ]
     },
     "metadata": {},
     "output_type": "display_data"
    }
   ],
   "source": [
    "x= df['population change']\n",
    "y=df['WIC participants change']\n",
    "fig, ax = plt.subplots(figsize=(8,5))\n",
    "ax.scatter(x, y,alpha=0.5)\n",
    "\n",
    "ax.fill_between([0,250000], 1.15, 2, facecolor='red', alpha = .15, interpolate=True)\n",
    "ax.fill_between([1250000,2500000], .5, .95, facecolor='green', alpha = .15, interpolate=True)\n",
    "\n",
    "ax.set_xlim([0, max(x)])\n",
    "ax.set_xlabel('Population Chnage', fontsize=12)\n",
    "ax.set_ylabel('WIC participants change', fontsize=12)\n",
    "ax.set_title('Scatterplot of number of discharges vs. excess rate of readmissions', fontsize=14)\n",
    "\n",
    "ax.grid(True)\n",
    "fig.tight_layout()"
   ]
  },
  {
   "cell_type": "code",
   "execution_count": 50,
   "metadata": {},
   "outputs": [
    {
     "name": "stdout",
     "output_type": "stream",
     "text": [
      "<class 'pandas.core.frame.DataFrame'>\n",
      "RangeIndex: 52 entries, 0 to 51\n",
      "Data columns (total 35 columns):\n",
      "State                                                  51 non-null object\n",
      "WIC participants FY 2009                               51 non-null float64\n",
      "WIC participants FY 2011                               51 non-null float64\n",
      "WIC participants, FY 2012                              51 non-null float64\n",
      "WIC participants, FY 2013                              51 non-null float64\n",
      "WIC participants, FY 2014                              51 non-null float64\n",
      "National School Lunch Program participants FY 2009     51 non-null float64\n",
      "National School Lunch Program participants FY 2011     51 non-null float64\n",
      "National School Lunch Program participants, FY 2012    51 non-null float64\n",
      "National School Lunch Program participants, FY 2013    52 non-null object\n",
      "National School Lunch Program participants, FY 2014    52 non-null object\n",
      "School Breakfast Program participants FY 2009          51 non-null float64\n",
      "School Breakfast Program participants FY 2011          51 non-null float64\n",
      "School Breakfast Program participants, FY 2012         51 non-null float64\n",
      "School Breakfast Program participants, FY 2013         51 non-null float64\n",
      "School Breakfast Program participants, FY 2014         51 non-null float64\n",
      "Child and Adult Care particpants FY 2009               51 non-null float64\n",
      "Child and Adult Care particpants FY 2011               51 non-null float64\n",
      "Child and Adult Care participants, FY 2012             51 non-null float64\n",
      "Child and Adult Care participants, FY 2013             51 non-null float64\n",
      "Child and Adult Care participants, FY 2014             51 non-null float64\n",
      "Summer Food particpants FY 2009                        51 non-null float64\n",
      "Summer Food participants FY 2011                       51 non-null float64\n",
      "Summer Food participants, FY 2012                      51 non-null float64\n",
      "Summer Food participants, FY 2013                      51 non-null float64\n",
      "Summer Food participants, FY 2014                      51 non-null float64\n",
      "State Population, 2008                                 51 non-null float64\n",
      "State Population, 2009                                 51 non-null float64\n",
      "State Population, 2010                                 51 non-null float64\n",
      "State Population,  2011                                51 non-null float64\n",
      "State Population, 2012                                 51 non-null float64\n",
      "State Population,  2013                                51 non-null float64\n",
      "State Population,  2014                                51 non-null float64\n",
      "% population rate change                               51 non-null float64\n",
      "% WIC participants rate change                         51 non-null float64\n",
      "dtypes: float64(32), object(3)\n",
      "memory usage: 14.3+ KB\n"
     ]
    }
   ],
   "source": [
    "df.info()"
   ]
  },
  {
   "cell_type": "code",
   "execution_count": 51,
   "metadata": {},
   "outputs": [],
   "source": [
    "#lm = linear_model.LinearRegression()\n",
    "#x3 = df['% population rate change'].values.reshape(-1, 1)\n",
    "#y3 = df['% WIC participants rate change'].values.reshape(-1, 1)\n",
    "#model3 = lm.fit(x3, y3)"
   ]
  },
  {
   "cell_type": "code",
   "execution_count": null,
   "metadata": {},
   "outputs": [],
   "source": []
  },
  {
   "cell_type": "code",
   "execution_count": 52,
   "metadata": {},
   "outputs": [],
   "source": [
    "df_rest_health3 = pd.merge(data_rest, data_health, how='inner', left_on=['State', 'County'], right_on=['State', 'County'])"
   ]
  },
  {
   "cell_type": "code",
   "execution_count": 54,
   "metadata": {},
   "outputs": [],
   "source": [
    "df_RI= df_rest_health3[df_rest_health3['State'] == 'RI']"
   ]
  },
  {
   "cell_type": "code",
   "execution_count": 56,
   "metadata": {},
   "outputs": [
    {
     "data": {
      "text/html": [
       "<div>\n",
       "<style scoped>\n",
       "    .dataframe tbody tr th:only-of-type {\n",
       "        vertical-align: middle;\n",
       "    }\n",
       "\n",
       "    .dataframe tbody tr th {\n",
       "        vertical-align: top;\n",
       "    }\n",
       "\n",
       "    .dataframe thead th {\n",
       "        text-align: right;\n",
       "    }\n",
       "</style>\n",
       "<table border=\"1\" class=\"dataframe\">\n",
       "  <thead>\n",
       "    <tr style=\"text-align: right;\">\n",
       "      <th></th>\n",
       "      <th>FIPS_x</th>\n",
       "      <th>State</th>\n",
       "      <th>County</th>\n",
       "      <th>FFR07</th>\n",
       "      <th>FFR12</th>\n",
       "      <th>PCH_FFR_07_12</th>\n",
       "      <th>FFRPTH07</th>\n",
       "      <th>FFRPTH12</th>\n",
       "      <th>PCH_FFRPTH_07_12</th>\n",
       "      <th>FSR07</th>\n",
       "      <th>...</th>\n",
       "      <th>PCT_OBESE_CHILD11</th>\n",
       "      <th>PCH_OBESE_CHILD_08_11</th>\n",
       "      <th>PCT_HSPA09</th>\n",
       "      <th>RECFAC07</th>\n",
       "      <th>RECFAC12</th>\n",
       "      <th>PCH_RECFAC_07_12</th>\n",
       "      <th>RECFACPTH07</th>\n",
       "      <th>RECFACPTH12</th>\n",
       "      <th>PCH_RECFACPTH_07_12</th>\n",
       "      <th>NATAMEN</th>\n",
       "    </tr>\n",
       "  </thead>\n",
       "  <tbody>\n",
       "    <tr>\n",
       "      <th>2412</th>\n",
       "      <td>44001</td>\n",
       "      <td>RI</td>\n",
       "      <td>Bristol</td>\n",
       "      <td>30.0</td>\n",
       "      <td>30</td>\n",
       "      <td>0.000000</td>\n",
       "      <td>0.600252</td>\n",
       "      <td>0.610451</td>\n",
       "      <td>1.699088</td>\n",
       "      <td>58.0</td>\n",
       "      <td>...</td>\n",
       "      <td>13.3</td>\n",
       "      <td>-3.5</td>\n",
       "      <td>23.8</td>\n",
       "      <td>5.0</td>\n",
       "      <td>5.0</td>\n",
       "      <td>0.000000</td>\n",
       "      <td>0.100042</td>\n",
       "      <td>0.101742</td>\n",
       "      <td>1.699088</td>\n",
       "      <td>4.0</td>\n",
       "    </tr>\n",
       "    <tr>\n",
       "      <th>2413</th>\n",
       "      <td>44003</td>\n",
       "      <td>RI</td>\n",
       "      <td>Kent</td>\n",
       "      <td>134.0</td>\n",
       "      <td>144</td>\n",
       "      <td>7.462687</td>\n",
       "      <td>0.794507</td>\n",
       "      <td>0.873558</td>\n",
       "      <td>9.949721</td>\n",
       "      <td>169.0</td>\n",
       "      <td>...</td>\n",
       "      <td>16.3</td>\n",
       "      <td>0.9</td>\n",
       "      <td>23.8</td>\n",
       "      <td>38.0</td>\n",
       "      <td>30.0</td>\n",
       "      <td>-21.052632</td>\n",
       "      <td>0.225308</td>\n",
       "      <td>0.181991</td>\n",
       "      <td>-19.225534</td>\n",
       "      <td>4.0</td>\n",
       "    </tr>\n",
       "    <tr>\n",
       "      <th>2414</th>\n",
       "      <td>44005</td>\n",
       "      <td>RI</td>\n",
       "      <td>Newport</td>\n",
       "      <td>70.0</td>\n",
       "      <td>76</td>\n",
       "      <td>8.571429</td>\n",
       "      <td>0.860956</td>\n",
       "      <td>0.926423</td>\n",
       "      <td>7.603979</td>\n",
       "      <td>140.0</td>\n",
       "      <td>...</td>\n",
       "      <td>13.9</td>\n",
       "      <td>-2.0</td>\n",
       "      <td>23.8</td>\n",
       "      <td>15.0</td>\n",
       "      <td>10.0</td>\n",
       "      <td>-33.333333</td>\n",
       "      <td>0.184490</td>\n",
       "      <td>0.121898</td>\n",
       "      <td>-33.927381</td>\n",
       "      <td>4.0</td>\n",
       "    </tr>\n",
       "    <tr>\n",
       "      <th>2415</th>\n",
       "      <td>44007</td>\n",
       "      <td>RI</td>\n",
       "      <td>Providence</td>\n",
       "      <td>489.0</td>\n",
       "      <td>454</td>\n",
       "      <td>-7.157464</td>\n",
       "      <td>0.778315</td>\n",
       "      <td>0.722558</td>\n",
       "      <td>-7.163818</td>\n",
       "      <td>499.0</td>\n",
       "      <td>...</td>\n",
       "      <td>16.5</td>\n",
       "      <td>-0.4</td>\n",
       "      <td>23.8</td>\n",
       "      <td>62.0</td>\n",
       "      <td>80.0</td>\n",
       "      <td>29.032258</td>\n",
       "      <td>0.098682</td>\n",
       "      <td>0.127323</td>\n",
       "      <td>29.023428</td>\n",
       "      <td>4.0</td>\n",
       "    </tr>\n",
       "    <tr>\n",
       "      <th>2416</th>\n",
       "      <td>44009</td>\n",
       "      <td>RI</td>\n",
       "      <td>Washington</td>\n",
       "      <td>108.0</td>\n",
       "      <td>102</td>\n",
       "      <td>-5.555556</td>\n",
       "      <td>0.851822</td>\n",
       "      <td>0.809871</td>\n",
       "      <td>-4.924906</td>\n",
       "      <td>157.0</td>\n",
       "      <td>...</td>\n",
       "      <td>10.6</td>\n",
       "      <td>-3.6</td>\n",
       "      <td>23.8</td>\n",
       "      <td>22.0</td>\n",
       "      <td>26.0</td>\n",
       "      <td>18.181818</td>\n",
       "      <td>0.173519</td>\n",
       "      <td>0.206438</td>\n",
       "      <td>18.970973</td>\n",
       "      <td>5.0</td>\n",
       "    </tr>\n",
       "  </tbody>\n",
       "</table>\n",
       "<p>5 rows × 36 columns</p>\n",
       "</div>"
      ],
      "text/plain": [
       "      FIPS_x State      County  FFR07  FFR12  PCH_FFR_07_12  FFRPTH07  \\\n",
       "2412   44001    RI     Bristol   30.0     30       0.000000  0.600252   \n",
       "2413   44003    RI        Kent  134.0    144       7.462687  0.794507   \n",
       "2414   44005    RI     Newport   70.0     76       8.571429  0.860956   \n",
       "2415   44007    RI  Providence  489.0    454      -7.157464  0.778315   \n",
       "2416   44009    RI  Washington  108.0    102      -5.555556  0.851822   \n",
       "\n",
       "      FFRPTH12  PCH_FFRPTH_07_12  FSR07   ...     PCT_OBESE_CHILD11  \\\n",
       "2412  0.610451          1.699088   58.0   ...                  13.3   \n",
       "2413  0.873558          9.949721  169.0   ...                  16.3   \n",
       "2414  0.926423          7.603979  140.0   ...                  13.9   \n",
       "2415  0.722558         -7.163818  499.0   ...                  16.5   \n",
       "2416  0.809871         -4.924906  157.0   ...                  10.6   \n",
       "\n",
       "      PCH_OBESE_CHILD_08_11  PCT_HSPA09  RECFAC07  RECFAC12  PCH_RECFAC_07_12  \\\n",
       "2412                   -3.5        23.8       5.0       5.0          0.000000   \n",
       "2413                    0.9        23.8      38.0      30.0        -21.052632   \n",
       "2414                   -2.0        23.8      15.0      10.0        -33.333333   \n",
       "2415                   -0.4        23.8      62.0      80.0         29.032258   \n",
       "2416                   -3.6        23.8      22.0      26.0         18.181818   \n",
       "\n",
       "      RECFACPTH07  RECFACPTH12  PCH_RECFACPTH_07_12  NATAMEN  \n",
       "2412     0.100042     0.101742             1.699088      4.0  \n",
       "2413     0.225308     0.181991           -19.225534      4.0  \n",
       "2414     0.184490     0.121898           -33.927381      4.0  \n",
       "2415     0.098682     0.127323            29.023428      4.0  \n",
       "2416     0.173519     0.206438            18.970973      5.0  \n",
       "\n",
       "[5 rows x 36 columns]"
      ]
     },
     "execution_count": 56,
     "metadata": {},
     "output_type": "execute_result"
    }
   ],
   "source": [
    "df_RI.head()"
   ]
  },
  {
   "cell_type": "code",
   "execution_count": 55,
   "metadata": {},
   "outputs": [
    {
     "data": {
      "text/plain": [
       "<matplotlib.axes._subplots.AxesSubplot at 0x139989e0da0>"
      ]
     },
     "execution_count": 55,
     "metadata": {},
     "output_type": "execute_result"
    },
    {
     "data": {
      "image/png": "[encoded data removed]",
      "text/plain": [
       "<matplotlib.figure.Figure at 0x139989e0f98>"
      ]
     },
     "metadata": {},
     "output_type": "display_data"
    }
   ],
   "source": [
    "sns.barplot(x='County', y='PCH_FFR_07_12', data=df_RI)"
   ]
  },
  {
   "cell_type": "markdown",
   "metadata": {},
   "source": [
    "Looking more closely into Rhode Island it is interesting to see that in the 5 counties of Rhode Island the number of fast food resturant has reamined almost same. While increased in two counties, it decreased by almost similar amount in the other two while Bristol county did not show any changes in this category. This could be further invetigated using health and resturant data in other categories."
   ]
  },
  {
   "cell_type": "code",
   "execution_count": 162,
   "metadata": {},
   "outputs": [],
   "source": [
    "df1_2 = df1_new.groupby(['STABBR']).agg({'STABBR':['count'], \n",
    "                         'Income':'median'}) \n",
    "                         "
   ]
  },
  {
   "cell_type": "code",
   "execution_count": 163,
   "metadata": {},
   "outputs": [],
   "source": [
    "df1_2.columns = [' '.join(col).strip() for col in df1_2.columns.values]"
   ]
  },
  {
   "cell_type": "code",
   "execution_count": 164,
   "metadata": {},
   "outputs": [],
   "source": [
    "for col in df1_2.columns:\n",
    "    df1_2[col] = df1_2[col].astype(str)"
   ]
  },
  {
   "cell_type": "code",
   "execution_count": 165,
   "metadata": {},
   "outputs": [],
   "source": [
    "df1_2 = df1_2.reset_index()"
   ]
  },
  {
   "cell_type": "code",
   "execution_count": 166,
   "metadata": {},
   "outputs": [
    {
     "data": {
      "text/plain": [
       "Index(['STABBR', 'STABBR count', 'Income median'], dtype='object')"
      ]
     },
     "execution_count": 166,
     "metadata": {},
     "output_type": "execute_result"
    }
   ],
   "source": [
    "df1_2.columns"
   ]
  },
  {
   "cell_type": "code",
   "execution_count": 167,
   "metadata": {},
   "outputs": [],
   "source": [
    "color_scl = [[0.1, 'rgb(242,240,247)'],[0.2, 'rgb(218,218,235)'],[0.4, 'rgb(188,189,220)'],\\\n",
    "            [0.6, 'rgb(158,154,200)'],[0.8, 'rgb(117,107,177)'],[1.0, 'rgb(84,39,143)']]"
   ]
  },
  {
   "cell_type": "code",
   "execution_count": 168,
   "metadata": {},
   "outputs": [],
   "source": [
    "data = [ dict(\n",
    "        type='choropleth',\n",
    "        colorscale = color_scl,\n",
    "        autocolorscale = False,\n",
    "        locations = df1_2['STABBR'],\n",
    "        z = df1_2[\"Income median\"].astype(float),\n",
    "        locationmode = 'USA-states',\n",
    "        text = '',\n",
    "        marker = dict(\n",
    "            line = dict (\n",
    "                color = 'rgb(255,255,255)',\n",
    "                width = 2\n",
    "            ) ),\n",
    "        colorbar = dict(\n",
    "            title = \"Median Income\")\n",
    "        ) ]"
   ]
  },
  {
   "cell_type": "code",
   "execution_count": 169,
   "metadata": {},
   "outputs": [],
   "source": [
    "layout = dict(\n",
    "        title = 'Median Income <br>(Hover for breakdown)',\n",
    "        geo = dict(\n",
    "            scope='usa',\n",
    "            projection=dict( type='albers usa' ),\n",
    "            showlakes = True,\n",
    "            lakecolor = 'rgb(255, 255, 255)'),\n",
    "             )"
   ]
  },
  {
   "cell_type": "code",
   "execution_count": 170,
   "metadata": {},
   "outputs": [
    {
     "name": "stdout",
     "output_type": "stream",
     "text": [
      "High five! You successfully sent some data to your account on plotly. View your plot in your browser at https://plot.ly/~hsingh29320/0 or inside your plot.ly account where it is named 'd3-cloropleth-map'\n"
     ]
    },
    {
     "data": {
      "text/html": [
       "<iframe id=\"igraph\" scrolling=\"no\" style=\"border:none;\" seamless=\"seamless\" src=\"https://plot.ly/~hsingh29320/0.embed\" height=\"525px\" width=\"100%\"></iframe>"
      ],
      "text/plain": [
       "<plotly.tools.PlotlyDisplay object>"
      ]
     },
     "execution_count": 170,
     "metadata": {},
     "output_type": "execute_result"
    }
   ],
   "source": [
    "fig = dict( data=data, layout=layout )\n",
    "py.iplot( fig, filename='d3-cloropleth-map' )"
   ]
  },
  {
   "cell_type": "code",
   "execution_count": 172,
   "metadata": {},
   "outputs": [],
   "source": [
    "df1_3 = df1_2"
   ]
  },
  {
   "cell_type": "code",
   "execution_count": 173,
   "metadata": {},
   "outputs": [],
   "source": [
    "df1_3['STABBR count'] = df1_3['STABBR count'].astype(int)\n",
    "df1_3['Income median'] = df1_3['Income median'].astype(float)"
   ]
  },
  {
   "cell_type": "code",
   "execution_count": 174,
   "metadata": {},
   "outputs": [
    {
     "data": {
      "text/html": [
       "<div>\n",
       "<style scoped>\n",
       "    .dataframe tbody tr th:only-of-type {\n",
       "        vertical-align: middle;\n",
       "    }\n",
       "\n",
       "    .dataframe tbody tr th {\n",
       "        vertical-align: top;\n",
       "    }\n",
       "\n",
       "    .dataframe thead th {\n",
       "        text-align: right;\n",
       "    }\n",
       "</style>\n",
       "<table border=\"1\" class=\"dataframe\">\n",
       "  <thead>\n",
       "    <tr style=\"text-align: right;\">\n",
       "      <th></th>\n",
       "      <th>STABBR</th>\n",
       "      <th>STABBR count</th>\n",
       "      <th>Income median</th>\n",
       "    </tr>\n",
       "  </thead>\n",
       "  <tbody>\n",
       "    <tr>\n",
       "      <th>0</th>\n",
       "      <td>AK</td>\n",
       "      <td>6</td>\n",
       "      <td>37350.0</td>\n",
       "    </tr>\n",
       "    <tr>\n",
       "      <th>1</th>\n",
       "      <td>AL</td>\n",
       "      <td>78</td>\n",
       "      <td>29250.0</td>\n",
       "    </tr>\n",
       "    <tr>\n",
       "      <th>2</th>\n",
       "      <td>AR</td>\n",
       "      <td>66</td>\n",
       "      <td>26700.0</td>\n",
       "    </tr>\n",
       "    <tr>\n",
       "      <th>3</th>\n",
       "      <td>AS</td>\n",
       "      <td>1</td>\n",
       "      <td>22300.0</td>\n",
       "    </tr>\n",
       "    <tr>\n",
       "      <th>4</th>\n",
       "      <td>AZ</td>\n",
       "      <td>93</td>\n",
       "      <td>29400.0</td>\n",
       "    </tr>\n",
       "  </tbody>\n",
       "</table>\n",
       "</div>"
      ],
      "text/plain": [
       "  STABBR  STABBR count  Income median\n",
       "0     AK             6        37350.0\n",
       "1     AL            78        29250.0\n",
       "2     AR            66        26700.0\n",
       "3     AS             1        22300.0\n",
       "4     AZ            93        29400.0"
      ]
     },
     "execution_count": 174,
     "metadata": {},
     "output_type": "execute_result"
    }
   ],
   "source": [
    "df1_3.head()"
   ]
  },
  {
   "cell_type": "code",
   "execution_count": 175,
   "metadata": {},
   "outputs": [
    {
     "data": {
      "image/png": "[encoded data removed]",
      "text/plain": [
       "<Figure size 360x360 with 1 Axes>"
      ]
     },
     "metadata": {},
     "output_type": "display_data"
    }
   ],
   "source": [
    "_ = sns.lmplot(x='STABBR count', y='Income median', data=df1_2)"
   ]
  },
  {
   "cell_type": "code",
   "execution_count": 18,
   "metadata": {
    "collapsed": true
   },
   "outputs": [],
   "source": [
    "# separating the first digit of Zip to divide schools according to regions from 0 to 9 as categories\n",
    "df1['ZIP1'] = df1['ZIP'].map(lambda x: int(str(x)[:1]))"
   ]
  },
  {
   "cell_type": "code",
   "execution_count": null,
   "metadata": {},
   "outputs": [],
   "source": []
  },
  {
   "cell_type": "code",
   "execution_count": 132,
   "metadata": {},
   "outputs": [],
   "source": []
  },
  {
   "cell_type": "markdown",
   "metadata": {},
   "source": [
    "###### "
   ]
  },
  {
   "cell_type": "code",
   "execution_count": 19,
   "metadata": {},
   "outputs": [
    {
     "data": {
      "text/plain": [
       "0    3\n",
       "1    3\n",
       "2    3\n",
       "3    3\n",
       "4    3\n",
       "Name: ZIP1, dtype: int64"
      ]
     },
     "execution_count": 19,
     "metadata": {},
     "output_type": "execute_result"
    }
   ],
   "source": [
    "df1['ZIP1'].head()"
   ]
  },
  {
   "cell_type": "code",
   "execution_count": null,
   "metadata": {},
   "outputs": [],
   "source": []
  },
  {
   "cell_type": "code",
   "execution_count": 20,
   "metadata": {
    "collapsed": true
   },
   "outputs": [],
   "source": [
    "#We developed a separate table using UNITID, name, city and state since these can only be used to identify school\n",
    "schools = df1[['UNITID', 'INSTNM', 'CITY', 'STABBR']]"
   ]
  },
  {
   "cell_type": "code",
   "execution_count": 21,
   "metadata": {},
   "outputs": [
    {
     "data": {
      "text/html": [
       "<div>\n",
       "<style>\n",
       "    .dataframe thead tr:only-child th {\n",
       "        text-align: right;\n",
       "    }\n",
       "\n",
       "    .dataframe thead th {\n",
       "        text-align: left;\n",
       "    }\n",
       "\n",
       "    .dataframe tbody tr th {\n",
       "        vertical-align: top;\n",
       "    }\n",
       "</style>\n",
       "<table border=\"1\" class=\"dataframe\">\n",
       "  <thead>\n",
       "    <tr style=\"text-align: right;\">\n",
       "      <th></th>\n",
       "      <th>UNITID</th>\n",
       "      <th>INSTNM</th>\n",
       "      <th>CITY</th>\n",
       "      <th>STABBR</th>\n",
       "    </tr>\n",
       "  </thead>\n",
       "  <tbody>\n",
       "    <tr>\n",
       "      <th>0</th>\n",
       "      <td>100654</td>\n",
       "      <td>Alabama A &amp; M University</td>\n",
       "      <td>Normal</td>\n",
       "      <td>AL</td>\n",
       "    </tr>\n",
       "    <tr>\n",
       "      <th>1</th>\n",
       "      <td>100663</td>\n",
       "      <td>University of Alabama at Birmingham</td>\n",
       "      <td>Birmingham</td>\n",
       "      <td>AL</td>\n",
       "    </tr>\n",
       "    <tr>\n",
       "      <th>2</th>\n",
       "      <td>100690</td>\n",
       "      <td>Amridge University</td>\n",
       "      <td>Montgomery</td>\n",
       "      <td>AL</td>\n",
       "    </tr>\n",
       "    <tr>\n",
       "      <th>3</th>\n",
       "      <td>100706</td>\n",
       "      <td>University of Alabama in Huntsville</td>\n",
       "      <td>Huntsville</td>\n",
       "      <td>AL</td>\n",
       "    </tr>\n",
       "    <tr>\n",
       "      <th>4</th>\n",
       "      <td>100724</td>\n",
       "      <td>Alabama State University</td>\n",
       "      <td>Montgomery</td>\n",
       "      <td>AL</td>\n",
       "    </tr>\n",
       "  </tbody>\n",
       "</table>\n",
       "</div>"
      ],
      "text/plain": [
       "   UNITID                               INSTNM        CITY STABBR\n",
       "0  100654             Alabama A & M University      Normal     AL\n",
       "1  100663  University of Alabama at Birmingham  Birmingham     AL\n",
       "2  100690                   Amridge University  Montgomery     AL\n",
       "3  100706  University of Alabama in Huntsville  Huntsville     AL\n",
       "4  100724             Alabama State University  Montgomery     AL"
      ]
     },
     "execution_count": 21,
     "metadata": {},
     "output_type": "execute_result"
    }
   ],
   "source": [
    "schools.head()"
   ]
  },
  {
   "cell_type": "code",
   "execution_count": 22,
   "metadata": {
    "collapsed": true
   },
   "outputs": [],
   "source": [
    "#Select the columns that cant be used for model development: Zip, lat, long, opeid, opeid6, accreditor, school_url, price-calculator_url, repayment_date.median\n",
    "#separation_date.median, alias, accreditor_code, title_iv.approval_date\n",
    "other_columns = ['INSTNM', 'CITY','STABBR','OPEID', 'ST_FIPS', 'REGION', 'LOCALE', 'LOCALE2','OPEID6', 'ZIP','ACCREDAGENCY','LATITUDE', 'ALIAS','LONGITUDE', 'INSTURL','NPCURL','ACCREDCODE','T4APPROVALDATE']"
   ]
  },
  {
   "cell_type": "code",
   "execution_count": 23,
   "metadata": {
    "collapsed": true
   },
   "outputs": [],
   "source": [
    "#Drop the columns in list other_columns\n",
    "df1.drop(other_columns, axis = 1, inplace =True)"
   ]
  },
  {
   "cell_type": "code",
   "execution_count": 24,
   "metadata": {},
   "outputs": [
    {
     "data": {
      "text/plain": [
       "(7593, 159)"
      ]
     },
     "execution_count": 24,
     "metadata": {},
     "output_type": "execute_result"
    }
   ],
   "source": [
    "#check shape of the dataframe\n",
    "df1.shape"
   ]
  },
  {
   "cell_type": "code",
   "execution_count": 25,
   "metadata": {},
   "outputs": [
    {
     "name": "stdout",
     "output_type": "stream",
     "text": [
      "<class 'pandas.core.frame.DataFrame'>\n",
      "RangeIndex: 7593 entries, 0 to 7592\n",
      "Columns: 159 entries, UNITID to ZIP1\n",
      "dtypes: float64(149), int64(10)\n",
      "memory usage: 9.2 MB\n"
     ]
    }
   ],
   "source": [
    "# checking the dataframe\n",
    "df1.info()"
   ]
  },
  {
   "cell_type": "code",
   "execution_count": 26,
   "metadata": {
    "collapsed": true
   },
   "outputs": [],
   "source": [
    "#setting UNITID as the index\n",
    "df1.set_index('UNITID', inplace=True)"
   ]
  },
  {
   "cell_type": "code",
   "execution_count": 27,
   "metadata": {
    "collapsed": true
   },
   "outputs": [],
   "source": [
    "#dropping rows those are null in the income column\n",
    "Inc_null = df1.Income.isnull()"
   ]
  },
  {
   "cell_type": "code",
   "execution_count": 28,
   "metadata": {
    "collapsed": true
   },
   "outputs": [],
   "source": [
    "df2 = df1.dropna(subset=['Income'], how='all')"
   ]
  },
  {
   "cell_type": "code",
   "execution_count": 29,
   "metadata": {
    "collapsed": true
   },
   "outputs": [],
   "source": [
    "#checking for columns with less than 40 percent of null data\n",
    "columns = df2.isnull().sum()/df2.shape[0]*100 < 40  "
   ]
  },
  {
   "cell_type": "code",
   "execution_count": 30,
   "metadata": {
    "collapsed": true
   },
   "outputs": [],
   "source": [
    "df3 = df2.loc[:,columns]"
   ]
  },
  {
   "cell_type": "code",
   "execution_count": 31,
   "metadata": {},
   "outputs": [
    {
     "data": {
      "text/html": [
       "<div>\n",
       "<style>\n",
       "    .dataframe thead tr:only-child th {\n",
       "        text-align: right;\n",
       "    }\n",
       "\n",
       "    .dataframe thead th {\n",
       "        text-align: left;\n",
       "    }\n",
       "\n",
       "    .dataframe tbody tr th {\n",
       "        vertical-align: top;\n",
       "    }\n",
       "</style>\n",
       "<table border=\"1\" class=\"dataframe\">\n",
       "  <thead>\n",
       "    <tr style=\"text-align: right;\">\n",
       "      <th></th>\n",
       "      <th>SCH_DEG</th>\n",
       "      <th>HCM2</th>\n",
       "      <th>MAIN</th>\n",
       "      <th>NUMBRANCH</th>\n",
       "      <th>PREDDEG</th>\n",
       "      <th>HIGHDEG</th>\n",
       "      <th>CONTROL</th>\n",
       "      <th>CCBASIC</th>\n",
       "      <th>CCUGPROF</th>\n",
       "      <th>CCSIZSET</th>\n",
       "      <th>...</th>\n",
       "      <th>TUITIONFEE_IN</th>\n",
       "      <th>TUITIONFEE_OUT</th>\n",
       "      <th>TUITFTE</th>\n",
       "      <th>INEXPFTE</th>\n",
       "      <th>AVGFACSAL</th>\n",
       "      <th>PFTFAC</th>\n",
       "      <th>ICLEVEL</th>\n",
       "      <th>OPENADMP</th>\n",
       "      <th>Income</th>\n",
       "      <th>ZIP1</th>\n",
       "    </tr>\n",
       "    <tr>\n",
       "      <th>UNITID</th>\n",
       "      <th></th>\n",
       "      <th></th>\n",
       "      <th></th>\n",
       "      <th></th>\n",
       "      <th></th>\n",
       "      <th></th>\n",
       "      <th></th>\n",
       "      <th></th>\n",
       "      <th></th>\n",
       "      <th></th>\n",
       "      <th></th>\n",
       "      <th></th>\n",
       "      <th></th>\n",
       "      <th></th>\n",
       "      <th></th>\n",
       "      <th></th>\n",
       "      <th></th>\n",
       "      <th></th>\n",
       "      <th></th>\n",
       "      <th></th>\n",
       "      <th></th>\n",
       "    </tr>\n",
       "  </thead>\n",
       "  <tbody>\n",
       "    <tr>\n",
       "      <th>100654</th>\n",
       "      <td>3.0</td>\n",
       "      <td>0</td>\n",
       "      <td>1</td>\n",
       "      <td>1</td>\n",
       "      <td>3</td>\n",
       "      <td>4</td>\n",
       "      <td>1</td>\n",
       "      <td>18.0</td>\n",
       "      <td>10.0</td>\n",
       "      <td>13.0</td>\n",
       "      <td>...</td>\n",
       "      <td>9366.0</td>\n",
       "      <td>17136.0</td>\n",
       "      <td>9657.0</td>\n",
       "      <td>7941.0</td>\n",
       "      <td>7017.0</td>\n",
       "      <td>0.7096</td>\n",
       "      <td>1</td>\n",
       "      <td>2.0</td>\n",
       "      <td>29900.0</td>\n",
       "      <td>3</td>\n",
       "    </tr>\n",
       "    <tr>\n",
       "      <th>100663</th>\n",
       "      <td>3.0</td>\n",
       "      <td>0</td>\n",
       "      <td>1</td>\n",
       "      <td>1</td>\n",
       "      <td>3</td>\n",
       "      <td>4</td>\n",
       "      <td>1</td>\n",
       "      <td>15.0</td>\n",
       "      <td>9.0</td>\n",
       "      <td>15.0</td>\n",
       "      <td>...</td>\n",
       "      <td>7766.0</td>\n",
       "      <td>17654.0</td>\n",
       "      <td>10263.0</td>\n",
       "      <td>17548.0</td>\n",
       "      <td>10221.0</td>\n",
       "      <td>0.9081</td>\n",
       "      <td>1</td>\n",
       "      <td>2.0</td>\n",
       "      <td>40200.0</td>\n",
       "      <td>3</td>\n",
       "    </tr>\n",
       "    <tr>\n",
       "      <th>100690</th>\n",
       "      <td>3.0</td>\n",
       "      <td>0</td>\n",
       "      <td>1</td>\n",
       "      <td>1</td>\n",
       "      <td>3</td>\n",
       "      <td>4</td>\n",
       "      <td>2</td>\n",
       "      <td>21.0</td>\n",
       "      <td>5.0</td>\n",
       "      <td>6.0</td>\n",
       "      <td>...</td>\n",
       "      <td>6900.0</td>\n",
       "      <td>6900.0</td>\n",
       "      <td>17071.0</td>\n",
       "      <td>7113.0</td>\n",
       "      <td>3217.0</td>\n",
       "      <td>1.0000</td>\n",
       "      <td>1</td>\n",
       "      <td>1.0</td>\n",
       "      <td>40100.0</td>\n",
       "      <td>3</td>\n",
       "    </tr>\n",
       "    <tr>\n",
       "      <th>100706</th>\n",
       "      <td>3.0</td>\n",
       "      <td>0</td>\n",
       "      <td>1</td>\n",
       "      <td>1</td>\n",
       "      <td>3</td>\n",
       "      <td>4</td>\n",
       "      <td>1</td>\n",
       "      <td>15.0</td>\n",
       "      <td>9.0</td>\n",
       "      <td>12.0</td>\n",
       "      <td>...</td>\n",
       "      <td>9128.0</td>\n",
       "      <td>20622.0</td>\n",
       "      <td>8917.0</td>\n",
       "      <td>10619.0</td>\n",
       "      <td>9514.0</td>\n",
       "      <td>0.6173</td>\n",
       "      <td>1</td>\n",
       "      <td>2.0</td>\n",
       "      <td>45600.0</td>\n",
       "      <td>3</td>\n",
       "    </tr>\n",
       "    <tr>\n",
       "      <th>100724</th>\n",
       "      <td>3.0</td>\n",
       "      <td>0</td>\n",
       "      <td>1</td>\n",
       "      <td>1</td>\n",
       "      <td>3</td>\n",
       "      <td>4</td>\n",
       "      <td>1</td>\n",
       "      <td>18.0</td>\n",
       "      <td>10.0</td>\n",
       "      <td>13.0</td>\n",
       "      <td>...</td>\n",
       "      <td>8720.0</td>\n",
       "      <td>15656.0</td>\n",
       "      <td>7717.0</td>\n",
       "      <td>7742.0</td>\n",
       "      <td>7940.0</td>\n",
       "      <td>0.6395</td>\n",
       "      <td>1</td>\n",
       "      <td>2.0</td>\n",
       "      <td>26700.0</td>\n",
       "      <td>3</td>\n",
       "    </tr>\n",
       "  </tbody>\n",
       "</table>\n",
       "<p>5 rows × 70 columns</p>\n",
       "</div>"
      ],
      "text/plain": [
       "        SCH_DEG  HCM2  MAIN  NUMBRANCH  PREDDEG  HIGHDEG  CONTROL  CCBASIC  \\\n",
       "UNITID                                                                       \n",
       "100654      3.0     0     1          1        3        4        1     18.0   \n",
       "100663      3.0     0     1          1        3        4        1     15.0   \n",
       "100690      3.0     0     1          1        3        4        2     21.0   \n",
       "100706      3.0     0     1          1        3        4        1     15.0   \n",
       "100724      3.0     0     1          1        3        4        1     18.0   \n",
       "\n",
       "        CCUGPROF  CCSIZSET  ...   TUITIONFEE_IN  TUITIONFEE_OUT  TUITFTE  \\\n",
       "UNITID                      ...                                            \n",
       "100654      10.0      13.0  ...          9366.0         17136.0   9657.0   \n",
       "100663       9.0      15.0  ...          7766.0         17654.0  10263.0   \n",
       "100690       5.0       6.0  ...          6900.0          6900.0  17071.0   \n",
       "100706       9.0      12.0  ...          9128.0         20622.0   8917.0   \n",
       "100724      10.0      13.0  ...          8720.0         15656.0   7717.0   \n",
       "\n",
       "        INEXPFTE  AVGFACSAL  PFTFAC  ICLEVEL  OPENADMP   Income  ZIP1  \n",
       "UNITID                                                                 \n",
       "100654    7941.0     7017.0  0.7096        1       2.0  29900.0     3  \n",
       "100663   17548.0    10221.0  0.9081        1       2.0  40200.0     3  \n",
       "100690    7113.0     3217.0  1.0000        1       1.0  40100.0     3  \n",
       "100706   10619.0     9514.0  0.6173        1       2.0  45600.0     3  \n",
       "100724    7742.0     7940.0  0.6395        1       2.0  26700.0     3  \n",
       "\n",
       "[5 rows x 70 columns]"
      ]
     },
     "execution_count": 31,
     "metadata": {},
     "output_type": "execute_result"
    }
   ],
   "source": [
    "df3.head()"
   ]
  },
  {
   "cell_type": "code",
   "execution_count": 32,
   "metadata": {},
   "outputs": [
    {
     "data": {
      "text/plain": [
       "(array([   0,    0,    0, ..., 5681, 5681, 5681], dtype=int64),\n",
       " array([ 19,  37,  38, ..., 152, 153, 155], dtype=int64))"
      ]
     },
     "execution_count": 32,
     "metadata": {},
     "output_type": "execute_result"
    }
   ],
   "source": [
    "#checking for nan values\n",
    "np.where(np.isnan(df2))"
   ]
  },
  {
   "cell_type": "code",
   "execution_count": 33,
   "metadata": {},
   "outputs": [
    {
     "name": "stderr",
     "output_type": "stream",
     "text": [
      "C:\\Users\\harshvardhan\\Anaconda3\\lib\\site-packages\\pandas\\core\\generic.py:3660: SettingWithCopyWarning: \n",
      "A value is trying to be set on a copy of a slice from a DataFrame\n",
      "\n",
      "See the caveats in the documentation: http://pandas.pydata.org/pandas-docs/stable/indexing.html#indexing-view-versus-copy\n",
      "  self._update_inplace(new_data)\n"
     ]
    },
    {
     "data": {
      "text/html": [
       "<div>\n",
       "<style>\n",
       "    .dataframe thead tr:only-child th {\n",
       "        text-align: right;\n",
       "    }\n",
       "\n",
       "    .dataframe thead th {\n",
       "        text-align: left;\n",
       "    }\n",
       "\n",
       "    .dataframe tbody tr th {\n",
       "        vertical-align: top;\n",
       "    }\n",
       "</style>\n",
       "<table border=\"1\" class=\"dataframe\">\n",
       "  <thead>\n",
       "    <tr style=\"text-align: right;\">\n",
       "      <th></th>\n",
       "      <th>SCH_DEG</th>\n",
       "      <th>HCM2</th>\n",
       "      <th>MAIN</th>\n",
       "      <th>NUMBRANCH</th>\n",
       "      <th>PREDDEG</th>\n",
       "      <th>HIGHDEG</th>\n",
       "      <th>CONTROL</th>\n",
       "      <th>CCBASIC</th>\n",
       "      <th>CCUGPROF</th>\n",
       "      <th>CCSIZSET</th>\n",
       "      <th>...</th>\n",
       "      <th>TUITIONFEE_IN</th>\n",
       "      <th>TUITIONFEE_OUT</th>\n",
       "      <th>TUITFTE</th>\n",
       "      <th>INEXPFTE</th>\n",
       "      <th>AVGFACSAL</th>\n",
       "      <th>PFTFAC</th>\n",
       "      <th>ICLEVEL</th>\n",
       "      <th>OPENADMP</th>\n",
       "      <th>Income</th>\n",
       "      <th>ZIP1</th>\n",
       "    </tr>\n",
       "    <tr>\n",
       "      <th>UNITID</th>\n",
       "      <th></th>\n",
       "      <th></th>\n",
       "      <th></th>\n",
       "      <th></th>\n",
       "      <th></th>\n",
       "      <th></th>\n",
       "      <th></th>\n",
       "      <th></th>\n",
       "      <th></th>\n",
       "      <th></th>\n",
       "      <th></th>\n",
       "      <th></th>\n",
       "      <th></th>\n",
       "      <th></th>\n",
       "      <th></th>\n",
       "      <th></th>\n",
       "      <th></th>\n",
       "      <th></th>\n",
       "      <th></th>\n",
       "      <th></th>\n",
       "      <th></th>\n",
       "    </tr>\n",
       "  </thead>\n",
       "  <tbody>\n",
       "    <tr>\n",
       "      <th>100654</th>\n",
       "      <td>3.0</td>\n",
       "      <td>0</td>\n",
       "      <td>1</td>\n",
       "      <td>1</td>\n",
       "      <td>3</td>\n",
       "      <td>4</td>\n",
       "      <td>1</td>\n",
       "      <td>18.0</td>\n",
       "      <td>10.0</td>\n",
       "      <td>13.0</td>\n",
       "      <td>...</td>\n",
       "      <td>9366.0</td>\n",
       "      <td>17136.0</td>\n",
       "      <td>9657.0</td>\n",
       "      <td>7941.0</td>\n",
       "      <td>7017.0</td>\n",
       "      <td>0.7096</td>\n",
       "      <td>1</td>\n",
       "      <td>2.0</td>\n",
       "      <td>29900.0</td>\n",
       "      <td>3</td>\n",
       "    </tr>\n",
       "    <tr>\n",
       "      <th>100663</th>\n",
       "      <td>3.0</td>\n",
       "      <td>0</td>\n",
       "      <td>1</td>\n",
       "      <td>1</td>\n",
       "      <td>3</td>\n",
       "      <td>4</td>\n",
       "      <td>1</td>\n",
       "      <td>15.0</td>\n",
       "      <td>9.0</td>\n",
       "      <td>15.0</td>\n",
       "      <td>...</td>\n",
       "      <td>7766.0</td>\n",
       "      <td>17654.0</td>\n",
       "      <td>10263.0</td>\n",
       "      <td>17548.0</td>\n",
       "      <td>10221.0</td>\n",
       "      <td>0.9081</td>\n",
       "      <td>1</td>\n",
       "      <td>2.0</td>\n",
       "      <td>40200.0</td>\n",
       "      <td>3</td>\n",
       "    </tr>\n",
       "    <tr>\n",
       "      <th>100690</th>\n",
       "      <td>3.0</td>\n",
       "      <td>0</td>\n",
       "      <td>1</td>\n",
       "      <td>1</td>\n",
       "      <td>3</td>\n",
       "      <td>4</td>\n",
       "      <td>2</td>\n",
       "      <td>21.0</td>\n",
       "      <td>5.0</td>\n",
       "      <td>6.0</td>\n",
       "      <td>...</td>\n",
       "      <td>6900.0</td>\n",
       "      <td>6900.0</td>\n",
       "      <td>17071.0</td>\n",
       "      <td>7113.0</td>\n",
       "      <td>3217.0</td>\n",
       "      <td>1.0000</td>\n",
       "      <td>1</td>\n",
       "      <td>1.0</td>\n",
       "      <td>40100.0</td>\n",
       "      <td>3</td>\n",
       "    </tr>\n",
       "    <tr>\n",
       "      <th>100706</th>\n",
       "      <td>3.0</td>\n",
       "      <td>0</td>\n",
       "      <td>1</td>\n",
       "      <td>1</td>\n",
       "      <td>3</td>\n",
       "      <td>4</td>\n",
       "      <td>1</td>\n",
       "      <td>15.0</td>\n",
       "      <td>9.0</td>\n",
       "      <td>12.0</td>\n",
       "      <td>...</td>\n",
       "      <td>9128.0</td>\n",
       "      <td>20622.0</td>\n",
       "      <td>8917.0</td>\n",
       "      <td>10619.0</td>\n",
       "      <td>9514.0</td>\n",
       "      <td>0.6173</td>\n",
       "      <td>1</td>\n",
       "      <td>2.0</td>\n",
       "      <td>45600.0</td>\n",
       "      <td>3</td>\n",
       "    </tr>\n",
       "    <tr>\n",
       "      <th>100724</th>\n",
       "      <td>3.0</td>\n",
       "      <td>0</td>\n",
       "      <td>1</td>\n",
       "      <td>1</td>\n",
       "      <td>3</td>\n",
       "      <td>4</td>\n",
       "      <td>1</td>\n",
       "      <td>18.0</td>\n",
       "      <td>10.0</td>\n",
       "      <td>13.0</td>\n",
       "      <td>...</td>\n",
       "      <td>8720.0</td>\n",
       "      <td>15656.0</td>\n",
       "      <td>7717.0</td>\n",
       "      <td>7742.0</td>\n",
       "      <td>7940.0</td>\n",
       "      <td>0.6395</td>\n",
       "      <td>1</td>\n",
       "      <td>2.0</td>\n",
       "      <td>26700.0</td>\n",
       "      <td>3</td>\n",
       "    </tr>\n",
       "  </tbody>\n",
       "</table>\n",
       "<p>5 rows × 70 columns</p>\n",
       "</div>"
      ],
      "text/plain": [
       "        SCH_DEG  HCM2  MAIN  NUMBRANCH  PREDDEG  HIGHDEG  CONTROL  CCBASIC  \\\n",
       "UNITID                                                                       \n",
       "100654      3.0     0     1          1        3        4        1     18.0   \n",
       "100663      3.0     0     1          1        3        4        1     15.0   \n",
       "100690      3.0     0     1          1        3        4        2     21.0   \n",
       "100706      3.0     0     1          1        3        4        1     15.0   \n",
       "100724      3.0     0     1          1        3        4        1     18.0   \n",
       "\n",
       "        CCUGPROF  CCSIZSET  ...   TUITIONFEE_IN  TUITIONFEE_OUT  TUITFTE  \\\n",
       "UNITID                      ...                                            \n",
       "100654      10.0      13.0  ...          9366.0         17136.0   9657.0   \n",
       "100663       9.0      15.0  ...          7766.0         17654.0  10263.0   \n",
       "100690       5.0       6.0  ...          6900.0          6900.0  17071.0   \n",
       "100706       9.0      12.0  ...          9128.0         20622.0   8917.0   \n",
       "100724      10.0      13.0  ...          8720.0         15656.0   7717.0   \n",
       "\n",
       "        INEXPFTE  AVGFACSAL  PFTFAC  ICLEVEL  OPENADMP   Income  ZIP1  \n",
       "UNITID                                                                 \n",
       "100654    7941.0     7017.0  0.7096        1       2.0  29900.0     3  \n",
       "100663   17548.0    10221.0  0.9081        1       2.0  40200.0     3  \n",
       "100690    7113.0     3217.0  1.0000        1       1.0  40100.0     3  \n",
       "100706   10619.0     9514.0  0.6173        1       2.0  45600.0     3  \n",
       "100724    7742.0     7940.0  0.6395        1       2.0  26700.0     3  \n",
       "\n",
       "[5 rows x 70 columns]"
      ]
     },
     "execution_count": 33,
     "metadata": {},
     "output_type": "execute_result"
    }
   ],
   "source": [
    "#filling the null data with median\n",
    "df3.fillna(df3.median(), inplace=True).head()"
   ]
  },
  {
   "cell_type": "code",
   "execution_count": 34,
   "metadata": {},
   "outputs": [
    {
     "name": "stdout",
     "output_type": "stream",
     "text": [
      "['PCIP01', 'PCIP03', 'PCIP05', 'PCIP09', 'PCIP10', 'PCIP11', 'PCIP12', 'PCIP13', 'PCIP14', 'PCIP15', 'PCIP16', 'PCIP19', 'PCIP22', 'PCIP23', 'PCIP24', 'PCIP26', 'PCIP27', 'PCIP30', 'PCIP31', 'PCIP38', 'PCIP40', 'PCIP42', 'PCIP43', 'PCIP44', 'PCIP45', 'PCIP46', 'PCIP47', 'PCIP48', 'PCIP50', 'PCIP51', 'PCIP52', 'PCIP54']\n"
     ]
    }
   ],
   "source": [
    "# Find columns (starts with 'PCIP')that represent percentage of students in different programs and those with less that 90% zeroes\n",
    "PCIP_main =  []\n",
    "for col in df2.columns:\n",
    "    if (col[:4] ==  'PCIP') and (((df2[col] == 0).sum()/df2[col].count()) < 0.9):\n",
    "        PCIP_main.append(col)\n",
    "        \n",
    "print(PCIP_main)"
   ]
  },
  {
   "cell_type": "code",
   "execution_count": 35,
   "metadata": {
    "collapsed": true
   },
   "outputs": [],
   "source": [
    "#Drop columns with more than 90% zero values\n",
    "df4 = df3.drop(PCIP_main, axis =1)"
   ]
  },
  {
   "cell_type": "code",
   "execution_count": 36,
   "metadata": {
    "collapsed": true
   },
   "outputs": [],
   "source": [
    "#Specify y as response variable\n",
    "y = df4['Income']"
   ]
  },
  {
   "cell_type": "code",
   "execution_count": 37,
   "metadata": {
    "collapsed": true
   },
   "outputs": [],
   "source": [
    "#Seperate predictor variables\n",
    "X = df4.drop('Income', axis=1)"
   ]
  },
  {
   "cell_type": "code",
   "execution_count": 38,
   "metadata": {
    "collapsed": true
   },
   "outputs": [],
   "source": [
    "#intializing random forest regressor\n",
    "clf = RandomForestRegressor()"
   ]
  },
  {
   "cell_type": "code",
   "execution_count": 39,
   "metadata": {
    "collapsed": true
   },
   "outputs": [],
   "source": [
    "# dataframe with just features that have a feature importance > .005 in the random forrest\n",
    "sfm = SelectFromModel(clf, threshold=0.005)\n",
    "sfm.fit(X, y)\n",
    "n_features = sfm.transform(X).shape[1]\n",
    "features = sfm.transform(X)"
   ]
  },
  {
   "cell_type": "code",
   "execution_count": 40,
   "metadata": {},
   "outputs": [
    {
     "data": {
      "text/plain": [
       "18"
      ]
     },
     "execution_count": 40,
     "metadata": {},
     "output_type": "execute_result"
    }
   ],
   "source": [
    "#Number of most important features\n",
    "n_features"
   ]
  },
  {
   "cell_type": "code",
   "execution_count": 41,
   "metadata": {},
   "outputs": [
    {
     "data": {
      "text/plain": [
       "array([ 0,  3,  4,  6,  7,  8,  9, 24, 27, 28, 29, 30, 31, 32, 33, 34, 35,\n",
       "       36], dtype=int64)"
      ]
     },
     "execution_count": 41,
     "metadata": {},
     "output_type": "execute_result"
    }
   ],
   "source": [
    "#Get indices of selected features\n",
    "sfm.get_support(indices=True)"
   ]
  },
  {
   "cell_type": "code",
   "execution_count": 42,
   "metadata": {
    "collapsed": true
   },
   "outputs": [],
   "source": [
    "df5 = df4.iloc[:,sfm.get_support(indices=True)]"
   ]
  },
  {
   "cell_type": "code",
   "execution_count": 43,
   "metadata": {},
   "outputs": [
    {
     "data": {
      "text/html": [
       "<div>\n",
       "<style>\n",
       "    .dataframe thead tr:only-child th {\n",
       "        text-align: right;\n",
       "    }\n",
       "\n",
       "    .dataframe thead th {\n",
       "        text-align: left;\n",
       "    }\n",
       "\n",
       "    .dataframe tbody tr th {\n",
       "        vertical-align: top;\n",
       "    }\n",
       "</style>\n",
       "<table border=\"1\" class=\"dataframe\">\n",
       "  <thead>\n",
       "    <tr style=\"text-align: right;\">\n",
       "      <th></th>\n",
       "      <th>SCH_DEG</th>\n",
       "      <th>NUMBRANCH</th>\n",
       "      <th>PREDDEG</th>\n",
       "      <th>CONTROL</th>\n",
       "      <th>CCBASIC</th>\n",
       "      <th>CCUGPROF</th>\n",
       "      <th>CCSIZSET</th>\n",
       "      <th>PCIP49</th>\n",
       "      <th>COSTT4_A</th>\n",
       "      <th>TUITIONFEE_IN</th>\n",
       "      <th>TUITIONFEE_OUT</th>\n",
       "      <th>TUITFTE</th>\n",
       "      <th>INEXPFTE</th>\n",
       "      <th>AVGFACSAL</th>\n",
       "      <th>PFTFAC</th>\n",
       "      <th>ICLEVEL</th>\n",
       "      <th>OPENADMP</th>\n",
       "      <th>Income</th>\n",
       "    </tr>\n",
       "  </thead>\n",
       "  <tbody>\n",
       "    <tr>\n",
       "      <th>count</th>\n",
       "      <td>5682.000000</td>\n",
       "      <td>5682.000000</td>\n",
       "      <td>5682.000000</td>\n",
       "      <td>5682.000000</td>\n",
       "      <td>5682.000000</td>\n",
       "      <td>5682.000000</td>\n",
       "      <td>5682.000000</td>\n",
       "      <td>5682.000000</td>\n",
       "      <td>5682.000000</td>\n",
       "      <td>5682.000000</td>\n",
       "      <td>5682.000000</td>\n",
       "      <td>5682.000000</td>\n",
       "      <td>5682.000000</td>\n",
       "      <td>5682.000000</td>\n",
       "      <td>5682.000000</td>\n",
       "      <td>5682.000000</td>\n",
       "      <td>5682.000000</td>\n",
       "      <td>5682.000000</td>\n",
       "    </tr>\n",
       "    <tr>\n",
       "      <th>mean</th>\n",
       "      <td>1.998416</td>\n",
       "      <td>8.898803</td>\n",
       "      <td>1.881204</td>\n",
       "      <td>2.079725</td>\n",
       "      <td>9.438050</td>\n",
       "      <td>4.618092</td>\n",
       "      <td>4.815910</td>\n",
       "      <td>0.007906</td>\n",
       "      <td>24841.648187</td>\n",
       "      <td>14128.023231</td>\n",
       "      <td>16933.383844</td>\n",
       "      <td>10318.165963</td>\n",
       "      <td>7516.398275</td>\n",
       "      <td>6365.685674</td>\n",
       "      <td>0.559107</td>\n",
       "      <td>1.724569</td>\n",
       "      <td>1.350229</td>\n",
       "      <td>33500.422386</td>\n",
       "    </tr>\n",
       "    <tr>\n",
       "      <th>std</th>\n",
       "      <td>0.858906</td>\n",
       "      <td>24.067041</td>\n",
       "      <td>0.975570</td>\n",
       "      <td>0.854787</td>\n",
       "      <td>10.482941</td>\n",
       "      <td>5.488964</td>\n",
       "      <td>5.647347</td>\n",
       "      <td>0.062685</td>\n",
       "      <td>10852.149585</td>\n",
       "      <td>9767.553784</td>\n",
       "      <td>8848.326199</td>\n",
       "      <td>7856.375276</td>\n",
       "      <td>9596.661897</td>\n",
       "      <td>1911.070702</td>\n",
       "      <td>0.234790</td>\n",
       "      <td>0.777019</td>\n",
       "      <td>0.477083</td>\n",
       "      <td>15444.584400</td>\n",
       "    </tr>\n",
       "    <tr>\n",
       "      <th>min</th>\n",
       "      <td>1.000000</td>\n",
       "      <td>1.000000</td>\n",
       "      <td>0.000000</td>\n",
       "      <td>1.000000</td>\n",
       "      <td>-3.000000</td>\n",
       "      <td>-2.000000</td>\n",
       "      <td>-2.000000</td>\n",
       "      <td>0.000000</td>\n",
       "      <td>4559.000000</td>\n",
       "      <td>580.000000</td>\n",
       "      <td>580.000000</td>\n",
       "      <td>0.000000</td>\n",
       "      <td>0.000000</td>\n",
       "      <td>1140.000000</td>\n",
       "      <td>0.000000</td>\n",
       "      <td>1.000000</td>\n",
       "      <td>1.000000</td>\n",
       "      <td>9100.000000</td>\n",
       "    </tr>\n",
       "    <tr>\n",
       "      <th>25%</th>\n",
       "      <td>1.000000</td>\n",
       "      <td>1.000000</td>\n",
       "      <td>1.000000</td>\n",
       "      <td>1.000000</td>\n",
       "      <td>-3.000000</td>\n",
       "      <td>-2.000000</td>\n",
       "      <td>-2.000000</td>\n",
       "      <td>0.000000</td>\n",
       "      <td>19955.750000</td>\n",
       "      <td>8061.250000</td>\n",
       "      <td>12975.000000</td>\n",
       "      <td>4766.250000</td>\n",
       "      <td>4026.750000</td>\n",
       "      <td>5515.250000</td>\n",
       "      <td>0.444550</td>\n",
       "      <td>1.000000</td>\n",
       "      <td>1.000000</td>\n",
       "      <td>24100.000000</td>\n",
       "    </tr>\n",
       "    <tr>\n",
       "      <th>50%</th>\n",
       "      <td>2.000000</td>\n",
       "      <td>1.000000</td>\n",
       "      <td>2.000000</td>\n",
       "      <td>2.000000</td>\n",
       "      <td>10.000000</td>\n",
       "      <td>4.000000</td>\n",
       "      <td>4.000000</td>\n",
       "      <td>0.000000</td>\n",
       "      <td>23413.000000</td>\n",
       "      <td>12672.000000</td>\n",
       "      <td>15352.000000</td>\n",
       "      <td>9352.000000</td>\n",
       "      <td>5998.000000</td>\n",
       "      <td>6168.000000</td>\n",
       "      <td>0.541100</td>\n",
       "      <td>2.000000</td>\n",
       "      <td>1.000000</td>\n",
       "      <td>31100.000000</td>\n",
       "    </tr>\n",
       "    <tr>\n",
       "      <th>75%</th>\n",
       "      <td>3.000000</td>\n",
       "      <td>4.000000</td>\n",
       "      <td>3.000000</td>\n",
       "      <td>3.000000</td>\n",
       "      <td>19.000000</td>\n",
       "      <td>10.000000</td>\n",
       "      <td>9.000000</td>\n",
       "      <td>0.000000</td>\n",
       "      <td>26781.750000</td>\n",
       "      <td>15675.000000</td>\n",
       "      <td>18048.000000</td>\n",
       "      <td>14020.750000</td>\n",
       "      <td>8426.750000</td>\n",
       "      <td>6869.750000</td>\n",
       "      <td>0.642850</td>\n",
       "      <td>2.000000</td>\n",
       "      <td>2.000000</td>\n",
       "      <td>39500.000000</td>\n",
       "    </tr>\n",
       "    <tr>\n",
       "      <th>max</th>\n",
       "      <td>3.000000</td>\n",
       "      <td>135.000000</td>\n",
       "      <td>4.000000</td>\n",
       "      <td>3.000000</td>\n",
       "      <td>33.000000</td>\n",
       "      <td>15.000000</td>\n",
       "      <td>18.000000</td>\n",
       "      <td>1.000000</td>\n",
       "      <td>67572.000000</td>\n",
       "      <td>53000.000000</td>\n",
       "      <td>53000.000000</td>\n",
       "      <td>147403.000000</td>\n",
       "      <td>393969.000000</td>\n",
       "      <td>26084.000000</td>\n",
       "      <td>1.000000</td>\n",
       "      <td>3.000000</td>\n",
       "      <td>2.000000</td>\n",
       "      <td>250000.000000</td>\n",
       "    </tr>\n",
       "  </tbody>\n",
       "</table>\n",
       "</div>"
      ],
      "text/plain": [
       "           SCH_DEG    NUMBRANCH      PREDDEG      CONTROL      CCBASIC  \\\n",
       "count  5682.000000  5682.000000  5682.000000  5682.000000  5682.000000   \n",
       "mean      1.998416     8.898803     1.881204     2.079725     9.438050   \n",
       "std       0.858906    24.067041     0.975570     0.854787    10.482941   \n",
       "min       1.000000     1.000000     0.000000     1.000000    -3.000000   \n",
       "25%       1.000000     1.000000     1.000000     1.000000    -3.000000   \n",
       "50%       2.000000     1.000000     2.000000     2.000000    10.000000   \n",
       "75%       3.000000     4.000000     3.000000     3.000000    19.000000   \n",
       "max       3.000000   135.000000     4.000000     3.000000    33.000000   \n",
       "\n",
       "          CCUGPROF     CCSIZSET       PCIP49      COSTT4_A  TUITIONFEE_IN  \\\n",
       "count  5682.000000  5682.000000  5682.000000   5682.000000    5682.000000   \n",
       "mean      4.618092     4.815910     0.007906  24841.648187   14128.023231   \n",
       "std       5.488964     5.647347     0.062685  10852.149585    9767.553784   \n",
       "min      -2.000000    -2.000000     0.000000   4559.000000     580.000000   \n",
       "25%      -2.000000    -2.000000     0.000000  19955.750000    8061.250000   \n",
       "50%       4.000000     4.000000     0.000000  23413.000000   12672.000000   \n",
       "75%      10.000000     9.000000     0.000000  26781.750000   15675.000000   \n",
       "max      15.000000    18.000000     1.000000  67572.000000   53000.000000   \n",
       "\n",
       "       TUITIONFEE_OUT        TUITFTE       INEXPFTE     AVGFACSAL  \\\n",
       "count     5682.000000    5682.000000    5682.000000   5682.000000   \n",
       "mean     16933.383844   10318.165963    7516.398275   6365.685674   \n",
       "std       8848.326199    7856.375276    9596.661897   1911.070702   \n",
       "min        580.000000       0.000000       0.000000   1140.000000   \n",
       "25%      12975.000000    4766.250000    4026.750000   5515.250000   \n",
       "50%      15352.000000    9352.000000    5998.000000   6168.000000   \n",
       "75%      18048.000000   14020.750000    8426.750000   6869.750000   \n",
       "max      53000.000000  147403.000000  393969.000000  26084.000000   \n",
       "\n",
       "            PFTFAC      ICLEVEL     OPENADMP         Income  \n",
       "count  5682.000000  5682.000000  5682.000000    5682.000000  \n",
       "mean      0.559107     1.724569     1.350229   33500.422386  \n",
       "std       0.234790     0.777019     0.477083   15444.584400  \n",
       "min       0.000000     1.000000     1.000000    9100.000000  \n",
       "25%       0.444550     1.000000     1.000000   24100.000000  \n",
       "50%       0.541100     2.000000     1.000000   31100.000000  \n",
       "75%       0.642850     2.000000     2.000000   39500.000000  \n",
       "max       1.000000     3.000000     2.000000  250000.000000  "
      ]
     },
     "execution_count": 43,
     "metadata": {},
     "output_type": "execute_result"
    }
   ],
   "source": [
    "df5.describe()"
   ]
  },
  {
   "cell_type": "code",
   "execution_count": 44,
   "metadata": {},
   "outputs": [
    {
     "data": {
      "text/plain": [
       "Index(['SCH_DEG', 'NUMBRANCH', 'PREDDEG', 'CONTROL', 'CCBASIC', 'CCUGPROF',\n",
       "       'CCSIZSET', 'PCIP49', 'COSTT4_A', 'TUITIONFEE_IN', 'TUITIONFEE_OUT',\n",
       "       'TUITFTE', 'INEXPFTE', 'AVGFACSAL', 'PFTFAC', 'ICLEVEL', 'OPENADMP',\n",
       "       'Income'],\n",
       "      dtype='object')"
      ]
     },
     "execution_count": 44,
     "metadata": {},
     "output_type": "execute_result"
    }
   ],
   "source": [
    "df5.columns"
   ]
  },
  {
   "cell_type": "code",
   "execution_count": 45,
   "metadata": {},
   "outputs": [
    {
     "data": {
      "image/png": "[encoded data removed]",
      "text/plain": [
       "<matplotlib.figure.Figure at 0x7e679cb390>"
      ]
     },
     "metadata": {},
     "output_type": "display_data"
    }
   ],
   "source": [
    "#checking covariance using heatmap\n",
    "corr = df5.corr()\n",
    "_ = plt.figure(figsize = (8,8))\n",
    "_ = sns.heatmap(corr, xticklabels=corr.columns, yticklabels=corr.columns)"
   ]
  },
  {
   "cell_type": "markdown",
   "metadata": {},
   "source": [
    "The heatmap above shows that average cost of attendance (COSTT4_A) and tution Fee (TUTIONFEE_IN) are highly correlated. So we can look into it more using scatter plot and regression line."
   ]
  },
  {
   "cell_type": "code",
   "execution_count": 46,
   "metadata": {},
   "outputs": [
    {
     "data": {
      "image/png": "[encoded data removed]",
      "text/plain": [
       "<matplotlib.figure.Figure at 0x7e679cb4e0>"
      ]
     },
     "metadata": {},
     "output_type": "display_data"
    }
   ],
   "source": [
    "_ = sns.lmplot(x='COSTT4_A', y='TUITIONFEE_IN', data=df5)"
   ]
  },
  {
   "cell_type": "markdown",
   "metadata": {},
   "source": [
    "The lmplot further confirms that both average cost of attendance are stronly correlated. This suggest that we can use one variable TUTIONFEE_IN to avoid multicollinearity."
   ]
  },
  {
   "cell_type": "code",
   "execution_count": 47,
   "metadata": {},
   "outputs": [
    {
     "data": {
      "image/png": "[encoded data removed]",
      "text/plain": [
       "<matplotlib.figure.Figure at 0x7e6989f0b8>"
      ]
     },
     "metadata": {},
     "output_type": "display_data"
    }
   ],
   "source": [
    "fig, (ax1,ax2,ax3) = plt.subplots(ncols=3, figsize=(15,5))\n",
    "_ = sns.countplot(x='CONTROL', data=df5, ax=ax1)\n",
    "_ = sns.countplot(x='ICLEVEL', data=df5, orient=\"v\", ax=ax2)\n",
    "_ = sns.countplot(x='ICLEVEL', data=df5, hue='CONTROL', ax=ax3)"
   ]
  },
  {
   "cell_type": "markdown",
   "metadata": {},
   "source": [
    "In the above count plots CONTROL variable represent control of institution (1:Public, 2:Private Non-profit, 3:Private for-profit), ICLEVEL represents level of instituion (1: 4-year, 2:2year, 3:less than 2years).\n",
    "\n",
    "One of the things that can be noticed clearly from the above plots is that the number of intitutions offereing 4-year degree are higher than the other two categories. Another interesting observation from the 3rd plot is that colleges offering less than 2-year courses are mostly private institutions that are operated for profit."
   ]
  },
  {
   "cell_type": "code",
   "execution_count": 48,
   "metadata": {},
   "outputs": [
    {
     "data": {
      "image/png": "[encoded data removed]",
      "text/plain": [
       "<matplotlib.figure.Figure at 0x7e698b2320>"
      ]
     },
     "metadata": {},
     "output_type": "display_data"
    }
   ],
   "source": [
    "_ = sns.lmplot(x='TUITIONFEE_IN', y='Income', hue='CONTROL', data=df5)"
   ]
  },
  {
   "cell_type": "code",
   "execution_count": 49,
   "metadata": {},
   "outputs": [
    {
     "data": {
      "image/png": "[encoded data removed]",
      "text/plain": [
       "<matplotlib.figure.Figure at 0x7e6985a4a8>"
      ]
     },
     "metadata": {},
     "output_type": "display_data"
    }
   ],
   "source": [
    "_ = sns.lmplot(x='TUITIONFEE_IN', y='Income', hue='ICLEVEL', data=df5)"
   ]
  },
  {
   "cell_type": "markdown",
   "metadata": {},
   "source": [
    "From the above plots it is hard to tell if there are any clear trends between the tuition fee (instate) and Income for colleges under different controls (public or private) or different ICLEVEL. We do notice a group of colleges with same tuition fee having high variablity of income. Upon further investigation it was noticed that these are the colleges with missing tuition and were filled with median tuition."
   ]
  },
  {
   "cell_type": "code",
   "execution_count": 51,
   "metadata": {},
   "outputs": [
    {
     "data": {
      "image/png": "[encoded data removed]",
      "text/plain": [
       "<matplotlib.figure.Figure at 0x25024d4048>"
      ]
     },
     "metadata": {},
     "output_type": "display_data"
    }
   ],
   "source": [
    "fig, (ax1,ax2,ax3) = plt.subplots(ncols=3, sharey=True, figsize=(14,5))\n",
    "_ = sns.regplot(x='TUITFTE', y='Income', data=df5, ax=ax1)\n",
    "_ = sns.regplot(x='INEXPFTE', y='Income', data=df5, ax=ax2)\n",
    "_ = sns.regplot(x='AVGFACSAL', y='Income',data=df5, ax=ax3)"
   ]
  },
  {
   "cell_type": "markdown",
   "metadata": {},
   "source": [
    "It is interesting to see that there appears to be a positive correlation between average faculty salary (AVGFACSAL), Instructional expenditures per full-time equivalent student (INEXPFTE), Net tuition revenue per full-time equivalent student (TUITFTE),  and the median income. Which suggest if schools focus more on spending on the faculty and other instructional expenditures, the quality of education will be better resulting in students earning more salary after they graduate."
   ]
  },
  {
   "cell_type": "code",
   "execution_count": 50,
   "metadata": {},
   "outputs": [
    {
     "data": {
      "image/png": "[encoded data removed]",
      "text/plain": [
       "<matplotlib.figure.Figure at 0x7e6a43bba8>"
      ]
     },
     "metadata": {},
     "output_type": "display_data"
    }
   ],
   "source": [
    "fig, (ax1,ax2) = plt.subplots(ncols=2, sharey=True, figsize=(17,5))\n",
    "\n",
    "_ = sns.violinplot(x='PREDDEG', y='Income', data=df5, ax=ax1)\n",
    "_ = sns.violinplot(x='SCH_DEG', y='Income', data=df5, ax=ax2)\n"
   ]
  },
  {
   "cell_type": "raw",
   "metadata": {},
   "source": [
    "From the violinplot above between Income and type of degree awarded (PREDDEG, e.g. 1.certificate, 2.associate, 3.bachelor, 4.graduate) it can be seen that the colleges that predominantly award graduate level degrees have median salaries higher as compared to other colleges.\n",
    "\n",
    "The second plot showing median Incomes of colleges based on degrees awarded(SCHDEG) does not show substantial difference. Although further testing is necessary to make any conclusions."
   ]
  },
  {
   "cell_type": "code",
   "execution_count": 51,
   "metadata": {},
   "outputs": [
    {
     "data": {
      "image/png": "[encoded data removed]",
      "text/plain": [
       "<matplotlib.figure.Figure at 0x7e69b9bc18>"
      ]
     },
     "metadata": {},
     "output_type": "display_data"
    }
   ],
   "source": [
    "_ =sns.violinplot(x='CCBASIC', y='Income', data=df5)\n",
    "_ =sns.set(rc={'figure.figsize':(18,5)})"
   ]
  },
  {
   "cell_type": "markdown",
   "metadata": {},
   "source": [
    "The above plot shows the income spread for different colleges based on their carnegie classification. While most of the colleges does not show big differences in their median income salary, it is evident from the plot that average of the median salaries for students graduating from doctoral universities that focus more research is more than 100k."
   ]
  },
  {
   "cell_type": "code",
   "execution_count": 53,
   "metadata": {},
   "outputs": [
    {
     "data": {
      "image/png": "[encoded data removed]",
      "text/plain": [
       "<matplotlib.figure.Figure at 0x7e6a73de10>"
      ]
     },
     "metadata": {},
     "output_type": "display_data"
    }
   ],
   "source": [
    "_ = sns.boxplot(x='CCUGPROF', y='Income',data=df5)\n",
    "_ = sns.set(rc={'figure.figsize':(6,5)})"
   ]
  },
  {
   "cell_type": "code",
   "execution_count": 54,
   "metadata": {},
   "outputs": [
    {
     "data": {
      "image/png": "[encoded data removed]",
      "text/plain": [
       "<matplotlib.figure.Figure at 0x7e69b8e438>"
      ]
     },
     "metadata": {},
     "output_type": "display_data"
    }
   ],
   "source": [
    "_ = sns.lmplot(x='NUMBRANCH', y='Income', data=df5)"
   ]
  },
  {
   "cell_type": "markdown",
   "metadata": {},
   "source": [
    "Above plot reveals that there is group of colleges with 1 branch that have high variability of Income. Upon further investigation it was noticed that this group is for the colleges that had missing NUMBRANCH and were filled using the median.\n",
    "\n",
    "So, we might have to drop this variable or fill the missing NUMBRANCH using a different criteria."
   ]
  },
  {
   "cell_type": "code",
   "execution_count": 55,
   "metadata": {},
   "outputs": [
    {
     "data": {
      "image/png": "[encoded data removed]",
      "text/plain": [
       "<matplotlib.figure.Figure at 0x7e6a6c0748>"
      ]
     },
     "metadata": {},
     "output_type": "display_data"
    }
   ],
   "source": [
    "fig, (ax1,ax2) = plt.subplots(ncols=2, sharey=True, figsize=(14,5))\n",
    "_ = sns.regplot(x='PCIP49', y='Income', data=df5, ax=ax1)\n",
    "_ = sns.regplot(x='PFTFAC', y='Income', data=df5, ax=ax2)"
   ]
  },
  {
   "cell_type": "markdown",
   "metadata": {
    "collapsed": true
   },
   "source": [
    "It was noticed that several colleges had missing or 0 PCIP values resulting in a group of colleges with high income variability. \n",
    "\n",
    "Also there was no clear trend between proportion of faculty that are permanent (PFTAC) and median income."
   ]
  },
  {
   "cell_type": "markdown",
   "metadata": {},
   "source": [
    "Inferential statistics."
   ]
  },
  {
   "cell_type": "markdown",
   "metadata": {},
   "source": [
    "    Check the collinearity between cost of attendance and tution fee"
   ]
  },
  {
   "cell_type": "markdown",
   "metadata": {},
   "source": [
    "    Null hypothesis: Cost of attendance and tution fee are completely uncorrelated\n",
    "    Alternate hypothesis: Cost of attendance and tution fee are correlated"
   ]
  },
  {
   "cell_type": "code",
   "execution_count": 56,
   "metadata": {},
   "outputs": [
    {
     "name": "stdout",
     "output_type": "stream",
     "text": [
      "0.968703429182\n"
     ]
    }
   ],
   "source": [
    "#calculate observed pearson correlation coefficient: obs_r \n",
    "x = df5['COSTT4_A']\n",
    "y = df5['TUITIONFEE_IN']\n",
    "obs_r = np.corrcoef(x,y)[0,1]\n",
    "print(obs_r)"
   ]
  },
  {
   "cell_type": "code",
   "execution_count": 57,
   "metadata": {
    "collapsed": true
   },
   "outputs": [],
   "source": [
    "alpha = 0.05"
   ]
  },
  {
   "cell_type": "code",
   "execution_count": 58,
   "metadata": {
    "collapsed": true
   },
   "outputs": [],
   "source": [
    "#test the hypothesis \n",
    "#initialize the permutation replicates for correlation coefficients: per_coef\n",
    "per_coef = np.empty(10000)\n",
    "\n",
    "#draw replicates\n",
    "for i in range(10000):\n",
    "    #generate permutation for cost of admission: perm_cost\n",
    "    perm_cost = np.random.permutation(x)\n",
    "    \n",
    "    #compute correlation coefficients for permuted costs and tution fee\n",
    "    per_coef[i] = np.corrcoef(perm_cost, y)[0,1]\n",
    "    \n",
    "#calculate p-value\n",
    "p_coef = np.sum(per_coef >= obs_r)/len(per_coef)"
   ]
  },
  {
   "cell_type": "code",
   "execution_count": 59,
   "metadata": {},
   "outputs": [
    {
     "name": "stdout",
     "output_type": "stream",
     "text": [
      "We can reject the null hypothesis at alpha=0.05 with p-value = 0.0\n"
     ]
    }
   ],
   "source": [
    "if p_coef <= alpha:\n",
    "    print('We can reject the null hypothesis at alpha=0.05 with p-value = ' + str(p_coef))\n",
    "else:\n",
    "    print('We cannot reject the null hypothesis at alpha=0.05 with p-value = ' + str(p_coef))"
   ]
  },
  {
   "cell_type": "markdown",
   "metadata": {},
   "source": [
    "From the above the hypothesis we can say that cost of attendance and tution fee are significantly correlated. Since the estimated r-square value is really high (approx 0.97) we can say that the correlation between cost of attendance and tution fee is also practically signifcant"
   ]
  },
  {
   "cell_type": "markdown",
   "metadata": {},
   "source": [
    "    "
   ]
  },
  {
   "cell_type": "markdown",
   "metadata": {},
   "source": [
    "    Null hypothesis: students from graduate level colleges have similar salaries to students from other colleges\n",
    "    Alternate hypothesis: students from graduate level colleges have higher salaries compared to students from other colleges"
   ]
  },
  {
   "cell_type": "code",
   "execution_count": 60,
   "metadata": {},
   "outputs": [
    {
     "name": "stdout",
     "output_type": "stream",
     "text": [
      "33500.42238648363\n"
     ]
    }
   ],
   "source": [
    "#mean of salaries from all the colleges\n",
    "obs_mean_all = np.mean(df5['Income'])\n",
    "print(obs_mean_all)"
   ]
  },
  {
   "cell_type": "code",
   "execution_count": 61,
   "metadata": {},
   "outputs": [
    {
     "name": "stdout",
     "output_type": "stream",
     "text": [
      "94447.05882352941\n"
     ]
    }
   ],
   "source": [
    "#sepearte income of colleges offering predominantly graduate degrees and get there mean\n",
    "df5_graduate = df5[df5['PREDDEG']==4]['Income']\n",
    "df5_grad_mean = np.mean(df5_graduate)\n",
    "print(df5_grad_mean)"
   ]
  },
  {
   "cell_type": "code",
   "execution_count": 62,
   "metadata": {},
   "outputs": [
    {
     "name": "stdout",
     "output_type": "stream",
     "text": [
      "32762.20163876024\n"
     ]
    }
   ],
   "source": [
    "#sepearte income of colleges offering predominantly other degrees and get there mean\n",
    "df5_other_degrees = df5[df5['PREDDEG'] !=4]['Income']\n",
    "df5_oth_mean = np.mean(df5_other_degrees)\n",
    "print(df5_oth_mean)"
   ]
  },
  {
   "cell_type": "code",
   "execution_count": 63,
   "metadata": {},
   "outputs": [
    {
     "name": "stdout",
     "output_type": "stream",
     "text": [
      "61684.85718476917\n"
     ]
    }
   ],
   "source": [
    "#calculate empirical difference in mean\n",
    "emp_mean_diff = df5_grad_mean - df5_oth_mean\n",
    "print(emp_mean_diff)"
   ]
  },
  {
   "cell_type": "code",
   "execution_count": 64,
   "metadata": {
    "collapsed": true
   },
   "outputs": [],
   "source": [
    "#shift both the dataset to have similar mean\n",
    "df5_grad_shifted = df5_graduate - df5_grad_mean + obs_mean_all\n",
    "df5_oth_shifted = df5_other_degrees - df5_oth_mean + obs_mean_all"
   ]
  },
  {
   "cell_type": "code",
   "execution_count": 65,
   "metadata": {
    "collapsed": true
   },
   "outputs": [],
   "source": [
    "#bootstrap method to generate bootstrap replicates\n",
    "def bs_rep(data, func, size=1):\n",
    "    #initialize an empty array \n",
    "    bs_replicates = np.empty(size)\n",
    "    \n",
    "    for i in range(size):\n",
    "        bs_sample = np.random.choice(data, len(data))\n",
    "        bs_replicates[i] = func(bs_sample)\n",
    "    return bs_replicates"
   ]
  },
  {
   "cell_type": "code",
   "execution_count": 66,
   "metadata": {
    "collapsed": true
   },
   "outputs": [],
   "source": [
    "#draw bootstrap replicates of shifted means\n",
    "bs_grad_shifted = bs_rep(df5_grad_shifted, np.mean, 10000)\n",
    "bs_oth_shifted = bs_rep(df5_oth_shifted, np.mean, 10000)"
   ]
  },
  {
   "cell_type": "code",
   "execution_count": 67,
   "metadata": {
    "collapsed": true
   },
   "outputs": [],
   "source": [
    "#calculate differences in replicates\n",
    "bs_diff_mean = bs_grad_shifted - bs_oth_shifted"
   ]
  },
  {
   "cell_type": "code",
   "execution_count": 68,
   "metadata": {},
   "outputs": [
    {
     "name": "stdout",
     "output_type": "stream",
     "text": [
      "We can reject the null hypothesis at alpha=0.05 with p-value = 0.0\n"
     ]
    }
   ],
   "source": [
    "#calculate p-value and compare with alpha\n",
    "p = np.sum(bs_diff_mean >= emp_mean_diff)/len(bs_diff_mean)\n",
    "\n",
    "if p <= alpha:\n",
    "    print('We can reject the null hypothesis at alpha=0.05 with p-value = ' + str(p))\n",
    "else:\n",
    "    print('We cannot reject the null hypothesis at alpha=0.05 with p-value = ' + str(p))"
   ]
  },
  {
   "cell_type": "code",
   "execution_count": 69,
   "metadata": {},
   "outputs": [
    {
     "name": "stdout",
     "output_type": "stream",
     "text": [
      "36.3412954344 3.43478996627e-260\n",
      "We can reject the null hypothesis at alpha=0.05 with p-value = 3.43478996627e-260\n"
     ]
    }
   ],
   "source": [
    "#use stats package to double check the results\n",
    "t1, p1 = stats.ttest_ind(df5_graduate, df5_other_degrees)\n",
    "\n",
    "print(t1, p1)\n",
    "if p1 <= alpha:\n",
    "    print('We can reject the null hypothesis at alpha=0.05 with p-value = ' + str(p1))\n",
    "else:\n",
    "    print('We cannot reject the null hypothesis at alpha=0.05 with p-value = ' + str(p1))"
   ]
  },
  {
   "cell_type": "markdown",
   "metadata": {},
   "source": [
    "Both the bootstrap test and 2-sample ttest using stats package suggest that the salaries for students graduating from colleges offering graduate level degrees is significantly higher as compared to students graduating from other colleges. \n",
    "The empirical difference between the means is approx $61,685 suggesting that the difference is pratically significant as well."
   ]
  },
  {
   "cell_type": "markdown",
   "metadata": {},
   "source": [
    "    Check the normality of the Income data\n",
    "        Null hypothesis: Income data is normally distributed\n",
    "        Alternate hypothesis: Income data is not normally distributed"
   ]
  },
  {
   "cell_type": "code",
   "execution_count": 70,
   "metadata": {},
   "outputs": [
    {
     "data": {
      "image/png": "[encoded data removed]",
      "text/plain": [
       "<matplotlib.figure.Figure at 0x7e69897080>"
      ]
     },
     "metadata": {},
     "output_type": "display_data"
    }
   ],
   "source": [
    "#draw a histogram to check the distribution of income\n",
    "_ = sns.distplot(df5['Income'], bins=30, kde=False)"
   ]
  },
  {
   "cell_type": "code",
   "execution_count": 71,
   "metadata": {
    "collapsed": true
   },
   "outputs": [],
   "source": [
    "#plot the ecdf of observed data and compare it with the theoritical ecdf\n",
    "#define function to calculate x and y variables for plotting ecdf\n",
    "\n",
    "def ecdf(data):\n",
    "    x = np.sort(data)\n",
    "    y = np.arange(1, len(data)+1)/len(data)\n",
    "    return x, y"
   ]
  },
  {
   "cell_type": "code",
   "execution_count": 72,
   "metadata": {
    "collapsed": true
   },
   "outputs": [],
   "source": [
    "#x and y for plotting ecdf of observed data\n",
    "x_obs, y_obs = ecdf(df5.Income)"
   ]
  },
  {
   "cell_type": "code",
   "execution_count": 73,
   "metadata": {
    "collapsed": true
   },
   "outputs": [],
   "source": [
    "#estimate x and y for theoritical samples for ecdf\n",
    "mean = np.mean(df5.Income)\n",
    "std = np.std(df5.Income)\n",
    "samples = np.random.normal(mean, std, 10000)\n",
    "\n",
    "x_theo, y_theo = ecdf(samples)"
   ]
  },
  {
   "cell_type": "code",
   "execution_count": 74,
   "metadata": {},
   "outputs": [
    {
     "data": {
      "image/png": "[encoded data removed]",
      "text/plain": [
       "<matplotlib.figure.Figure at 0x7e67804f98>"
      ]
     },
     "metadata": {},
     "output_type": "display_data"
    }
   ],
   "source": [
    "#plot ecdfs using the actual and theoritical observations \n",
    "_ = plt.plot(x_obs, y_obs, marker='.', linestyle='none')\n",
    "_ = plt.plot(x_theo, y_theo)"
   ]
  },
  {
   "cell_type": "code",
   "execution_count": 75,
   "metadata": {},
   "outputs": [
    {
     "name": "stdout",
     "output_type": "stream",
     "text": [
      "40450785.4663 0.0\n"
     ]
    }
   ],
   "source": [
    "chi, p_income = stats.chisquare(df5.Income)\n",
    "print(chi, p_income)"
   ]
  },
  {
   "cell_type": "code",
   "execution_count": 76,
   "metadata": {},
   "outputs": [
    {
     "name": "stdout",
     "output_type": "stream",
     "text": [
      "We can reject the null hypothesis at alpha=0.05 with p-value = 0.0\n"
     ]
    }
   ],
   "source": [
    "if p_income <= alpha:\n",
    "    print('We can reject the null hypothesis at alpha=0.05 with p-value = ' + str(p_income))\n",
    "else:\n",
    "    print('We cannot reject the null hypothesis at alpha=0.05 with p-value = ' + str(p_income))"
   ]
  },
  {
   "cell_type": "markdown",
   "metadata": {},
   "source": [
    "Both graphically and chi square test suggest that the data is not normally distributed. The plots also suggest that while the data in the middle follow a normal trend. The income for colleges at the extreme low and high ends deviate the plot from being normally distributed."
   ]
  },
  {
   "cell_type": "code",
   "execution_count": 77,
   "metadata": {
    "collapsed": true
   },
   "outputs": [],
   "source": [
    "#get log of income data\n",
    "log_inc = np.log(df5.Income)"
   ]
  },
  {
   "cell_type": "code",
   "execution_count": 78,
   "metadata": {},
   "outputs": [
    {
     "data": {
      "image/png": "[encoded data removed]",
      "text/plain": [
       "<matplotlib.figure.Figure at 0x7e6a5d0828>"
      ]
     },
     "metadata": {},
     "output_type": "display_data"
    }
   ],
   "source": [
    "#plot ecdf for log of Income\n",
    "x_log, y_log = ecdf(log_inc)\n",
    "x_theo_log, y_theo_log = ecdf(np.random.normal(np.mean(log_inc), np.std(log_inc), 10000))\n",
    "\n",
    "_ = plt.plot(x_log, y_log, marker='.', linestyle='none')\n",
    "_ = plt.plot(x_theo_log, y_theo_log)"
   ]
  },
  {
   "cell_type": "code",
   "execution_count": 79,
   "metadata": {},
   "outputs": [
    {
     "name": "stdout",
     "output_type": "stream",
     "text": [
      "81.1668617712 1.0\n"
     ]
    }
   ],
   "source": [
    "#chi square test to check normality of lof of income\n",
    "chi1, p_log_inc = stats.chisquare(log_inc)\n",
    "print(chi1, p_log_inc)"
   ]
  },
  {
   "cell_type": "markdown",
   "metadata": {},
   "source": [
    "Both the ecdf plots and chi-square test suggest that Income data is normally distributed after log transformation."
   ]
  },
  {
   "cell_type": "markdown",
   "metadata": {},
   "source": [
    "Developing Random Forest Regressor and Elastic Net Models using Grid Search method and comparing the model performances"
   ]
  },
  {
   "cell_type": "code",
   "execution_count": 80,
   "metadata": {
    "collapsed": true
   },
   "outputs": [],
   "source": [
    "#specify independent and response/dependent variable: X, y\n",
    "X = df5.drop('Income', axis=1)\n",
    "y = df5.Income"
   ]
  },
  {
   "cell_type": "code",
   "execution_count": 81,
   "metadata": {
    "collapsed": true
   },
   "outputs": [],
   "source": [
    "#split data into training and testing\n",
    "X_train, X_test, y_train, y_test = train_test_split(X,y, test_size=0.3, random_state=42)"
   ]
  },
  {
   "cell_type": "code",
   "execution_count": 82,
   "metadata": {
    "collapsed": true
   },
   "outputs": [],
   "source": [
    "#Instantiate Random Forest Regressor: regr\n",
    "regr = RandomForestRegressor()"
   ]
  },
  {
   "cell_type": "code",
   "execution_count": 86,
   "metadata": {
    "collapsed": true
   },
   "outputs": [],
   "source": [
    "#Specify range of hyperparameters to be tested using Grid Search\n",
    "parameters = {\"max_depth\": list(range(1,10))\n",
    "              , \"min_samples_split\": [50,100,200]\n",
    "              , \"n_estimators\": list(range(1,5))\n",
    "              , \"max_features\": list(range(2,18))  }"
   ]
  },
  {
   "cell_type": "code",
   "execution_count": 87,
   "metadata": {
    "collapsed": true
   },
   "outputs": [],
   "source": [
    "# Instantiate the GridSearchCV object: regr_cv\n",
    "regr_cv =  GridSearchCV(regr, parameters, cv=5)"
   ]
  },
  {
   "cell_type": "code",
   "execution_count": 88,
   "metadata": {},
   "outputs": [
    {
     "data": {
      "text/plain": [
       "GridSearchCV(cv=5, error_score='raise',\n",
       "       estimator=RandomForestRegressor(bootstrap=True, criterion='mse', max_depth=None,\n",
       "           max_features='auto', max_leaf_nodes=None,\n",
       "           min_impurity_decrease=0.0, min_impurity_split=None,\n",
       "           min_samples_leaf=1, min_samples_split=2,\n",
       "           min_weight_fraction_leaf=0.0, n_estimators=10, n_jobs=1,\n",
       "           oob_score=False, random_state=None, verbose=0, warm_start=False),\n",
       "       fit_params=None, iid=True, n_jobs=1,\n",
       "       param_grid={'max_depth': [1, 2, 3, 4, 5, 6, 7, 8, 9], 'min_samples_split': [50, 100, 200], 'n_estimators': [1, 2, 3, 4], 'max_features': [2, 3, 4, 5, 6, 7, 8, 9, 10, 11, 12, 13, 14, 15, 16, 17]},\n",
       "       pre_dispatch='2*n_jobs', refit=True, return_train_score=True,\n",
       "       scoring=None, verbose=0)"
      ]
     },
     "execution_count": 88,
     "metadata": {},
     "output_type": "execute_result"
    }
   ],
   "source": [
    "#Fit the model to training data\n",
    "regr_cv.fit(X_train, y_train)"
   ]
  },
  {
   "cell_type": "code",
   "execution_count": 89,
   "metadata": {},
   "outputs": [
    {
     "name": "stdout",
     "output_type": "stream",
     "text": [
      "Tuned Random Forest Regressor Parameters: {'max_depth': 9, 'max_features': 10, 'min_samples_split': 50, 'n_estimators': 4}\n",
      "Best Score is: 0.623650844066469\n"
     ]
    }
   ],
   "source": [
    "print(\"Tuned Random Forest Regressor Parameters: {}\".format(regr_cv.best_params_))\n",
    "print(\"Best Score is: {}\".format(regr_cv.best_score_))"
   ]
  },
  {
   "cell_type": "code",
   "execution_count": 92,
   "metadata": {
    "collapsed": true
   },
   "outputs": [],
   "source": [
    "#Test the model on test dataset\n",
    "y_pred = regr_cv.predict(X_test)"
   ]
  },
  {
   "cell_type": "code",
   "execution_count": 94,
   "metadata": {},
   "outputs": [
    {
     "name": "stdout",
     "output_type": "stream",
     "text": [
      "R^2: 0.6137522937253218\n",
      "Root Mean Squared Error: 10124.94860160248\n"
     ]
    }
   ],
   "source": [
    "print(\"R^2: {}\".format(regr_cv.score(X_test, y_test)))\n",
    "rmse = np.sqrt(mean_squared_error(y_test, y_pred))\n",
    "print(\"Root Mean Squared Error: {}\".format(rmse))"
   ]
  },
  {
   "cell_type": "markdown",
   "metadata": {},
   "source": [
    "The results show that Random Forest Regressor does a decent job in predicting the Income with an R-square of almost 0.61"
   ]
  },
  {
   "cell_type": "markdown",
   "metadata": {},
   "source": [
    "    "
   ]
  },
  {
   "cell_type": "code",
   "execution_count": null,
   "metadata": {
    "collapsed": true
   },
   "outputs": [],
   "source": []
  },
  {
   "cell_type": "code",
   "execution_count": 104,
   "metadata": {},
   "outputs": [],
   "source": [
    "#Instantiate Elastic Net: elastic_net\n",
    "elastic_net = ElasticNet(selection = 'random')"
   ]
  },
  {
   "cell_type": "code",
   "execution_count": 105,
   "metadata": {
    "collapsed": true
   },
   "outputs": [],
   "source": [
    "#Specify range of hyperparameter to be tested using Grid Search\n",
    "param_en = {\"l1_ratio\": np.linspace(0, 1, 30)}"
   ]
  },
  {
   "cell_type": "code",
   "execution_count": 106,
   "metadata": {
    "collapsed": true
   },
   "outputs": [],
   "source": [
    "# Instantiate the GridSearchCV object: gm_cv\n",
    "gm_cv = GridSearchCV(elastic_net, param_en, cv=5)"
   ]
  },
  {
   "cell_type": "code",
   "execution_count": 107,
   "metadata": {},
   "outputs": [
    {
     "name": "stderr",
     "output_type": "stream",
     "text": [
      "C:\\Users\\harshvardhan\\Anaconda3\\lib\\site-packages\\sklearn\\linear_model\\coordinate_descent.py:491: ConvergenceWarning: Objective did not converge. You might want to increase the number of iterations. Fitting data with very small alpha may cause precision problems.\n",
      "  ConvergenceWarning)\n",
      "C:\\Users\\harshvardhan\\Anaconda3\\lib\\site-packages\\sklearn\\linear_model\\coordinate_descent.py:491: ConvergenceWarning: Objective did not converge. You might want to increase the number of iterations. Fitting data with very small alpha may cause precision problems.\n",
      "  ConvergenceWarning)\n",
      "C:\\Users\\harshvardhan\\Anaconda3\\lib\\site-packages\\sklearn\\linear_model\\coordinate_descent.py:491: ConvergenceWarning: Objective did not converge. You might want to increase the number of iterations. Fitting data with very small alpha may cause precision problems.\n",
      "  ConvergenceWarning)\n",
      "C:\\Users\\harshvardhan\\Anaconda3\\lib\\site-packages\\sklearn\\linear_model\\coordinate_descent.py:491: ConvergenceWarning: Objective did not converge. You might want to increase the number of iterations. Fitting data with very small alpha may cause precision problems.\n",
      "  ConvergenceWarning)\n",
      "C:\\Users\\harshvardhan\\Anaconda3\\lib\\site-packages\\sklearn\\linear_model\\coordinate_descent.py:491: ConvergenceWarning: Objective did not converge. You might want to increase the number of iterations. Fitting data with very small alpha may cause precision problems.\n",
      "  ConvergenceWarning)\n"
     ]
    },
    {
     "data": {
      "text/plain": [
       "GridSearchCV(cv=5, error_score='raise',\n",
       "       estimator=ElasticNet(alpha=1.0, copy_X=True, fit_intercept=True, l1_ratio=0.5,\n",
       "      max_iter=1000, normalize=False, positive=False, precompute=False,\n",
       "      random_state=None, selection='random', tol=0.0001, warm_start=False),\n",
       "       fit_params=None, iid=True, n_jobs=1,\n",
       "       param_grid={'l1_ratio': array([ 0.     ,  0.03448,  0.06897,  0.10345,  0.13793,  0.17241,\n",
       "        0.2069 ,  0.24138,  0.27586,  0.31034,  0.34483,  0.37931,\n",
       "        0.41379,  0.44828,  0.48276,  0.51724,  0.55172,  0.58621,\n",
       "        0.62069,  0.65517,  0.68966,  0.72414,  0.75862,  0.7931 ,\n",
       "        0.82759,  0.86207,  0.89655,  0.93103,  0.96552,  1.     ])},\n",
       "       pre_dispatch='2*n_jobs', refit=True, return_train_score=True,\n",
       "       scoring=None, verbose=0)"
      ]
     },
     "execution_count": 107,
     "metadata": {},
     "output_type": "execute_result"
    }
   ],
   "source": [
    "#Fit the model\n",
    "gm_cv.fit(X_train, y_train)"
   ]
  },
  {
   "cell_type": "code",
   "execution_count": 109,
   "metadata": {},
   "outputs": [
    {
     "name": "stdout",
     "output_type": "stream",
     "text": [
      "Tuned ElasticNet l1 ratio: {'l1_ratio': 1.0}\n",
      "Tuned ElasticNet R squared: 0.5220852175641312\n",
      "Tuned ElasticNet MSE: 126844080.62861225\n"
     ]
    }
   ],
   "source": [
    "#Test the model on test dataset\n",
    "y_pred_net = gm_cv.predict(X_test)\n",
    "r2 = gm_cv.score(X_test, y_test)\n",
    "mse = mean_squared_error(y_test, y_pred_net)\n",
    "print(\"Tuned ElasticNet l1 ratio: {}\".format(gm_cv.best_params_))\n",
    "print(\"Tuned ElasticNet R squared: {}\".format(r2))\n",
    "print(\"Tuned ElasticNet MSE: {}\".format(mse))"
   ]
  },
  {
   "cell_type": "markdown",
   "metadata": {},
   "source": [
    "Although the Elastic Net model did perform well with R2 of 0.52, its performance was less compared to the Random Forest Regressor"
   ]
  },
  {
   "cell_type": "markdown",
   "metadata": {},
   "source": [
    "Scaling the data and applying the models again using Pipeline"
   ]
  },
  {
   "cell_type": "code",
   "execution_count": 110,
   "metadata": {
    "collapsed": true
   },
   "outputs": [],
   "source": [
    "#Setup pipeline steps: steps\n",
    "steps = [('scaler', StandardScaler()),\n",
    "        ('regr_sc' , RandomForestRegressor())]"
   ]
  },
  {
   "cell_type": "code",
   "execution_count": 111,
   "metadata": {
    "collapsed": true
   },
   "outputs": [],
   "source": [
    "#Instantiate the pipeline\n",
    "pipeline_regr = Pipeline(steps)"
   ]
  },
  {
   "cell_type": "code",
   "execution_count": 118,
   "metadata": {
    "collapsed": true
   },
   "outputs": [],
   "source": [
    "#Specify range for hyperparameters: parameters_reg\n",
    "parameters_reg = {\"regr_sc__max_depth\": list(range(1,10))\n",
    "              , \"regr_sc__min_samples_split\": [50,100,200]\n",
    "              , \"regr_sc__n_estimators\": list(range(1,5))\n",
    "              , \"regr_sc__max_features\": list(range(2,18))  }"
   ]
  },
  {
   "cell_type": "code",
   "execution_count": 119,
   "metadata": {
    "collapsed": true
   },
   "outputs": [],
   "source": [
    "#Random Forest Regressor after standard scaling: regr_cv_sc\n",
    "regr_cv_sc =  GridSearchCV(pipeline_regr, param_grid=parameters_reg)"
   ]
  },
  {
   "cell_type": "code",
   "execution_count": 121,
   "metadata": {},
   "outputs": [
    {
     "data": {
      "text/plain": [
       "GridSearchCV(cv=None, error_score='raise',\n",
       "       estimator=Pipeline(memory=None,\n",
       "     steps=[('scaler', StandardScaler(copy=True, with_mean=True, with_std=True)), ('regr_sc', RandomForestRegressor(bootstrap=True, criterion='mse', max_depth=None,\n",
       "           max_features='auto', max_leaf_nodes=None,\n",
       "           min_impurity_decrease=0.0, min_impurity...imators=10, n_jobs=1,\n",
       "           oob_score=False, random_state=None, verbose=0, warm_start=False))]),\n",
       "       fit_params=None, iid=True, n_jobs=1,\n",
       "       param_grid={'regr_sc__max_depth': [1, 2, 3, 4, 5, 6, 7, 8, 9], 'regr_sc__min_samples_split': [50, 100, 200], 'regr_sc__n_estimators': [1, 2, 3, 4], 'regr_sc__max_features': [2, 3, 4, 5, 6, 7, 8, 9, 10, 11, 12, 13, 14, 15, 16, 17]},\n",
       "       pre_dispatch='2*n_jobs', refit=True, return_train_score=True,\n",
       "       scoring=None, verbose=0)"
      ]
     },
     "execution_count": 121,
     "metadata": {},
     "output_type": "execute_result"
    }
   ],
   "source": [
    "#Fit the model\n",
    "regr_cv_sc.fit(X_train, y_train)"
   ]
  },
  {
   "cell_type": "code",
   "execution_count": 122,
   "metadata": {},
   "outputs": [
    {
     "name": "stdout",
     "output_type": "stream",
     "text": [
      "Tuned Random Forest Regressor Parameters: {'regr_sc__max_depth': 8, 'regr_sc__max_features': 12, 'regr_sc__min_samples_split': 50, 'regr_sc__n_estimators': 4}\n",
      "Best Score is: 0.6193154477574924\n"
     ]
    }
   ],
   "source": [
    "print(\"Tuned Random Forest Regressor Parameters: {}\".format(regr_cv_sc.best_params_))\n",
    "print(\"Best Score is: {}\".format(regr_cv_sc.best_score_))"
   ]
  },
  {
   "cell_type": "code",
   "execution_count": 123,
   "metadata": {
    "collapsed": true
   },
   "outputs": [],
   "source": [
    "y_pred_reg = regr_cv_sc.predict(X_test)"
   ]
  },
  {
   "cell_type": "code",
   "execution_count": 124,
   "metadata": {},
   "outputs": [
    {
     "name": "stdout",
     "output_type": "stream",
     "text": [
      "R^2: 0.6469943886403245\n",
      "Root Mean Squared Error: 9679.449871591261\n"
     ]
    }
   ],
   "source": [
    "print(\"R^2: {}\".format(regr_cv_sc.score(X_test, y_test)))\n",
    "rmse = np.sqrt(mean_squared_error(y_test, y_pred_reg))\n",
    "print(\"Root Mean Squared Error: {}\".format(rmse))"
   ]
  },
  {
   "cell_type": "markdown",
   "metadata": {},
   "source": [
    "The results show that after scaling the Random Forest Regression model is performing better. The R-square increased from almost 0.59 to 0.65 and RMSE decreased from  10175.75 to 9679.449"
   ]
  },
  {
   "cell_type": "markdown",
   "metadata": {},
   "source": [
    "Scaling the data and applying the Elastic Net model again using Pipeline"
   ]
  },
  {
   "cell_type": "code",
   "execution_count": 125,
   "metadata": {
    "collapsed": true
   },
   "outputs": [],
   "source": [
    "#Setup pipeline steps: steps\n",
    "steps_en = [('scaler', StandardScaler()),\n",
    "        ('elastic_net_sc' , ElasticNet())]"
   ]
  },
  {
   "cell_type": "code",
   "execution_count": 126,
   "metadata": {
    "collapsed": true
   },
   "outputs": [],
   "source": [
    "#Instantiate the pipeline\n",
    "pipeline_en = Pipeline(steps_en)"
   ]
  },
  {
   "cell_type": "code",
   "execution_count": 127,
   "metadata": {
    "collapsed": true
   },
   "outputs": [],
   "source": [
    "# Specify the hyperparameter space\n",
    "param_en_sc = {'elastic_net_sc__l1_ratio':np.linspace(0,1,30)}"
   ]
  },
  {
   "cell_type": "code",
   "execution_count": 128,
   "metadata": {
    "collapsed": true
   },
   "outputs": [],
   "source": [
    "#ElasticNet after standard scaling: elastic_cv_sc\n",
    "elastic_cv_sc =  GridSearchCV(pipeline_en, param_grid=param_en_sc, cv=5)"
   ]
  },
  {
   "cell_type": "code",
   "execution_count": 129,
   "metadata": {},
   "outputs": [
    {
     "name": "stderr",
     "output_type": "stream",
     "text": [
      "C:\\Users\\harshvardhan\\Anaconda3\\lib\\site-packages\\sklearn\\linear_model\\coordinate_descent.py:491: ConvergenceWarning: Objective did not converge. You might want to increase the number of iterations. Fitting data with very small alpha may cause precision problems.\n",
      "  ConvergenceWarning)\n",
      "C:\\Users\\harshvardhan\\Anaconda3\\lib\\site-packages\\sklearn\\linear_model\\coordinate_descent.py:491: ConvergenceWarning: Objective did not converge. You might want to increase the number of iterations. Fitting data with very small alpha may cause precision problems.\n",
      "  ConvergenceWarning)\n",
      "C:\\Users\\harshvardhan\\Anaconda3\\lib\\site-packages\\sklearn\\linear_model\\coordinate_descent.py:491: ConvergenceWarning: Objective did not converge. You might want to increase the number of iterations. Fitting data with very small alpha may cause precision problems.\n",
      "  ConvergenceWarning)\n",
      "C:\\Users\\harshvardhan\\Anaconda3\\lib\\site-packages\\sklearn\\linear_model\\coordinate_descent.py:491: ConvergenceWarning: Objective did not converge. You might want to increase the number of iterations. Fitting data with very small alpha may cause precision problems.\n",
      "  ConvergenceWarning)\n",
      "C:\\Users\\harshvardhan\\Anaconda3\\lib\\site-packages\\sklearn\\linear_model\\coordinate_descent.py:491: ConvergenceWarning: Objective did not converge. You might want to increase the number of iterations. Fitting data with very small alpha may cause precision problems.\n",
      "  ConvergenceWarning)\n"
     ]
    },
    {
     "data": {
      "text/plain": [
       "GridSearchCV(cv=5, error_score='raise',\n",
       "       estimator=Pipeline(memory=None,\n",
       "     steps=[('scaler', StandardScaler(copy=True, with_mean=True, with_std=True)), ('elastic_net_sc', ElasticNet(alpha=1.0, copy_X=True, fit_intercept=True, l1_ratio=0.5,\n",
       "      max_iter=1000, normalize=False, positive=False, precompute=False,\n",
       "      random_state=None, selection='cyclic', tol=0.0001, warm_start=False))]),\n",
       "       fit_params=None, iid=True, n_jobs=1,\n",
       "       param_grid={'elastic_net_sc__l1_ratio': array([ 0.     ,  0.03448,  0.06897,  0.10345,  0.13793,  0.17241,\n",
       "        0.2069 ,  0.24138,  0.27586,  0.31034,  0.34483,  0.37931,\n",
       "        0.41379,  0.44828,  0.48276,  0.51724,  0.55172,  0.58621,\n",
       "        0.62069,  0.65517,  0.68966,  0.72414,  0.75862,  0.7931 ,\n",
       "        0.82759,  0.86207,  0.89655,  0.93103,  0.96552,  1.     ])},\n",
       "       pre_dispatch='2*n_jobs', refit=True, return_train_score=True,\n",
       "       scoring=None, verbose=0)"
      ]
     },
     "execution_count": 129,
     "metadata": {},
     "output_type": "execute_result"
    }
   ],
   "source": [
    "#Fit the model\n",
    "elastic_cv_sc.fit(X_train, y_train)"
   ]
  },
  {
   "cell_type": "code",
   "execution_count": 131,
   "metadata": {},
   "outputs": [
    {
     "name": "stdout",
     "output_type": "stream",
     "text": [
      "Tuned ElasticNet l1 ratio: {'elastic_net_sc__l1_ratio': 1.0}\n",
      "Tuned ElasticNet R squared: 0.522020504445615\n",
      "Tuned ElasticNet MSE: 126861256.2346501\n"
     ]
    }
   ],
   "source": [
    "y_pred_net_sc = elastic_cv_sc.predict(X_test)\n",
    "r2 = elastic_cv_sc.score(X_test, y_test)\n",
    "mse = mean_squared_error(y_test, y_pred_net_sc)\n",
    "print(\"Tuned ElasticNet l1 ratio: {}\".format(elastic_cv_sc.best_params_))\n",
    "print(\"Tuned ElasticNet R squared: {}\".format(r2))\n",
    "print(\"Tuned ElasticNet MSE: {}\".format(mse))"
   ]
  },
  {
   "cell_type": "markdown",
   "metadata": {},
   "source": [
    "The comparison between Random Forest Regressor and Elastic Net model shows that Random Forest Regressor was able to develop better model with higher R-square and much lower RMSE as compared to Elastic Net model. Standardizing Income data by taking log further improve the performance of Random Forest Regressor model."
   ]
  },
  {
   "cell_type": "code",
   "execution_count": 52,
   "metadata": {},
   "outputs": [],
   "source": [
    "from plotly import __version__\n",
    "from plotly.offline import download_plotlyjs, init_notebook_mode, plot, iplot"
   ]
  },
  {
   "cell_type": "code",
   "execution_count": 54,
   "metadata": {},
   "outputs": [
    {
     "name": "stdout",
     "output_type": "stream",
     "text": [
      "3.0.0\n"
     ]
    }
   ],
   "source": [
    "print (__version__)"
   ]
  },
  {
   "cell_type": "code",
   "execution_count": 55,
   "metadata": {},
   "outputs": [
    {
     "data": {
      "text/html": [
       "<script>requirejs.config({paths: { 'plotly': ['https://cdn.plot.ly/plotly-latest.min']},});if(!window.Plotly) {{require(['plotly'],function(plotly) {window.Plotly=plotly;});}}</script>"
      ],
      "text/vnd.plotly.v1+html": [
       "<script>requirejs.config({paths: { 'plotly': ['https://cdn.plot.ly/plotly-latest.min']},});if(!window.Plotly) {{require(['plotly'],function(plotly) {window.Plotly=plotly;});}}</script>"
      ]
     },
     "metadata": {},
     "output_type": "display_data"
    }
   ],
   "source": [
    "init_notebook_mode(connected=True)"
   ]
  },
  {
   "cell_type": "code",
   "execution_count": 57,
   "metadata": {},
   "outputs": [],
   "source": [
    "import plotly.plotly as py\n",
    "import plotly.graph_objs as go"
   ]
  },
  {
   "cell_type": "code",
   "execution_count": 70,
   "metadata": {},
   "outputs": [],
   "source": [
    "color_scl = [[0.1, 'rgb(242,240,247)'],[0.2, 'rgb(218,218,235)'],[0.4, 'rgb(188,189,220)'],\\\n",
    "            [0.6, 'rgb(158,154,200)'],[0.8, 'rgb(117,107,177)'],[1.0, 'rgb(84,39,143)']]"
   ]
  },
  {
   "cell_type": "code",
   "execution_count": 79,
   "metadata": {},
   "outputs": [],
   "source": [
    "data = [ dict(\n",
    "        geo = \"geo\",\n",
    "        type='choropleth',\n",
    "        colorscale = color_scl,\n",
    "        autocolorscale = False,\n",
    "        locations = df_code['code'],\n",
    "        z = df[\"State Population, 2009\"].astype(float),\n",
    "        locationmode = 'USA-states',\n",
    "        text = '',\n",
    "        marker = dict(\n",
    "            line = dict (\n",
    "                color = 'rgb(255,255,255)',\n",
    "                width = 2\n",
    "            ) ),\n",
    "        colorbar = dict(\n",
    "            title = \"Population 2009\")\n",
    "        ) ]"
   ]
  },
  {
   "cell_type": "code",
   "execution_count": 80,
   "metadata": {},
   "outputs": [],
   "source": [
    "layout = dict(\n",
    "            \n",
    "        title = 'US population 2014 by State<br>(Hover for breakdown)',\n",
    "        geo = dict(\n",
    "            domain = dict(\n",
    "                x = [0.0,0.2],\n",
    "                y = [0.0, 0.2]),\n",
    "            scope='usa',\n",
    "            projection=dict( type='albers usa' ),\n",
    "            showlakes = True,\n",
    "            lakecolor = 'rgb(255, 255, 255)'),\n",
    "             )"
   ]
  },
  {
   "cell_type": "code",
   "execution_count": 82,
   "metadata": {},
   "outputs": [
    {
     "ename": "PlotlyRequestError",
     "evalue": "No message",
     "output_type": "error",
     "traceback": [
      "\u001b[1;31m---------------------------------------------------------------------------\u001b[0m",
      "\u001b[1;31mError\u001b[0m                                     Traceback (most recent call last)",
      "\u001b[1;32mC:\\ProgramData\\Anaconda3\\lib\\site-packages\\urllib3\\contrib\\pyopenssl.py\u001b[0m in \u001b[0;36mwrap_socket\u001b[1;34m(self, sock, server_side, do_handshake_on_connect, suppress_ragged_eofs, server_hostname)\u001b[0m\n\u001b[0;32m    440\u001b[0m             \u001b[1;32mtry\u001b[0m\u001b[1;33m:\u001b[0m\u001b[1;33m\u001b[0m\u001b[0m\n\u001b[1;32m--> 441\u001b[1;33m                 \u001b[0mcnx\u001b[0m\u001b[1;33m.\u001b[0m\u001b[0mdo_handshake\u001b[0m\u001b[1;33m(\u001b[0m\u001b[1;33m)\u001b[0m\u001b[1;33m\u001b[0m\u001b[0m\n\u001b[0m\u001b[0;32m    442\u001b[0m             \u001b[1;32mexcept\u001b[0m \u001b[0mOpenSSL\u001b[0m\u001b[1;33m.\u001b[0m\u001b[0mSSL\u001b[0m\u001b[1;33m.\u001b[0m\u001b[0mWantReadError\u001b[0m\u001b[1;33m:\u001b[0m\u001b[1;33m\u001b[0m\u001b[0m\n",
      "\u001b[1;32mC:\\ProgramData\\Anaconda3\\lib\\site-packages\\OpenSSL\\SSL.py\u001b[0m in \u001b[0;36mdo_handshake\u001b[1;34m(self)\u001b[0m\n\u001b[0;32m   1805\u001b[0m         \u001b[0mresult\u001b[0m \u001b[1;33m=\u001b[0m \u001b[0m_lib\u001b[0m\u001b[1;33m.\u001b[0m\u001b[0mSSL_do_handshake\u001b[0m\u001b[1;33m(\u001b[0m\u001b[0mself\u001b[0m\u001b[1;33m.\u001b[0m\u001b[0m_ssl\u001b[0m\u001b[1;33m)\u001b[0m\u001b[1;33m\u001b[0m\u001b[0m\n\u001b[1;32m-> 1806\u001b[1;33m         \u001b[0mself\u001b[0m\u001b[1;33m.\u001b[0m\u001b[0m_raise_ssl_error\u001b[0m\u001b[1;33m(\u001b[0m\u001b[0mself\u001b[0m\u001b[1;33m.\u001b[0m\u001b[0m_ssl\u001b[0m\u001b[1;33m,\u001b[0m \u001b[0mresult\u001b[0m\u001b[1;33m)\u001b[0m\u001b[1;33m\u001b[0m\u001b[0m\n\u001b[0m\u001b[0;32m   1807\u001b[0m \u001b[1;33m\u001b[0m\u001b[0m\n",
      "\u001b[1;32mC:\\ProgramData\\Anaconda3\\lib\\site-packages\\OpenSSL\\SSL.py\u001b[0m in \u001b[0;36m_raise_ssl_error\u001b[1;34m(self, ssl, result)\u001b[0m\n\u001b[0;32m   1545\u001b[0m         \u001b[1;32melse\u001b[0m\u001b[1;33m:\u001b[0m\u001b[1;33m\u001b[0m\u001b[0m\n\u001b[1;32m-> 1546\u001b[1;33m             \u001b[0m_raise_current_error\u001b[0m\u001b[1;33m(\u001b[0m\u001b[1;33m)\u001b[0m\u001b[1;33m\u001b[0m\u001b[0m\n\u001b[0m\u001b[0;32m   1547\u001b[0m \u001b[1;33m\u001b[0m\u001b[0m\n",
      "\u001b[1;32mC:\\ProgramData\\Anaconda3\\lib\\site-packages\\OpenSSL\\_util.py\u001b[0m in \u001b[0;36mexception_from_error_queue\u001b[1;34m(exception_type)\u001b[0m\n\u001b[0;32m     53\u001b[0m \u001b[1;33m\u001b[0m\u001b[0m\n\u001b[1;32m---> 54\u001b[1;33m     \u001b[1;32mraise\u001b[0m \u001b[0mexception_type\u001b[0m\u001b[1;33m(\u001b[0m\u001b[0merrors\u001b[0m\u001b[1;33m)\u001b[0m\u001b[1;33m\u001b[0m\u001b[0m\n\u001b[0m\u001b[0;32m     55\u001b[0m \u001b[1;33m\u001b[0m\u001b[0m\n",
      "\u001b[1;31mError\u001b[0m: [('SSL routines', 'ssl3_get_server_certificate', 'certificate verify failed')]",
      "\nDuring handling of the above exception, another exception occurred:\n",
      "\u001b[1;31mSSLError\u001b[0m                                  Traceback (most recent call last)",
      "\u001b[1;32mC:\\ProgramData\\Anaconda3\\lib\\site-packages\\urllib3\\connectionpool.py\u001b[0m in \u001b[0;36murlopen\u001b[1;34m(self, method, url, body, headers, retries, redirect, assert_same_host, timeout, pool_timeout, release_conn, chunked, body_pos, **response_kw)\u001b[0m\n\u001b[0;32m    600\u001b[0m                                                   \u001b[0mbody\u001b[0m\u001b[1;33m=\u001b[0m\u001b[0mbody\u001b[0m\u001b[1;33m,\u001b[0m \u001b[0mheaders\u001b[0m\u001b[1;33m=\u001b[0m\u001b[0mheaders\u001b[0m\u001b[1;33m,\u001b[0m\u001b[1;33m\u001b[0m\u001b[0m\n\u001b[1;32m--> 601\u001b[1;33m                                                   chunked=chunked)\n\u001b[0m\u001b[0;32m    602\u001b[0m \u001b[1;33m\u001b[0m\u001b[0m\n",
      "\u001b[1;32mC:\\ProgramData\\Anaconda3\\lib\\site-packages\\urllib3\\connectionpool.py\u001b[0m in \u001b[0;36m_make_request\u001b[1;34m(self, conn, method, url, timeout, chunked, **httplib_request_kw)\u001b[0m\n\u001b[0;32m    345\u001b[0m         \u001b[1;32mtry\u001b[0m\u001b[1;33m:\u001b[0m\u001b[1;33m\u001b[0m\u001b[0m\n\u001b[1;32m--> 346\u001b[1;33m             \u001b[0mself\u001b[0m\u001b[1;33m.\u001b[0m\u001b[0m_validate_conn\u001b[0m\u001b[1;33m(\u001b[0m\u001b[0mconn\u001b[0m\u001b[1;33m)\u001b[0m\u001b[1;33m\u001b[0m\u001b[0m\n\u001b[0m\u001b[0;32m    347\u001b[0m         \u001b[1;32mexcept\u001b[0m \u001b[1;33m(\u001b[0m\u001b[0mSocketTimeout\u001b[0m\u001b[1;33m,\u001b[0m \u001b[0mBaseSSLError\u001b[0m\u001b[1;33m)\u001b[0m \u001b[1;32mas\u001b[0m \u001b[0me\u001b[0m\u001b[1;33m:\u001b[0m\u001b[1;33m\u001b[0m\u001b[0m\n",
      "\u001b[1;32mC:\\ProgramData\\Anaconda3\\lib\\site-packages\\urllib3\\connectionpool.py\u001b[0m in \u001b[0;36m_validate_conn\u001b[1;34m(self, conn)\u001b[0m\n\u001b[0;32m    849\u001b[0m         \u001b[1;32mif\u001b[0m \u001b[1;32mnot\u001b[0m \u001b[0mgetattr\u001b[0m\u001b[1;33m(\u001b[0m\u001b[0mconn\u001b[0m\u001b[1;33m,\u001b[0m \u001b[1;34m'sock'\u001b[0m\u001b[1;33m,\u001b[0m \u001b[1;32mNone\u001b[0m\u001b[1;33m)\u001b[0m\u001b[1;33m:\u001b[0m  \u001b[1;31m# AppEngine might not have  `.sock`\u001b[0m\u001b[1;33m\u001b[0m\u001b[0m\n\u001b[1;32m--> 850\u001b[1;33m             \u001b[0mconn\u001b[0m\u001b[1;33m.\u001b[0m\u001b[0mconnect\u001b[0m\u001b[1;33m(\u001b[0m\u001b[1;33m)\u001b[0m\u001b[1;33m\u001b[0m\u001b[0m\n\u001b[0m\u001b[0;32m    851\u001b[0m \u001b[1;33m\u001b[0m\u001b[0m\n",
      "\u001b[1;32mC:\\ProgramData\\Anaconda3\\lib\\site-packages\\urllib3\\connection.py\u001b[0m in \u001b[0;36mconnect\u001b[1;34m(self)\u001b[0m\n\u001b[0;32m    325\u001b[0m             \u001b[0mserver_hostname\u001b[0m\u001b[1;33m=\u001b[0m\u001b[0mhostname\u001b[0m\u001b[1;33m,\u001b[0m\u001b[1;33m\u001b[0m\u001b[0m\n\u001b[1;32m--> 326\u001b[1;33m             ssl_context=context)\n\u001b[0m\u001b[0;32m    327\u001b[0m \u001b[1;33m\u001b[0m\u001b[0m\n",
      "\u001b[1;32mC:\\ProgramData\\Anaconda3\\lib\\site-packages\\urllib3\\util\\ssl_.py\u001b[0m in \u001b[0;36mssl_wrap_socket\u001b[1;34m(sock, keyfile, certfile, cert_reqs, ca_certs, server_hostname, ssl_version, ciphers, ssl_context, ca_cert_dir)\u001b[0m\n\u001b[0;32m    328\u001b[0m     \u001b[1;32mif\u001b[0m \u001b[0mHAS_SNI\u001b[0m\u001b[1;33m:\u001b[0m  \u001b[1;31m# Platform-specific: OpenSSL with enabled SNI\u001b[0m\u001b[1;33m\u001b[0m\u001b[0m\n\u001b[1;32m--> 329\u001b[1;33m         \u001b[1;32mreturn\u001b[0m \u001b[0mcontext\u001b[0m\u001b[1;33m.\u001b[0m\u001b[0mwrap_socket\u001b[0m\u001b[1;33m(\u001b[0m\u001b[0msock\u001b[0m\u001b[1;33m,\u001b[0m \u001b[0mserver_hostname\u001b[0m\u001b[1;33m=\u001b[0m\u001b[0mserver_hostname\u001b[0m\u001b[1;33m)\u001b[0m\u001b[1;33m\u001b[0m\u001b[0m\n\u001b[0m\u001b[0;32m    330\u001b[0m \u001b[1;33m\u001b[0m\u001b[0m\n",
      "\u001b[1;32mC:\\ProgramData\\Anaconda3\\lib\\site-packages\\urllib3\\contrib\\pyopenssl.py\u001b[0m in \u001b[0;36mwrap_socket\u001b[1;34m(self, sock, server_side, do_handshake_on_connect, suppress_ragged_eofs, server_hostname)\u001b[0m\n\u001b[0;32m    447\u001b[0m             \u001b[1;32mexcept\u001b[0m \u001b[0mOpenSSL\u001b[0m\u001b[1;33m.\u001b[0m\u001b[0mSSL\u001b[0m\u001b[1;33m.\u001b[0m\u001b[0mError\u001b[0m \u001b[1;32mas\u001b[0m \u001b[0me\u001b[0m\u001b[1;33m:\u001b[0m\u001b[1;33m\u001b[0m\u001b[0m\n\u001b[1;32m--> 448\u001b[1;33m                 \u001b[1;32mraise\u001b[0m \u001b[0mssl\u001b[0m\u001b[1;33m.\u001b[0m\u001b[0mSSLError\u001b[0m\u001b[1;33m(\u001b[0m\u001b[1;34m'bad handshake: %r'\u001b[0m \u001b[1;33m%\u001b[0m \u001b[0me\u001b[0m\u001b[1;33m)\u001b[0m\u001b[1;33m\u001b[0m\u001b[0m\n\u001b[0m\u001b[0;32m    449\u001b[0m             \u001b[1;32mbreak\u001b[0m\u001b[1;33m\u001b[0m\u001b[0m\n",
      "\u001b[1;31mSSLError\u001b[0m: (\"bad handshake: Error([('SSL routines', 'ssl3_get_server_certificate', 'certificate verify failed')],)\",)",
      "\nDuring handling of the above exception, another exception occurred:\n",
      "\u001b[1;31mMaxRetryError\u001b[0m                             Traceback (most recent call last)",
      "\u001b[1;32mC:\\ProgramData\\Anaconda3\\lib\\site-packages\\requests\\adapters.py\u001b[0m in \u001b[0;36msend\u001b[1;34m(self, request, stream, timeout, verify, cert, proxies)\u001b[0m\n\u001b[0;32m    439\u001b[0m                     \u001b[0mretries\u001b[0m\u001b[1;33m=\u001b[0m\u001b[0mself\u001b[0m\u001b[1;33m.\u001b[0m\u001b[0mmax_retries\u001b[0m\u001b[1;33m,\u001b[0m\u001b[1;33m\u001b[0m\u001b[0m\n\u001b[1;32m--> 440\u001b[1;33m                     \u001b[0mtimeout\u001b[0m\u001b[1;33m=\u001b[0m\u001b[0mtimeout\u001b[0m\u001b[1;33m\u001b[0m\u001b[0m\n\u001b[0m\u001b[0;32m    441\u001b[0m                 )\n",
      "\u001b[1;32mC:\\ProgramData\\Anaconda3\\lib\\site-packages\\urllib3\\connectionpool.py\u001b[0m in \u001b[0;36murlopen\u001b[1;34m(self, method, url, body, headers, retries, redirect, assert_same_host, timeout, pool_timeout, release_conn, chunked, body_pos, **response_kw)\u001b[0m\n\u001b[0;32m    638\u001b[0m             retries = retries.increment(method, url, error=e, _pool=self,\n\u001b[1;32m--> 639\u001b[1;33m                                         _stacktrace=sys.exc_info()[2])\n\u001b[0m\u001b[0;32m    640\u001b[0m             \u001b[0mretries\u001b[0m\u001b[1;33m.\u001b[0m\u001b[0msleep\u001b[0m\u001b[1;33m(\u001b[0m\u001b[1;33m)\u001b[0m\u001b[1;33m\u001b[0m\u001b[0m\n",
      "\u001b[1;32mC:\\ProgramData\\Anaconda3\\lib\\site-packages\\urllib3\\util\\retry.py\u001b[0m in \u001b[0;36mincrement\u001b[1;34m(self, method, url, response, error, _pool, _stacktrace)\u001b[0m\n\u001b[0;32m    387\u001b[0m         \u001b[1;32mif\u001b[0m \u001b[0mnew_retry\u001b[0m\u001b[1;33m.\u001b[0m\u001b[0mis_exhausted\u001b[0m\u001b[1;33m(\u001b[0m\u001b[1;33m)\u001b[0m\u001b[1;33m:\u001b[0m\u001b[1;33m\u001b[0m\u001b[0m\n\u001b[1;32m--> 388\u001b[1;33m             \u001b[1;32mraise\u001b[0m \u001b[0mMaxRetryError\u001b[0m\u001b[1;33m(\u001b[0m\u001b[0m_pool\u001b[0m\u001b[1;33m,\u001b[0m \u001b[0murl\u001b[0m\u001b[1;33m,\u001b[0m \u001b[0merror\u001b[0m \u001b[1;32mor\u001b[0m \u001b[0mResponseError\u001b[0m\u001b[1;33m(\u001b[0m\u001b[0mcause\u001b[0m\u001b[1;33m)\u001b[0m\u001b[1;33m)\u001b[0m\u001b[1;33m\u001b[0m\u001b[0m\n\u001b[0m\u001b[0;32m    389\u001b[0m \u001b[1;33m\u001b[0m\u001b[0m\n",
      "\u001b[1;31mMaxRetryError\u001b[0m: HTTPSConnectionPool(host='plot.ly', port=443): Max retries exceeded with url: /clientresp (Caused by SSLError(SSLError(\"bad handshake: Error([('SSL routines', 'ssl3_get_server_certificate', 'certificate verify failed')],)\",),))",
      "\nDuring handling of the above exception, another exception occurred:\n",
      "\u001b[1;31mSSLError\u001b[0m                                  Traceback (most recent call last)",
      "\u001b[1;32mC:\\ProgramData\\Anaconda3\\lib\\site-packages\\plotly\\api\\v1\\utils.py\u001b[0m in \u001b[0;36mrequest\u001b[1;34m(method, url, **kwargs)\u001b[0m\n\u001b[0;32m     77\u001b[0m     \u001b[1;32mtry\u001b[0m\u001b[1;33m:\u001b[0m\u001b[1;33m\u001b[0m\u001b[0m\n\u001b[1;32m---> 78\u001b[1;33m         \u001b[0mresponse\u001b[0m \u001b[1;33m=\u001b[0m \u001b[0mrequests\u001b[0m\u001b[1;33m.\u001b[0m\u001b[0mrequest\u001b[0m\u001b[1;33m(\u001b[0m\u001b[0mmethod\u001b[0m\u001b[1;33m,\u001b[0m \u001b[0murl\u001b[0m\u001b[1;33m,\u001b[0m \u001b[1;33m**\u001b[0m\u001b[0mkwargs\u001b[0m\u001b[1;33m)\u001b[0m\u001b[1;33m\u001b[0m\u001b[0m\n\u001b[0m\u001b[0;32m     79\u001b[0m     \u001b[1;32mexcept\u001b[0m \u001b[0mRequestException\u001b[0m \u001b[1;32mas\u001b[0m \u001b[0me\u001b[0m\u001b[1;33m:\u001b[0m\u001b[1;33m\u001b[0m\u001b[0m\n",
      "\u001b[1;32mC:\\ProgramData\\Anaconda3\\lib\\site-packages\\requests\\api.py\u001b[0m in \u001b[0;36mrequest\u001b[1;34m(method, url, **kwargs)\u001b[0m\n\u001b[0;32m     57\u001b[0m     \u001b[1;32mwith\u001b[0m \u001b[0msessions\u001b[0m\u001b[1;33m.\u001b[0m\u001b[0mSession\u001b[0m\u001b[1;33m(\u001b[0m\u001b[1;33m)\u001b[0m \u001b[1;32mas\u001b[0m \u001b[0msession\u001b[0m\u001b[1;33m:\u001b[0m\u001b[1;33m\u001b[0m\u001b[0m\n\u001b[1;32m---> 58\u001b[1;33m         \u001b[1;32mreturn\u001b[0m \u001b[0msession\u001b[0m\u001b[1;33m.\u001b[0m\u001b[0mrequest\u001b[0m\u001b[1;33m(\u001b[0m\u001b[0mmethod\u001b[0m\u001b[1;33m=\u001b[0m\u001b[0mmethod\u001b[0m\u001b[1;33m,\u001b[0m \u001b[0murl\u001b[0m\u001b[1;33m=\u001b[0m\u001b[0murl\u001b[0m\u001b[1;33m,\u001b[0m \u001b[1;33m**\u001b[0m\u001b[0mkwargs\u001b[0m\u001b[1;33m)\u001b[0m\u001b[1;33m\u001b[0m\u001b[0m\n\u001b[0m\u001b[0;32m     59\u001b[0m \u001b[1;33m\u001b[0m\u001b[0m\n",
      "\u001b[1;32mC:\\ProgramData\\Anaconda3\\lib\\site-packages\\requests\\sessions.py\u001b[0m in \u001b[0;36mrequest\u001b[1;34m(self, method, url, params, data, headers, cookies, files, auth, timeout, allow_redirects, proxies, hooks, stream, verify, cert, json)\u001b[0m\n\u001b[0;32m    507\u001b[0m         \u001b[0msend_kwargs\u001b[0m\u001b[1;33m.\u001b[0m\u001b[0mupdate\u001b[0m\u001b[1;33m(\u001b[0m\u001b[0msettings\u001b[0m\u001b[1;33m)\u001b[0m\u001b[1;33m\u001b[0m\u001b[0m\n\u001b[1;32m--> 508\u001b[1;33m         \u001b[0mresp\u001b[0m \u001b[1;33m=\u001b[0m \u001b[0mself\u001b[0m\u001b[1;33m.\u001b[0m\u001b[0msend\u001b[0m\u001b[1;33m(\u001b[0m\u001b[0mprep\u001b[0m\u001b[1;33m,\u001b[0m \u001b[1;33m**\u001b[0m\u001b[0msend_kwargs\u001b[0m\u001b[1;33m)\u001b[0m\u001b[1;33m\u001b[0m\u001b[0m\n\u001b[0m\u001b[0;32m    509\u001b[0m \u001b[1;33m\u001b[0m\u001b[0m\n",
      "\u001b[1;32mC:\\ProgramData\\Anaconda3\\lib\\site-packages\\requests\\sessions.py\u001b[0m in \u001b[0;36msend\u001b[1;34m(self, request, **kwargs)\u001b[0m\n\u001b[0;32m    617\u001b[0m         \u001b[1;31m# Send the request\u001b[0m\u001b[1;33m\u001b[0m\u001b[1;33m\u001b[0m\u001b[0m\n\u001b[1;32m--> 618\u001b[1;33m         \u001b[0mr\u001b[0m \u001b[1;33m=\u001b[0m \u001b[0madapter\u001b[0m\u001b[1;33m.\u001b[0m\u001b[0msend\u001b[0m\u001b[1;33m(\u001b[0m\u001b[0mrequest\u001b[0m\u001b[1;33m,\u001b[0m \u001b[1;33m**\u001b[0m\u001b[0mkwargs\u001b[0m\u001b[1;33m)\u001b[0m\u001b[1;33m\u001b[0m\u001b[0m\n\u001b[0m\u001b[0;32m    619\u001b[0m \u001b[1;33m\u001b[0m\u001b[0m\n",
      "\u001b[1;32mC:\\ProgramData\\Anaconda3\\lib\\site-packages\\requests\\adapters.py\u001b[0m in \u001b[0;36msend\u001b[1;34m(self, request, stream, timeout, verify, cert, proxies)\u001b[0m\n\u001b[0;32m    505\u001b[0m                 \u001b[1;31m# This branch is for urllib3 v1.22 and later.\u001b[0m\u001b[1;33m\u001b[0m\u001b[1;33m\u001b[0m\u001b[0m\n\u001b[1;32m--> 506\u001b[1;33m                 \u001b[1;32mraise\u001b[0m \u001b[0mSSLError\u001b[0m\u001b[1;33m(\u001b[0m\u001b[0me\u001b[0m\u001b[1;33m,\u001b[0m \u001b[0mrequest\u001b[0m\u001b[1;33m=\u001b[0m\u001b[0mrequest\u001b[0m\u001b[1;33m)\u001b[0m\u001b[1;33m\u001b[0m\u001b[0m\n\u001b[0m\u001b[0;32m    507\u001b[0m \u001b[1;33m\u001b[0m\u001b[0m\n",
      "\u001b[1;31mSSLError\u001b[0m: HTTPSConnectionPool(host='plot.ly', port=443): Max retries exceeded with url: /clientresp (Caused by SSLError(SSLError(\"bad handshake: Error([('SSL routines', 'ssl3_get_server_certificate', 'certificate verify failed')],)\",),))",
      "\nDuring handling of the above exception, another exception occurred:\n",
      "\u001b[1;31mPlotlyRequestError\u001b[0m                        Traceback (most recent call last)",
      "\u001b[1;32m<ipython-input-82-1cb8279fce69>\u001b[0m in \u001b[0;36m<module>\u001b[1;34m()\u001b[0m\n\u001b[0;32m      1\u001b[0m \u001b[0mfig\u001b[0m \u001b[1;33m=\u001b[0m \u001b[0mgo\u001b[0m\u001b[1;33m.\u001b[0m\u001b[0mFigure\u001b[0m\u001b[1;33m(\u001b[0m\u001b[0mdata\u001b[0m\u001b[1;33m=\u001b[0m\u001b[0mdata\u001b[0m\u001b[1;33m,\u001b[0m \u001b[0mlayout\u001b[0m\u001b[1;33m=\u001b[0m\u001b[0mlayout\u001b[0m\u001b[1;33m)\u001b[0m\u001b[1;33m\u001b[0m\u001b[0m\n\u001b[1;32m----> 2\u001b[1;33m \u001b[0mpy\u001b[0m\u001b[1;33m.\u001b[0m\u001b[0miplot\u001b[0m\u001b[1;33m(\u001b[0m\u001b[0mfig\u001b[0m\u001b[1;33m)\u001b[0m\u001b[1;33m\u001b[0m\u001b[0m\n\u001b[0m",
      "\u001b[1;32mC:\\ProgramData\\Anaconda3\\lib\\site-packages\\plotly\\plotly\\plotly.py\u001b[0m in \u001b[0;36miplot\u001b[1;34m(figure_or_data, **plot_options)\u001b[0m\n\u001b[0;32m    143\u001b[0m     \u001b[1;32mif\u001b[0m \u001b[1;34m'auto_open'\u001b[0m \u001b[1;32mnot\u001b[0m \u001b[1;32min\u001b[0m \u001b[0mplot_options\u001b[0m\u001b[1;33m:\u001b[0m\u001b[1;33m\u001b[0m\u001b[0m\n\u001b[0;32m    144\u001b[0m         \u001b[0mplot_options\u001b[0m\u001b[1;33m[\u001b[0m\u001b[1;34m'auto_open'\u001b[0m\u001b[1;33m]\u001b[0m \u001b[1;33m=\u001b[0m \u001b[1;32mFalse\u001b[0m\u001b[1;33m\u001b[0m\u001b[0m\n\u001b[1;32m--> 145\u001b[1;33m     \u001b[0murl\u001b[0m \u001b[1;33m=\u001b[0m \u001b[0mplot\u001b[0m\u001b[1;33m(\u001b[0m\u001b[0mfigure_or_data\u001b[0m\u001b[1;33m,\u001b[0m \u001b[1;33m**\u001b[0m\u001b[0mplot_options\u001b[0m\u001b[1;33m)\u001b[0m\u001b[1;33m\u001b[0m\u001b[0m\n\u001b[0m\u001b[0;32m    146\u001b[0m \u001b[1;33m\u001b[0m\u001b[0m\n\u001b[0;32m    147\u001b[0m     \u001b[1;32mif\u001b[0m \u001b[0misinstance\u001b[0m\u001b[1;33m(\u001b[0m\u001b[0mfigure_or_data\u001b[0m\u001b[1;33m,\u001b[0m \u001b[0mdict\u001b[0m\u001b[1;33m)\u001b[0m\u001b[1;33m:\u001b[0m\u001b[1;33m\u001b[0m\u001b[0m\n",
      "\u001b[1;32mC:\\ProgramData\\Anaconda3\\lib\\site-packages\\plotly\\plotly\\plotly.py\u001b[0m in \u001b[0;36mplot\u001b[1;34m(figure_or_data, validate, **plot_options)\u001b[0m\n\u001b[0;32m    240\u001b[0m     \u001b[0mdata\u001b[0m \u001b[1;33m=\u001b[0m \u001b[0mfig\u001b[0m\u001b[1;33m.\u001b[0m\u001b[0mget\u001b[0m\u001b[1;33m(\u001b[0m\u001b[1;34m'data'\u001b[0m\u001b[1;33m,\u001b[0m \u001b[1;33m[\u001b[0m\u001b[1;33m]\u001b[0m\u001b[1;33m)\u001b[0m\u001b[1;33m\u001b[0m\u001b[0m\n\u001b[0;32m    241\u001b[0m     \u001b[0mplot_options\u001b[0m\u001b[1;33m[\u001b[0m\u001b[1;34m'layout'\u001b[0m\u001b[1;33m]\u001b[0m \u001b[1;33m=\u001b[0m \u001b[0mfig\u001b[0m\u001b[1;33m.\u001b[0m\u001b[0mget\u001b[0m\u001b[1;33m(\u001b[0m\u001b[1;34m'layout'\u001b[0m\u001b[1;33m,\u001b[0m \u001b[1;33m{\u001b[0m\u001b[1;33m}\u001b[0m\u001b[1;33m)\u001b[0m\u001b[1;33m\u001b[0m\u001b[0m\n\u001b[1;32m--> 242\u001b[1;33m     \u001b[0mresponse\u001b[0m \u001b[1;33m=\u001b[0m \u001b[0mv1\u001b[0m\u001b[1;33m.\u001b[0m\u001b[0mclientresp\u001b[0m\u001b[1;33m(\u001b[0m\u001b[0mdata\u001b[0m\u001b[1;33m,\u001b[0m \u001b[1;33m**\u001b[0m\u001b[0mplot_options\u001b[0m\u001b[1;33m)\u001b[0m\u001b[1;33m\u001b[0m\u001b[0m\n\u001b[0m\u001b[0;32m    243\u001b[0m \u001b[1;33m\u001b[0m\u001b[0m\n\u001b[0;32m    244\u001b[0m     \u001b[1;31m# Check if the url needs a secret key\u001b[0m\u001b[1;33m\u001b[0m\u001b[1;33m\u001b[0m\u001b[0m\n",
      "\u001b[1;32mC:\\ProgramData\\Anaconda3\\lib\\site-packages\\plotly\\api\\v1\\clientresp.py\u001b[0m in \u001b[0;36mclientresp\u001b[1;34m(data, **kwargs)\u001b[0m\n\u001b[0;32m     33\u001b[0m \u001b[1;33m\u001b[0m\u001b[0m\n\u001b[0;32m     34\u001b[0m     \u001b[0murl\u001b[0m \u001b[1;33m=\u001b[0m \u001b[1;34m'{plotly_domain}/clientresp'\u001b[0m\u001b[1;33m.\u001b[0m\u001b[0mformat\u001b[0m\u001b[1;33m(\u001b[0m\u001b[1;33m**\u001b[0m\u001b[0mcfg\u001b[0m\u001b[1;33m)\u001b[0m\u001b[1;33m\u001b[0m\u001b[0m\n\u001b[1;32m---> 35\u001b[1;33m     \u001b[0mresponse\u001b[0m \u001b[1;33m=\u001b[0m \u001b[0mrequest\u001b[0m\u001b[1;33m(\u001b[0m\u001b[1;34m'post'\u001b[0m\u001b[1;33m,\u001b[0m \u001b[0murl\u001b[0m\u001b[1;33m,\u001b[0m \u001b[0mdata\u001b[0m\u001b[1;33m=\u001b[0m\u001b[0mpayload\u001b[0m\u001b[1;33m)\u001b[0m\u001b[1;33m\u001b[0m\u001b[0m\n\u001b[0m\u001b[0;32m     36\u001b[0m \u001b[1;33m\u001b[0m\u001b[0m\n\u001b[0;32m     37\u001b[0m     \u001b[1;31m# Old functionality, just keeping it around.\u001b[0m\u001b[1;33m\u001b[0m\u001b[1;33m\u001b[0m\u001b[0m\n",
      "\u001b[1;32mC:\\ProgramData\\Anaconda3\\lib\\site-packages\\plotly\\api\\v1\\utils.py\u001b[0m in \u001b[0;36mrequest\u001b[1;34m(method, url, **kwargs)\u001b[0m\n\u001b[0;32m     83\u001b[0m         \u001b[0mstatus_code\u001b[0m \u001b[1;33m=\u001b[0m \u001b[0mresponse\u001b[0m\u001b[1;33m.\u001b[0m\u001b[0mstatus_code\u001b[0m \u001b[1;32mif\u001b[0m \u001b[0mresponse\u001b[0m \u001b[1;32melse\u001b[0m \u001b[1;32mNone\u001b[0m\u001b[1;33m\u001b[0m\u001b[0m\n\u001b[0;32m     84\u001b[0m         \u001b[0mcontent\u001b[0m \u001b[1;33m=\u001b[0m \u001b[0mresponse\u001b[0m\u001b[1;33m.\u001b[0m\u001b[0mcontent\u001b[0m \u001b[1;32mif\u001b[0m \u001b[0mresponse\u001b[0m \u001b[1;32melse\u001b[0m \u001b[1;34m'No content'\u001b[0m\u001b[1;33m\u001b[0m\u001b[0m\n\u001b[1;32m---> 85\u001b[1;33m         \u001b[1;32mraise\u001b[0m \u001b[0mexceptions\u001b[0m\u001b[1;33m.\u001b[0m\u001b[0mPlotlyRequestError\u001b[0m\u001b[1;33m(\u001b[0m\u001b[0mmessage\u001b[0m\u001b[1;33m,\u001b[0m \u001b[0mstatus_code\u001b[0m\u001b[1;33m,\u001b[0m \u001b[0mcontent\u001b[0m\u001b[1;33m)\u001b[0m\u001b[1;33m\u001b[0m\u001b[0m\n\u001b[0m\u001b[0;32m     86\u001b[0m     \u001b[0mvalidate_response\u001b[0m\u001b[1;33m(\u001b[0m\u001b[0mresponse\u001b[0m\u001b[1;33m)\u001b[0m\u001b[1;33m\u001b[0m\u001b[0m\n\u001b[0;32m     87\u001b[0m     \u001b[1;32mreturn\u001b[0m \u001b[0mresponse\u001b[0m\u001b[1;33m\u001b[0m\u001b[0m\n",
      "\u001b[1;31mPlotlyRequestError\u001b[0m: No message"
     ]
    }
   ],
   "source": [
    "fig = go.Figure(data=data, layout=layout)\n",
    "py.iplot(fig)"
   ]
  },
  {
   "cell_type": "code",
   "execution_count": null,
   "metadata": {},
   "outputs": [],
   "source": []
  }
 ],
 "metadata": {
  "kernelspec": {
   "display_name": "Python 3",
   "language": "python",
   "name": "python3"
  },
  "language_info": {
   "codemirror_mode": {
    "name": "ipython",
    "version": 3
   },
   "file_extension": ".py",
   "mimetype": "text/x-python",
   "name": "python",
   "nbconvert_exporter": "python",
   "pygments_lexer": "ipython3",
   "version": "3.6.4"
  }
 },
 "nbformat": 4,
 "nbformat_minor": 2
}
