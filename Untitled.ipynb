{
 "cells": [
  {
   "cell_type": "code",
   "execution_count": 1,
   "metadata": {},
   "outputs": [],
   "source": [
    "import numpy as np"
   ]
  },
  {
   "cell_type": "code",
   "execution_count": 4,
   "metadata": {},
   "outputs": [],
   "source": [
    "perm_reps = np.empty(10)"
   ]
  },
  {
   "cell_type": "code",
   "execution_count": 5,
   "metadata": {},
   "outputs": [
    {
     "data": {
      "text/plain": [
       "array([6.23042070e-307, 3.56043053e-307, 1.60219306e-306, 7.56571288e-307,\n",
       "       1.89146896e-307, 1.37961302e-306, 1.05699242e-307, 8.01097889e-307,\n",
       "       1.42418987e-306, 9.34604358e-307])"
      ]
     },
     "execution_count": 5,
     "metadata": {},
     "output_type": "execute_result"
    }
   ],
   "source": [
    "perm_reps"
   ]
  },
  {
   "cell_type": "code",
   "execution_count": 6,
   "metadata": {},
   "outputs": [],
   "source": [
    "#I just created a simple x dataset\n",
    "x = [1,2,3,4,5,6,7]"
   ]
  },
  {
   "cell_type": "code",
   "execution_count": 7,
   "metadata": {},
   "outputs": [],
   "source": [
    "#I just created a simple x dataset\n",
    "y = [7,8,9,10,11,12,13]"
   ]
  },
  {
   "cell_type": "code",
   "execution_count": 11,
   "metadata": {},
   "outputs": [
    {
     "name": "stdout",
     "output_type": "stream",
     "text": [
      "[6.23042070e-307 3.56043053e-307 1.60219306e-306 7.56571288e-307\n",
      " 1.89146896e-307 1.37961302e-306 1.05699242e-307 8.01097889e-307\n",
      " 1.42418987e-306 9.34604358e-307]\n"
     ]
    }
   ],
   "source": [
    "#lets create a simple per_replicate for x\n",
    "perm_replicate = np.empty(10)\n",
    "print(perm_replicate)"
   ]
  },
  {
   "cell_type": "code",
   "execution_count": 13,
   "metadata": {},
   "outputs": [
    {
     "name": "stdout",
     "output_type": "stream",
     "text": [
      "[7 4 5 2 1 3 6]\n"
     ]
    }
   ],
   "source": [
    "#let's create a permutation for x\n",
    "x_permuted = np.random.permutation(x)\n",
    "print(x_permuted)"
   ]
  },
  {
   "cell_type": "code",
   "execution_count": 14,
   "metadata": {},
   "outputs": [
    {
     "name": "stdout",
     "output_type": "stream",
     "text": [
      "[3 4 5 6 1 7 2]\n",
      "[7 6 1 5 2 3 4]\n",
      "[3 6 4 1 7 2 5]\n",
      "[3 6 2 1 5 4 7]\n",
      "[2 3 5 4 6 7 1]\n"
     ]
    }
   ],
   "source": [
    "#now lets do it 5 times\n",
    "for i in range (5):\n",
    "    x_permuted = np.random.permutation(x)\n",
    "    print(x_permuted)"
   ]
  },
  {
   "cell_type": "code",
   "execution_count": null,
   "metadata": {},
   "outputs": [],
   "source": []
  }
 ],
 "metadata": {
  "kernelspec": {
   "display_name": "Python 3",
   "language": "python",
   "name": "python3"
  },
  "language_info": {
   "codemirror_mode": {
    "name": "ipython",
    "version": 3
   },
   "file_extension": ".py",
   "mimetype": "text/x-python",
   "name": "python",
   "nbconvert_exporter": "python",
   "pygments_lexer": "ipython3",
   "version": "3.6.4"
  }
 },
 "nbformat": 4,
 "nbformat_minor": 2
}
